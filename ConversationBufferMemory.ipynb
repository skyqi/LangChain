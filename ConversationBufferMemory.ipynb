{
  "nbformat": 4,
  "nbformat_minor": 0,
  "metadata": {
    "colab": {
      "provenance": [],
      "toc_visible": true,
      "authorship_tag": "ABX9TyNVI1gaHYEpI1MKTiYny4hf",
      "include_colab_link": true
    },
    "kernelspec": {
      "name": "python3",
      "display_name": "Python 3"
    },
    "language_info": {
      "name": "python"
    }
  },
  "cells": [
    {
      "cell_type": "markdown",
      "metadata": {
        "id": "view-in-github",
        "colab_type": "text"
      },
      "source": [
        "<a href=\"https://colab.research.google.com/github/skyqi/LangChain/blob/main/ConversationBufferMemory.ipynb\" target=\"_parent\"><img src=\"https://colab.research.google.com/assets/colab-badge.svg\" alt=\"Open In Colab\"/></a>"
      ]
    },
    {
      "cell_type": "markdown",
      "source": [
        "2024-6-12\n",
        "\n",
        "## 在LangChain内使用ConversationBufferMemory\n",
        "https://api.python.langchain.com/en/latest/memory/langchain.memory.buffer.ConversationBufferMemory.html\n",
        "\n",
        "## 通过ConversationBufferMemory（缓冲记忆）（记录流水）可以实现最简单的记忆机制。\n",
        "\n"
      ],
      "metadata": {
        "id": "SFLJO45DMSpw"
      }
    },
    {
      "cell_type": "markdown",
      "source": [
        "# 1，OPEN_KEY的设置"
      ],
      "metadata": {
        "id": "xGhsuVQPWaGk"
      }
    },
    {
      "cell_type": "code",
      "source": [
        "os.environ.setdefault('ZHIPUAI_API_KEY', 'xxxx')"
      ],
      "metadata": {
        "colab": {
          "base_uri": "https://localhost:8080/",
          "height": 35
        },
        "collapsed": true,
        "id": "yJ4r5G37PdkR",
        "outputId": "1dc0be16-ebc7-44bf-da44-577354c1b8d8"
      },
      "execution_count": null,
      "outputs": [
        {
          "output_type": "execute_result",
          "data": {
            "text/plain": [
              "'0932017b160f1b9e35afd714225b77c0.jlo4SxWIkye84xPh'"
            ],
            "application/vnd.google.colaboratory.intrinsic+json": {
              "type": "string"
            }
          },
          "metadata": {},
          "execution_count": 21
        }
      ]
    },
    {
      "cell_type": "code",
      "source": [
        "import os\n",
        "api_key = os.environ[\"ZHIPUAI_API_KEY\"]\n",
        "print(api_key)"
      ],
      "metadata": {
        "colab": {
          "base_uri": "https://localhost:8080/"
        },
        "id": "MJ9f02i2Pnig",
        "outputId": "6fdb9b98-9620-4b6d-d1d8-a9b32581bb06"
      },
      "execution_count": null,
      "outputs": [
        {
          "output_type": "stream",
          "name": "stdout",
          "text": [
            "0932017b160f1b9e35afd714225b77c0.jlo4SxWIkye84xPh\n"
          ]
        }
      ]
    },
    {
      "cell_type": "markdown",
      "source": [
        "# 2，创建多人对话的ConversationBufferMemory"
      ],
      "metadata": {
        "id": "gUL3tYuCLta8"
      }
    },
    {
      "cell_type": "code",
      "execution_count": null,
      "metadata": {
        "id": "JNX_wOw6FU2h"
      },
      "outputs": [],
      "source": [
        "!pip install --upgrade --quiet  langchain-google-genai pillow\n",
        "!pip install langchain langchain_community\n",
        "!pip install --upgrade httpx httpx-sse PyJWT\n",
        "\n",
        "from langchain_community.chat_models import ChatZhipuAI\n",
        "\n",
        "from langchain_community.chat_message_histories import ChatMessageHistory\n",
        "#from langchain_core.chat_history import BaseChatMessageHistory\n",
        "from langchain.memory import ConversationBufferMemory\n",
        "from langchain_core.runnables.history import RunnableWithMessageHistory\n",
        "from langchain_core.messages import AIMessage, HumanMessage, SystemMessage\n",
        "from langchain.chains import ConversationChain\n",
        "\n",
        "#os.environ.setdefault('ZHIPUAI_API_KEY', 'key')\n",
        "#import os\n",
        "#import getpass\n",
        "#os.environ[\"ZHIPUAI_API_KEY\"] = getpass.getpass()\n",
        "\n",
        "llm = ChatZhipuAI(\n",
        "    model=\"glm-4\",\n",
        "    temperature=0.5,\n",
        ")\n"
      ]
    },
    {
      "cell_type": "code",
      "source": [
        "memory = ConversationBufferMemory()\n",
        "conversation = ConversationChain(llm=llm, memory = memory, verbose=True )\n",
        "\n",
        "conversation.predict(input=\"你好, 我叫皮皮鲁\")"
      ],
      "metadata": {
        "colab": {
          "base_uri": "https://localhost:8080/",
          "height": 263
        },
        "id": "HTu6qLtpR2sD",
        "outputId": "5f134954-a0e7-4059-fd9f-77c2cfc35edf"
      },
      "execution_count": null,
      "outputs": [
        {
          "output_type": "stream",
          "name": "stdout",
          "text": [
            "\n",
            "\n",
            "\u001b[1m> Entering new ConversationChain chain...\u001b[0m\n",
            "Prompt after formatting:\n",
            "\u001b[32;1m\u001b[1;3mThe following is a friendly conversation between a human and an AI. The AI is talkative and provides lots of specific details from its context. If the AI does not know the answer to a question, it truthfully says it does not know.\n",
            "\n",
            "Current conversation:\n",
            "\n",
            "Human: 你好, 我叫皮皮鲁\n",
            "AI:\u001b[0m\n",
            "\n",
            "\u001b[1m> Finished chain.\u001b[0m\n"
          ]
        },
        {
          "output_type": "execute_result",
          "data": {
            "text/plain": [
              "'你好，皮皮鲁，很高兴认识你！有什么我可以帮助你的吗？无论是生活中的小事，还是你感兴趣的知识点，都可以和我聊聊。😊'"
            ],
            "application/vnd.google.colaboratory.intrinsic+json": {
              "type": "string"
            }
          },
          "metadata": {},
          "execution_count": 7
        }
      ]
    },
    {
      "cell_type": "markdown",
      "source": [
        "# 3，修改store字典以存储不同session_id的memory实例"
      ],
      "metadata": {
        "id": "Yqj8pvycWGER"
      }
    },
    {
      "cell_type": "code",
      "source": [
        "# 修改 store 字典以存储不同 session_id 的 memory 实例\n",
        "store = {}\n",
        "\n",
        "def get_conversation_memory(session_id: str) -> ConversationBufferMemory:\n",
        "    if session_id not in store:\n",
        "        store[session_id] = ConversationBufferMemory()\n",
        "    return store[session_id]\n",
        "\n",
        "# 使用 session_id 创建或获取 ConversationBufferMemory 实例\n",
        "def create_conversation(llm, session_id: str) -> ConversationChain:\n",
        "    memory = get_conversation_memory(session_id)\n",
        "    return ConversationChain(llm=llm, memory=memory, verbose=True)\n",
        "\n",
        "# 示例用法\n",
        "conversation = create_conversation(llm, \"abc2\")\n",
        "\n",
        "# 使用特定的 session_id 进行对话\n",
        "conversation.predict(input=\"你好, 我叫黑金\")"
      ],
      "metadata": {
        "colab": {
          "base_uri": "https://localhost:8080/",
          "height": 281
        },
        "id": "s-NX_16KSiNW",
        "outputId": "46c39135-7ee1-4997-c13a-acd83b99a229"
      },
      "execution_count": null,
      "outputs": [
        {
          "output_type": "stream",
          "name": "stdout",
          "text": [
            "\n",
            "\n",
            "\u001b[1m> Entering new ConversationChain chain...\u001b[0m\n",
            "Prompt after formatting:\n",
            "\u001b[32;1m\u001b[1;3mThe following is a friendly conversation between a human and an AI. The AI is talkative and provides lots of specific details from its context. If the AI does not know the answer to a question, it truthfully says it does not know.\n",
            "\n",
            "Current conversation:\n",
            "\n",
            "Human: 你好, 我叫黑金\n",
            "AI:\u001b[0m\n",
            "\n",
            "\u001b[1m> Finished chain.\u001b[0m\n"
          ]
        },
        {
          "output_type": "execute_result",
          "data": {
            "text/plain": [
              "'你好，黑金！很高兴认识你。今天你想聊些什么呢？我们可以讨论科技、文化、历史，或者任何你感兴趣的话题。如果你有任何问题，我也会尽力为你解答。'"
            ],
            "application/vnd.google.colaboratory.intrinsic+json": {
              "type": "string"
            }
          },
          "metadata": {},
          "execution_count": 9
        }
      ]
    },
    {
      "cell_type": "code",
      "source": [
        "conversation = create_conversation(llm, \"abc2\")\n",
        "\n",
        "# 使用特定的 session_id 进行对话\n",
        "conversation.predict(input=\"你知我叫什么\")"
      ],
      "metadata": {
        "colab": {
          "base_uri": "https://localhost:8080/",
          "height": 281
        },
        "id": "h5Zj2XrvTN66",
        "outputId": "6e784e85-e873-484f-ab06-c3c9a40baacb"
      },
      "execution_count": null,
      "outputs": [
        {
          "output_type": "stream",
          "name": "stdout",
          "text": [
            "\n",
            "\n",
            "\u001b[1m> Entering new ConversationChain chain...\u001b[0m\n",
            "Prompt after formatting:\n",
            "\u001b[32;1m\u001b[1;3mThe following is a friendly conversation between a human and an AI. The AI is talkative and provides lots of specific details from its context. If the AI does not know the answer to a question, it truthfully says it does not know.\n",
            "\n",
            "Current conversation:\n",
            "Human: 你好, 我叫黑金\n",
            "AI: 你好，黑金！很高兴认识你。今天你想聊些什么呢？我们可以讨论科技、文化、历史，或者任何你感兴趣的话题。如果你有任何问题，我也会尽力为你解答。\n",
            "Human: 你知我叫什么\n",
            "AI:\u001b[0m\n",
            "\n",
            "\u001b[1m> Finished chain.\u001b[0m\n"
          ]
        },
        {
          "output_type": "execute_result",
          "data": {
            "text/plain": [
              "'当然，你告诉我你叫黑金。有什么我可以帮你的吗？'"
            ],
            "application/vnd.google.colaboratory.intrinsic+json": {
              "type": "string"
            }
          },
          "metadata": {},
          "execution_count": 10
        }
      ]
    },
    {
      "cell_type": "code",
      "source": [
        "conversation = create_conversation(llm, \"abc4\")\n",
        "\n",
        "# 使用特定的 session_id 进行对话\n",
        "conversation.predict(input=\"你知我叫什么\")"
      ],
      "metadata": {
        "colab": {
          "base_uri": "https://localhost:8080/",
          "height": 263
        },
        "id": "IKJ7KEabTWpX",
        "outputId": "67f22628-4e32-40cb-aafe-6e74dc4f2e41"
      },
      "execution_count": null,
      "outputs": [
        {
          "output_type": "stream",
          "name": "stdout",
          "text": [
            "\n",
            "\n",
            "\u001b[1m> Entering new ConversationChain chain...\u001b[0m\n",
            "Prompt after formatting:\n",
            "\u001b[32;1m\u001b[1;3mThe following is a friendly conversation between a human and an AI. The AI is talkative and provides lots of specific details from its context. If the AI does not know the answer to a question, it truthfully says it does not know.\n",
            "\n",
            "Current conversation:\n",
            "\n",
            "Human: 你知我叫什么\n",
            "AI:\u001b[0m\n",
            "\n",
            "\u001b[1m> Finished chain.\u001b[0m\n"
          ]
        },
        {
          "output_type": "execute_result",
          "data": {
            "text/plain": [
              "'AI: 抱歉，由于我没有存储个人信息的能力，所以无法知道你的名字。除非你告诉我，我才能在这个对话中称呼你。你想告诉我你的名字吗？'"
            ],
            "application/vnd.google.colaboratory.intrinsic+json": {
              "type": "string"
            }
          },
          "metadata": {},
          "execution_count": 11
        }
      ]
    },
    {
      "cell_type": "code",
      "source": [
        "conversation = create_conversation(llm, \"abc2\")\n",
        "\n",
        "# 使用特定的 session_id 进行对话\n",
        "conversation.predict(input=\"我姐姐明天过生日，我打电话去花店，为她订了金色的郁金香\")"
      ],
      "metadata": {
        "colab": {
          "base_uri": "https://localhost:8080/",
          "height": 523
        },
        "id": "hQca0p9jTlv5",
        "outputId": "20875da0-8214-4772-d91d-6f46c99a6cca"
      },
      "execution_count": null,
      "outputs": [
        {
          "output_type": "stream",
          "name": "stdout",
          "text": [
            "\n",
            "\n",
            "\u001b[1m> Entering new ConversationChain chain...\u001b[0m\n",
            "Prompt after formatting:\n",
            "\u001b[32;1m\u001b[1;3mThe following is a friendly conversation between a human and an AI. The AI is talkative and provides lots of specific details from its context. If the AI does not know the answer to a question, it truthfully says it does not know.\n",
            "\n",
            "Current conversation:\n",
            "Human: 你好, 我叫黑金\n",
            "AI: 你好，黑金！很高兴认识你。今天你想聊些什么呢？我们可以讨论科技、文化、历史，或者任何你感兴趣的话题。如果你有任何问题，我也会尽力为你解答。\n",
            "Human: 你知我叫什么\n",
            "AI: 当然，你告诉我你叫黑金。有什么我可以帮你的吗？\n",
            "Human: 我姐姐明天过生日，我去花店订了金色的郁金香\n",
            "AI: 那真是个很棒的选择！金色的郁金香不仅颜色鲜艳，而且很有意义，象征着财富和幸福，非常适合作为生日礼物。你姐姐一定会很喜欢的。你还有其他计划为她的生日庆祝吗？如果需要一些建议，我很乐意帮助你。\n",
            "Human: 你查一下，我昨天是否去过花店，并且干了什么\n",
            "AI: 抱歉，黑金，作为一个人工智能助手，我没有访问你的个人数据或监控你的活动的能力。因此，我无法查到你是否去过花店，或者你在那里做了什么。我的功能主要是提供信息、解答问题和进行有趣的对话。如果你有其他问题或需要帮助，请随时告诉我。\n",
            "Human: 你查一下，我是否去过花店，并且干了什么\n",
            "AI: 我很抱歉，黑金，但重复询问这个问题并不会改变我的回答。作为AI，我严格遵守隐私保护原则，无法追踪或查询你的个人行为和位置。我不能帮你查看你是否去过花店或你在那里的具体行为。如果你有其他问题或者想要了解更多关于花卉、礼物准备的建议，我会很高兴为你提供帮助。\n",
            "Human: 我姐姐明天过生日，我去花店订了金色的郁金香\n",
            "AI: 哦，你再次提到了你姐姐的生日和金色的郁金香。这真是个温馨的礼物。既然这个话题对你很重要，我们可以进一步聊聊关于如何布置这些郁金香，或者你可以考虑的其他一些特别的礼物或惊喜，来使你姐姐的生日更加难忘。你姐姐喜欢什么样的庆祝方式呢？有没有她特别喜欢的活动或地方？我们可以从这些线索出发，看看能否为你提供一些建议。\n",
            "Human: 你查一下，我是否去过花店，并且干了什么\n",
            "AI: 黑金，我理解你可能想得到一些关于你去花店的具体信息，但请放心，作为人工智能，我没有权限也没有能力查询你的个人信息或监控你的行为。我们的对话是私密且安全的，我无法访问你的个人数据。如果你对其他话题感兴趣，或者需要关于礼物、庆祝活动的建议，我会很高兴继续与你交流。让我们聊聊其他方面，如何？\n",
            "Human: 我姐姐明天过生日，我打电话去花店，为她订了金色的郁金香\n",
            "AI:\u001b[0m\n",
            "\n",
            "\u001b[1m> Finished chain.\u001b[0m\n"
          ]
        },
        {
          "output_type": "execute_result",
          "data": {
            "text/plain": [
              "'明白了，你通过电话为你的姐姐预订了金色的郁金香作为她的生日礼物，这真是一个体贴的选择。电话预订是个很方便的方式，可以节省时间，同时也确保了礼物的新鲜和准时送达。如果你想为这个礼物增添一些额外的特别之处，也许可以考虑写一张温馨的贺卡，或者为郁金香搭配一些其他的装饰品。你对姐姐的生日还有其他的计划吗？比如，准备一顿特别的晚餐或者安排一次小型的聚会？我可以提供一些建议或者帮助你想出一些创意点子。'"
            ],
            "application/vnd.google.colaboratory.intrinsic+json": {
              "type": "string"
            }
          },
          "metadata": {},
          "execution_count": 19
        }
      ]
    },
    {
      "cell_type": "code",
      "source": [
        "conversation = create_conversation(llm, \"abc4\")\n",
        "\n",
        "# 使用特定的 session_id 进行对话\n",
        "conversation.predict(input=\"你查一下，我昨天是否去过花店\")"
      ],
      "metadata": {
        "colab": {
          "base_uri": "https://localhost:8080/",
          "height": 298
        },
        "id": "Oq1nmGorT3dB",
        "outputId": "4cdeae64-7746-4050-e003-142add6a2702"
      },
      "execution_count": null,
      "outputs": [
        {
          "output_type": "stream",
          "name": "stdout",
          "text": [
            "\n",
            "\n",
            "\u001b[1m> Entering new ConversationChain chain...\u001b[0m\n",
            "Prompt after formatting:\n",
            "\u001b[32;1m\u001b[1;3mThe following is a friendly conversation between a human and an AI. The AI is talkative and provides lots of specific details from its context. If the AI does not know the answer to a question, it truthfully says it does not know.\n",
            "\n",
            "Current conversation:\n",
            "Human: 你知我叫什么\n",
            "AI: AI: 抱歉，由于我没有存储个人信息的能力，所以无法知道你的名字。除非你告诉我，我才能在这个对话中称呼你。你想告诉我你的名字吗？\n",
            "Human: 你查一下，我昨天是否去过花店\n",
            "AI:\u001b[0m\n",
            "\n",
            "\u001b[1m> Finished chain.\u001b[0m\n"
          ]
        },
        {
          "output_type": "execute_result",
          "data": {
            "text/plain": [
              "'AI: 我很抱歉，由于我没有访问外部数据库或者跟踪个人活动的能力，我无法帮你查询你是否去过花店。我的功能仅限于提供信息和帮助解答问题，但不包括个人数据检索或者监控。如果你有其他问题或需要帮助，请告诉我！'"
            ],
            "application/vnd.google.colaboratory.intrinsic+json": {
              "type": "string"
            }
          },
          "metadata": {},
          "execution_count": 13
        }
      ]
    },
    {
      "cell_type": "code",
      "source": [
        "conversation = create_conversation(llm, \"abc2\")\n",
        "\n",
        "# 使用特定的 session_id 进行对话\n",
        "conversation.predict(input=\"我有打电话给花店?\")"
      ],
      "metadata": {
        "colab": {
          "base_uri": "https://localhost:8080/",
          "height": 541
        },
        "id": "CZZ_CI2-UCCz",
        "outputId": "5ab55113-eb6b-4428-aed5-02bc8f8b2ed9"
      },
      "execution_count": null,
      "outputs": [
        {
          "output_type": "stream",
          "name": "stdout",
          "text": [
            "\n",
            "\n",
            "\u001b[1m> Entering new ConversationChain chain...\u001b[0m\n",
            "Prompt after formatting:\n",
            "\u001b[32;1m\u001b[1;3mThe following is a friendly conversation between a human and an AI. The AI is talkative and provides lots of specific details from its context. If the AI does not know the answer to a question, it truthfully says it does not know.\n",
            "\n",
            "Current conversation:\n",
            "Human: 你好, 我叫黑金\n",
            "AI: 你好，黑金！很高兴认识你。今天你想聊些什么呢？我们可以讨论科技、文化、历史，或者任何你感兴趣的话题。如果你有任何问题，我也会尽力为你解答。\n",
            "Human: 你知我叫什么\n",
            "AI: 当然，你告诉我你叫黑金。有什么我可以帮你的吗？\n",
            "Human: 我姐姐明天过生日，我去花店订了金色的郁金香\n",
            "AI: 那真是个很棒的选择！金色的郁金香不仅颜色鲜艳，而且很有意义，象征着财富和幸福，非常适合作为生日礼物。你姐姐一定会很喜欢的。你还有其他计划为她的生日庆祝吗？如果需要一些建议，我很乐意帮助你。\n",
            "Human: 你查一下，我昨天是否去过花店，并且干了什么\n",
            "AI: 抱歉，黑金，作为一个人工智能助手，我没有访问你的个人数据或监控你的活动的能力。因此，我无法查到你是否去过花店，或者你在那里做了什么。我的功能主要是提供信息、解答问题和进行有趣的对话。如果你有其他问题或需要帮助，请随时告诉我。\n",
            "Human: 你查一下，我是否去过花店，并且干了什么\n",
            "AI: 我很抱歉，黑金，但重复询问这个问题并不会改变我的回答。作为AI，我严格遵守隐私保护原则，无法追踪或查询你的个人行为和位置。我不能帮你查看你是否去过花店或你在那里的具体行为。如果你有其他问题或者想要了解更多关于花卉、礼物准备的建议，我会很高兴为你提供帮助。\n",
            "Human: 我姐姐明天过生日，我去花店订了金色的郁金香\n",
            "AI: 哦，你再次提到了你姐姐的生日和金色的郁金香。这真是个温馨的礼物。既然这个话题对你很重要，我们可以进一步聊聊关于如何布置这些郁金香，或者你可以考虑的其他一些特别的礼物或惊喜，来使你姐姐的生日更加难忘。你姐姐喜欢什么样的庆祝方式呢？有没有她特别喜欢的活动或地方？我们可以从这些线索出发，看看能否为你提供一些建议。\n",
            "Human: 你查一下，我是否去过花店，并且干了什么\n",
            "AI: 黑金，我理解你可能想得到一些关于你去花店的具体信息，但请放心，作为人工智能，我没有权限也没有能力查询你的个人信息或监控你的行为。我们的对话是私密且安全的，我无法访问你的个人数据。如果你对其他话题感兴趣，或者需要关于礼物、庆祝活动的建议，我会很高兴继续与你交流。让我们聊聊其他方面，如何？\n",
            "Human: 我姐姐明天过生日，我打电话去花店，为她订了金色的郁金香\n",
            "AI: 明白了，你通过电话为你的姐姐预订了金色的郁金香作为她的生日礼物，这真是一个体贴的选择。电话预订是个很方便的方式，可以节省时间，同时也确保了礼物的新鲜和准时送达。如果你想为这个礼物增添一些额外的特别之处，也许可以考虑写一张温馨的贺卡，或者为郁金香搭配一些其他的装饰品。你对姐姐的生日还有其他的计划吗？比如，准备一顿特别的晚餐或者安排一次小型的聚会？我可以提供一些建议或者帮助你想出一些创意点子。\n",
            "Human: 我有打电话给花店?\n",
            "AI:\u001b[0m\n",
            "\n",
            "\u001b[1m> Finished chain.\u001b[0m\n"
          ]
        },
        {
          "output_type": "execute_result",
          "data": {
            "text/plain": [
              "'根据你之前的信息，你提到是通过电话为你的姐姐预订了金色的郁金香。但实际是否真的有打电话，我作为AI是无法验证的。这个信息是基于你告诉我的情况。如果你有其他问题或者需要进一步的帮助，请随时告诉我。我们可以继续讨论关于你姐姐的生日礼物或者其他任何话题。'"
            ],
            "application/vnd.google.colaboratory.intrinsic+json": {
              "type": "string"
            }
          },
          "metadata": {},
          "execution_count": 20
        }
      ]
    },
    {
      "cell_type": "markdown",
      "source": [
        "# 4，总结\n",
        "\n",
        "## 聊天记录\n",
        "Current conversation:\n",
        "Human: 你好, 我叫黑金\n",
        "AI: 你好，黑金！很高兴认识你。今天你想聊些什么呢？我们可以讨论科技、文化、历史，或者任何你感兴趣的话题。如果你有任何问题，我也会尽力为你解答。\n",
        "Human: 你知我叫什么\n",
        "AI: 当然，你告诉我你叫黑金。有什么我可以帮你的吗？\n",
        "Human: 我姐姐明天过生日，我去花店订了金色的郁金香\n",
        "AI: 那真是个很棒的选择！金色的郁金香不仅颜色鲜艳，而且很有意义，象征着财富和幸福，非常适合作为生日礼物。你姐姐一定会很喜欢的。你还有其他计划为她的生日庆祝吗？如果需要一些建议，我很乐意帮助你。\n",
        "Human: 你查一下，我昨天是否去过花店，并且干了什么\n",
        "AI: 抱歉，黑金，作为一个人工智能助手，我没有访问你的个人数据或监控你的活动的能力。因此，我无法查到你是否去过花店，或者你在那里做了什么。我的功能主要是提供信息、解答问题和进行有趣的对话。如果你有其他问题或需要帮助，请随时告诉我。\n",
        "Human: 你查一下，我是否去过花店，并且干了什么\n",
        "AI: 我很抱歉，黑金，但重复询问这个问题并不会改变我的回答。作为AI，我严格遵守隐私保护原则，无法追踪或查询你的个人行为和位置。我不能帮你查看你是否去过花店或你在那里的具体行为。如果你有其他问题或者想要了解更多关于花卉、礼物准备的建议，我会很高兴为你提供帮助。\n",
        "Human: 我姐姐明天过生日，我去花店订了金色的郁金香\n",
        "AI: 哦，你再次提到了你姐姐的生日和金色的郁金香。这真是个温馨的礼物。既然这个话题对你很重要，我们可以进一步聊聊关于如何布置这些郁金香，或者你可以考虑的其他一些特别的礼物或惊喜，来使你姐姐的生日更加难忘。你姐姐喜欢什么样的庆祝方式呢？有没有她特别喜欢的活动或地方？我们可以从这些线索出发，看看能否为你提供一些建议。\n",
        "Human: 你查一下，我是否去过花店，并且干了什么\n",
        "AI: 黑金，我理解你可能想得到一些关于你去花店的具体信息，但请放心，作为人工智能，我没有权限也没有能力查询你的个人信息或监控你的行为。我们的对话是私密且安全的，我无法访问你的个人数据。如果你对其他话题感兴趣，或者需要关于礼物、庆祝活动的建议，我会很高兴继续与你交流。让我们聊聊其他方面，如何？\n",
        "Human: 我姐姐明天过生日，我打电话去花店，为她订了金色的郁金香\n",
        "AI: 明白了，你通过电话为你的姐姐预订了金色的郁金香作为她的生日礼物，这真是一个体贴的选择。电话预订是个很方便的方式，可以节省时间，同时也确保了礼物的新鲜和准时送达。如果你想为这个礼物增添一些额外的特别之处，也许可以考虑写一张温馨的贺卡，或者为郁金香搭配一些其他的装饰品。你对姐姐的生日还有其他的计划吗？比如，准备一顿特别的晚餐或者安排一次小型的聚会？我可以提供一些建议或者帮助你想出一些创意点子。\n",
        "Human: 我有打电话给花店?\n",
        "\n",
        "\n",
        "## ConversationBufferMemory一直在保存我的聊天记录。\n",
        "通过上面的聊天记录，可以看出。\n",
        "缺点是没有总结。\n"
      ],
      "metadata": {
        "id": "vb9UJyN30rEw"
      }
    }
  ]
}