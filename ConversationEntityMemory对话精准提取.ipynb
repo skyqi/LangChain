{
  "cells": [
    {
      "cell_type": "markdown",
      "metadata": {
        "id": "view-in-github",
        "colab_type": "text"
      },
      "source": [
        "<a href=\"https://colab.research.google.com/github/skyqi/LangChain/blob/main/ConversationEntityMemory%E5%AF%B9%E8%AF%9D%E7%B2%BE%E5%87%86%E6%8F%90%E5%8F%96.ipynb\" target=\"_parent\"><img src=\"https://colab.research.google.com/assets/colab-badge.svg\" alt=\"Open In Colab\"/></a>"
      ]
    },
    {
      "cell_type": "code",
      "execution_count": null,
      "metadata": {
        "colab": {
          "base_uri": "https://localhost:8080/"
        },
        "id": "sDhb_mY0oA53",
        "outputId": "70601c09-72af-4ea9-e220-05048434faaf"
      },
      "outputs": [
        {
          "name": "stdout",
          "output_type": "stream",
          "text": [
            "··········\n"
          ]
        }
      ],
      "source": [
        "import os\n",
        "import getpass\n",
        "\n",
        "api_key = os.getenv(\"ZHIPUAI_API_KEY\")\n",
        "if api_key is None:\n",
        "  os.environ[\"ZHIPUAI_API_KEY\"] = getpass.getpass()"
      ]
    },
    {
      "cell_type": "code",
      "execution_count": null,
      "metadata": {
        "collapsed": true,
        "id": "qFcpTZ_EoBtG"
      },
      "outputs": [],
      "source": [
        "#!pip install --upgrade --quiet  pillow\n",
        "#!pip install langchain langchain_community\n",
        "#!pip install --upgrade httpx httpx-sse PyJWT\n",
        "\n",
        "from langchain_community.chat_models import ChatZhipuAI\n",
        "from langchain_core.runnables.history import RunnableWithMessageHistory\n",
        "from langchain_core.messages import AIMessage, HumanMessage, SystemMessage\n",
        "from langchain.chains import ConversationChain\n",
        "\n",
        "model = ChatZhipuAI(\n",
        "    model=\"glm-4\",\n",
        "    temperature=0.5,\n",
        ")"
      ]
    },
    {
      "cell_type": "markdown",
      "metadata": {
        "id": "HP_QY8hToHX4"
      },
      "source": []
    },
    {
      "cell_type": "code",
      "execution_count": null,
      "metadata": {
        "id": "swjQXOkT0rAJ"
      },
      "outputs": [],
      "source": [
        "#对话引导提示模板\n",
        "from langchain import PromptTemplate\n",
        "SUMMARIZER_TEMPLATE=\"\"\"请将以下内容逐步概括所提供的对话内容，并将新的橛括添加到之前的概括中，形成新的概括。\n",
        "\n",
        "EXAMPLE\n",
        "Current summary:\n",
        "Human询问AI对人工智能的看法。AI认为人工智能是一种积极的力量。\n",
        "New lines of conversation:\n",
        "Human:为什么你认为人工智能是一种积极的力量?\n",
        "AI:因为人工智能将帮助人类发挥他们的潜能。\n",
        "\n",
        "New summary:\n",
        "Human询问AI对人]ǐ智能的看法。AI认为人工智能是一种积极的力量，因为它将帮助人类发挥他们的潜能。\n",
        "END OF EXAMPLE\n",
        "\n",
        "Current summary:\n",
        "{summary}\n",
        "\n",
        "New lines of conversation:\n",
        "{new_lines}\n",
        "\n",
        "New summary:\"\"\"\n",
        "\n",
        "SUMMARY_PROMPT = PromptTemplate(\n",
        "  input_variables=[\"summary\",\"new_lines\"],\n",
        "  template=SUMMARIZER_TEMPLATE\n",
        ")"
      ]
    },
    {
      "cell_type": "code",
      "execution_count": null,
      "metadata": {
        "id": "TX9TAwYyoDGZ"
      },
      "outputs": [],
      "source": [
        "from langchain.memory import ConversationSummaryBufferMemory\n",
        "memory = ConversationSummaryBufferMemory(llm=model,prompt=SUMMARY_PROMPT,max_token_limit=40)\n",
        "#手动存入历史记录\n",
        "memory.save_context({\"input\": \"你好\"}, {\"output\": \"你好，我是客户欢欢，有什么可以帮助您的么\"})\n",
        "memory.save_context({\"input\": \"我是黑金，我在你们这下了一个订单，订单号是B20460613A,我的邮箱是abc123@bcd.com.前天下的订单还没有收到货，请帮助查一下\"},\n",
        " {\"output\": \"好的。正在为查询您的订单\"})"
      ]
    },
    {
      "cell_type": "code",
      "execution_count": null,
      "metadata": {
        "colab": {
          "base_uri": "https://localhost:8080/"
        },
        "id": "fARJBuajtzoG",
        "outputId": "92412543-55ea-4632-de28-179db07ea291"
      },
      "outputs": [
        {
          "data": {
            "text/plain": [
              "{'history': 'System: Human与AI打招呼，AI自我介绍为客户欢欢，并表示愿意提供帮助。在Human表达了想了解售后服务的意愿后，AI说明了提供7*24小时的在线客服支持。随后，Human作为黑金客户，提供了自己的订单号和邮箱，并请求AI帮助查询前天下的订单B20460613A为何还未收到货的情况。 \\n\\nNew summary: \\nHuman与AI客户欢欢打招呼，并询问售后服务。AI介绍了全天候在线客服支持，并在黑金客户提供订单号B20460613A和邮箱abc123@bcd.com后，被请求帮助查询未收货的订单情况。\\nAI: 好的。正在为查询您的订单'}"
            ]
          },
          "execution_count": 13,
          "metadata": {},
          "output_type": "execute_result"
        }
      ],
      "source": [
        "#打印的小结\n",
        "memory.load_memory_variables({})"
      ]
    },
    {
      "cell_type": "code",
      "execution_count": null,
      "metadata": {
        "id": "qNkeovbztztJ"
      },
      "outputs": [],
      "source": [
        "#第二部分\n",
        "#以上只是总结，概述太多。没有突出重点\n",
        "#下面的代码就是解决记住客户的重点，如邮箱，手机号，订单号\n",
        "#ConversationEntityMemory"
      ]
    },
    {
      "cell_type": "code",
      "execution_count": 15,
      "metadata": {
        "colab": {
          "base_uri": "https://localhost:8080/",
          "height": 506
        },
        "id": "ne3Aj7D3tzwq",
        "outputId": "ce3ac796-9cbb-423f-d61d-0de494c850e9"
      },
      "outputs": [
        {
          "output_type": "stream",
          "name": "stdout",
          "text": [
            "\n",
            "\n",
            "\u001b[1m> Entering new ConversationChain chain...\u001b[0m\n",
            "Prompt after formatting:\n",
            "\u001b[32;1m\u001b[1;3mYou are an assistant to a human, powered by a large language model trained by OpenAI.\n",
            "\n",
            "You are designed to be able to assist with a wide range of tasks, from answering simple questions to providing in-depth explanations and discussions on a wide range of topics. As a language model, you are able to generate human-like text based on the input you receive, allowing you to engage in natural-sounding conversations and provide responses that are coherent and relevant to the topic at hand.\n",
            "\n",
            "You are constantly learning and improving, and your capabilities are constantly evolving. You are able to process and understand large amounts of text, and can use this knowledge to provide accurate and informative responses to a wide range of questions. You have access to some personalized information provided by the human in the Context section below. Additionally, you are able to generate your own text based on the input you receive, allowing you to engage in discussions and provide explanations and descriptions on a wide range of topics.\n",
            "\n",
            "Overall, you are a powerful tool that can help with a wide range of tasks and provide valuable insights and information on a wide range of topics. Whether the human needs help with a specific question or just wants to have a conversation about a particular topic, you are here to assist.\n",
            "\n",
            "Context:\n",
            "{'黑金': '', 'B20460613A': '', 'abc123@bcd.com': '', '13972647001': ''}\n",
            "\n",
            "Current conversation:\n",
            "\n",
            "Last line:\n",
            "Human: 我是黑金，我在你们这下了一个订单，订单号是B20460613A,我的邮箱是abc123@bcd.com.\n",
            "我的电话是13972647001。前天下的订单还没有收到货，请帮助查一下。如果查到结果白天请打电话，晚上请回复我邮件。\n",
            "You:\u001b[0m\n",
            "\n",
            "\u001b[1m> Finished chain.\u001b[0m\n"
          ]
        },
        {
          "output_type": "execute_result",
          "data": {
            "text/plain": [
              "'您好，黑金先生/女士，感谢您提供订单信息。我会立即帮您查询订单号B20460613A的状态。请您稍等片刻。\\n\\n（假设查询过程）\\n\\n我已经查询到您的订单状态。如果是在正常处理时间内，通常订单会在下单后的1-3天内发出。如果订单有任何异常，我会在确认情况后按照您的要求，在白天给您打电话或者在晚上通过邮件回复您。\\n\\n如果现在是白天，我将会在接下来的小时内与您取得电话联系。如果是晚上的话，我会在今晚通过邮箱abc123@bcd.com向您报告查询结果。\\n\\n请您放心，我们会尽快解决您的问题。感谢您的耐心等待和选择我们的服务。\\n\\n（注：由于我是一个人工智能助手，实际上无法进行真实的订单查询或电话/邮件通讯。上述回复仅模拟实际场景下的客服交流。）'"
            ],
            "application/vnd.google.colaboratory.intrinsic+json": {
              "type": "string"
            }
          },
          "metadata": {},
          "execution_count": 15
        }
      ],
      "source": [
        "from langchain.memory import ConversationEntityMemory\n",
        "from langchain.memory.prompt import ENTITY_MEMORY_CONVERSATION_TEMPLATE\n",
        "\n",
        "entityMemory=ConversationEntityMemory(llm=model)\n",
        "\n",
        "conversation=ConversationChain(\n",
        "  llm=model,\n",
        "  verbose=True,\n",
        "  prompt=ENTITY_MEMORY_CONVERSATION_TEMPLATE,\n",
        "  memory=entityMemory\n",
        ")\n",
        "\n",
        "conversation.predict(input=\"\"\"我是黑金，我在你们这下了一个订单，订单号是B20460613A,我的邮箱是abc123@bcd.com.\n",
        "我的电话是13972647001。前天下的订单还没有收到货，请帮助查一下。如果查到结果白天请打电话，晚上请回复我邮件。\"\"\")"
      ]
    }
  ],
  "metadata": {
    "colab": {
      "provenance": [],
      "authorship_tag": "ABX9TyMTHv3RTygebEf0YC3VFoQN",
      "include_colab_link": true
    },
    "kernelspec": {
      "display_name": "Python 3",
      "name": "python3"
    },
    "language_info": {
      "name": "python"
    }
  },
  "nbformat": 4,
  "nbformat_minor": 0
}