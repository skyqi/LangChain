{
  "nbformat": 4,
  "nbformat_minor": 0,
  "metadata": {
    "colab": {
      "provenance": [],
      "toc_visible": true,
      "authorship_tag": "ABX9TyPHkGW5457ScE8gaEFUzUoQ",
      "include_colab_link": true
    },
    "kernelspec": {
      "name": "python3",
      "display_name": "Python 3"
    },
    "language_info": {
      "name": "python"
    }
  },
  "cells": [
    {
      "cell_type": "markdown",
      "metadata": {
        "id": "view-in-github",
        "colab_type": "text"
      },
      "source": [
        "<a href=\"https://colab.research.google.com/github/skyqi/LangChain/blob/main/ConversationBufferWindowMemory.ipynb\" target=\"_parent\"><img src=\"https://colab.research.google.com/assets/colab-badge.svg\" alt=\"Open In Colab\"/></a>"
      ]
    },
    {
      "cell_type": "markdown",
      "source": [
        "# ConversationBufferWindowMemory\n",
        "ConversationBufferWindowMemory是一个用于存储和访问对话历史记录的内存类型。它保存了对话过程中的一系列交互，但只使用最近K个交互。防止缓冲区变得过大。"
      ],
      "metadata": {
        "id": "sc7BBc9VgjL_"
      }
    },
    {
      "cell_type": "code",
      "execution_count": null,
      "metadata": {
        "collapsed": true,
        "id": "umorrGQ1XLTp"
      },
      "outputs": [],
      "source": [
        "import os\n",
        "import getpass\n",
        "\n",
        "if not os.environ[\"ZHIPUAI_API_KEY\"]:\n",
        "  os.environ[\"ZHIPUAI_API_KEY\"] = getpass.getpass()"
      ]
    },
    {
      "cell_type": "code",
      "source": [
        "!pip install --upgrade --quiet  langchain-google-genai pillow\n",
        "!pip install langchain langchain_community\n",
        "!pip install --upgrade httpx httpx-sse PyJWT"
      ],
      "metadata": {
        "colab": {
          "base_uri": "https://localhost:8080/"
        },
        "collapsed": true,
        "id": "iPmZkWDMX-h3",
        "outputId": "80f0274c-6b08-4f8c-9149-97f5115e60bf"
      },
      "execution_count": null,
      "outputs": [
        {
          "output_type": "stream",
          "name": "stdout",
          "text": [
            "\u001b[2K     \u001b[90m━━━━━━━━━━━━━━━━━━━━━━━━━━━━━━━━━━━━━━━━\u001b[0m \u001b[32m4.5/4.5 MB\u001b[0m \u001b[31m13.8 MB/s\u001b[0m eta \u001b[36m0:00:00\u001b[0m\n",
            "\u001b[2K     \u001b[90m━━━━━━━━━━━━━━━━━━━━━━━━━━━━━━━━━━━━━━━━\u001b[0m \u001b[32m314.7/314.7 kB\u001b[0m \u001b[31m17.7 MB/s\u001b[0m eta \u001b[36m0:00:00\u001b[0m\n",
            "\u001b[2K     \u001b[90m━━━━━━━━━━━━━━━━━━━━━━━━━━━━━━━━━━━━━━━━\u001b[0m \u001b[32m125.2/125.2 kB\u001b[0m \u001b[31m15.2 MB/s\u001b[0m eta \u001b[36m0:00:00\u001b[0m\n",
            "\u001b[2K     \u001b[90m━━━━━━━━━━━━━━━━━━━━━━━━━━━━━━━━━━━━━━━━\u001b[0m \u001b[32m53.0/53.0 kB\u001b[0m \u001b[31m6.5 MB/s\u001b[0m eta \u001b[36m0:00:00\u001b[0m\n",
            "\u001b[2K     \u001b[90m━━━━━━━━━━━━━━━━━━━━━━━━━━━━━━━━━━━━━━━━\u001b[0m \u001b[32m142.7/142.7 kB\u001b[0m \u001b[31m13.0 MB/s\u001b[0m eta \u001b[36m0:00:00\u001b[0m\n",
            "\u001b[?25h\u001b[31mERROR: pip's dependency resolver does not currently take into account all the packages that are installed. This behaviour is the source of the following dependency conflicts.\n",
            "imageio 2.31.6 requires pillow<10.1.0,>=8.3.2, but you have pillow 10.3.0 which is incompatible.\u001b[0m\u001b[31m\n",
            "\u001b[0mCollecting langchain\n",
            "  Downloading langchain-0.2.3-py3-none-any.whl (974 kB)\n",
            "\u001b[2K     \u001b[90m━━━━━━━━━━━━━━━━━━━━━━━━━━━━━━━━━━━━━━━━\u001b[0m \u001b[32m974.0/974.0 kB\u001b[0m \u001b[31m7.8 MB/s\u001b[0m eta \u001b[36m0:00:00\u001b[0m\n",
            "\u001b[?25hCollecting langchain_community\n",
            "  Downloading langchain_community-0.2.4-py3-none-any.whl (2.2 MB)\n",
            "\u001b[2K     \u001b[90m━━━━━━━━━━━━━━━━━━━━━━━━━━━━━━━━━━━━━━━━\u001b[0m \u001b[32m2.2/2.2 MB\u001b[0m \u001b[31m17.1 MB/s\u001b[0m eta \u001b[36m0:00:00\u001b[0m\n",
            "\u001b[?25hRequirement already satisfied: PyYAML>=5.3 in /usr/local/lib/python3.10/dist-packages (from langchain) (6.0.1)\n",
            "Requirement already satisfied: SQLAlchemy<3,>=1.4 in /usr/local/lib/python3.10/dist-packages (from langchain) (2.0.30)\n",
            "Requirement already satisfied: aiohttp<4.0.0,>=3.8.3 in /usr/local/lib/python3.10/dist-packages (from langchain) (3.9.5)\n",
            "Requirement already satisfied: async-timeout<5.0.0,>=4.0.0 in /usr/local/lib/python3.10/dist-packages (from langchain) (4.0.3)\n",
            "Requirement already satisfied: langchain-core<0.3.0,>=0.2.0 in /usr/local/lib/python3.10/dist-packages (from langchain) (0.2.5)\n",
            "Collecting langchain-text-splitters<0.3.0,>=0.2.0 (from langchain)\n",
            "  Downloading langchain_text_splitters-0.2.1-py3-none-any.whl (23 kB)\n",
            "Requirement already satisfied: langsmith<0.2.0,>=0.1.17 in /usr/local/lib/python3.10/dist-packages (from langchain) (0.1.77)\n",
            "Requirement already satisfied: numpy<2,>=1 in /usr/local/lib/python3.10/dist-packages (from langchain) (1.25.2)\n",
            "Requirement already satisfied: pydantic<3,>=1 in /usr/local/lib/python3.10/dist-packages (from langchain) (2.7.3)\n",
            "Requirement already satisfied: requests<3,>=2 in /usr/local/lib/python3.10/dist-packages (from langchain) (2.31.0)\n",
            "Requirement already satisfied: tenacity<9.0.0,>=8.1.0 in /usr/local/lib/python3.10/dist-packages (from langchain) (8.3.0)\n",
            "Collecting dataclasses-json<0.7,>=0.5.7 (from langchain_community)\n",
            "  Downloading dataclasses_json-0.6.7-py3-none-any.whl (28 kB)\n",
            "Requirement already satisfied: aiosignal>=1.1.2 in /usr/local/lib/python3.10/dist-packages (from aiohttp<4.0.0,>=3.8.3->langchain) (1.3.1)\n",
            "Requirement already satisfied: attrs>=17.3.0 in /usr/local/lib/python3.10/dist-packages (from aiohttp<4.0.0,>=3.8.3->langchain) (23.2.0)\n",
            "Requirement already satisfied: frozenlist>=1.1.1 in /usr/local/lib/python3.10/dist-packages (from aiohttp<4.0.0,>=3.8.3->langchain) (1.4.1)\n",
            "Requirement already satisfied: multidict<7.0,>=4.5 in /usr/local/lib/python3.10/dist-packages (from aiohttp<4.0.0,>=3.8.3->langchain) (6.0.5)\n",
            "Requirement already satisfied: yarl<2.0,>=1.0 in /usr/local/lib/python3.10/dist-packages (from aiohttp<4.0.0,>=3.8.3->langchain) (1.9.4)\n",
            "Collecting marshmallow<4.0.0,>=3.18.0 (from dataclasses-json<0.7,>=0.5.7->langchain_community)\n",
            "  Downloading marshmallow-3.21.3-py3-none-any.whl (49 kB)\n",
            "\u001b[2K     \u001b[90m━━━━━━━━━━━━━━━━━━━━━━━━━━━━━━━━━━━━━━━━\u001b[0m \u001b[32m49.2/49.2 kB\u001b[0m \u001b[31m6.7 MB/s\u001b[0m eta \u001b[36m0:00:00\u001b[0m\n",
            "\u001b[?25hCollecting typing-inspect<1,>=0.4.0 (from dataclasses-json<0.7,>=0.5.7->langchain_community)\n",
            "  Downloading typing_inspect-0.9.0-py3-none-any.whl (8.8 kB)\n",
            "Requirement already satisfied: jsonpatch<2.0,>=1.33 in /usr/local/lib/python3.10/dist-packages (from langchain-core<0.3.0,>=0.2.0->langchain) (1.33)\n",
            "Requirement already satisfied: packaging<24.0,>=23.2 in /usr/local/lib/python3.10/dist-packages (from langchain-core<0.3.0,>=0.2.0->langchain) (23.2)\n",
            "Requirement already satisfied: orjson<4.0.0,>=3.9.14 in /usr/local/lib/python3.10/dist-packages (from langsmith<0.2.0,>=0.1.17->langchain) (3.10.4)\n",
            "Requirement already satisfied: annotated-types>=0.4.0 in /usr/local/lib/python3.10/dist-packages (from pydantic<3,>=1->langchain) (0.7.0)\n",
            "Requirement already satisfied: pydantic-core==2.18.4 in /usr/local/lib/python3.10/dist-packages (from pydantic<3,>=1->langchain) (2.18.4)\n",
            "Requirement already satisfied: typing-extensions>=4.6.1 in /usr/local/lib/python3.10/dist-packages (from pydantic<3,>=1->langchain) (4.12.1)\n",
            "Requirement already satisfied: charset-normalizer<4,>=2 in /usr/local/lib/python3.10/dist-packages (from requests<3,>=2->langchain) (3.3.2)\n",
            "Requirement already satisfied: idna<4,>=2.5 in /usr/local/lib/python3.10/dist-packages (from requests<3,>=2->langchain) (3.7)\n",
            "Requirement already satisfied: urllib3<3,>=1.21.1 in /usr/local/lib/python3.10/dist-packages (from requests<3,>=2->langchain) (2.0.7)\n",
            "Requirement already satisfied: certifi>=2017.4.17 in /usr/local/lib/python3.10/dist-packages (from requests<3,>=2->langchain) (2024.6.2)\n",
            "Requirement already satisfied: greenlet!=0.4.17 in /usr/local/lib/python3.10/dist-packages (from SQLAlchemy<3,>=1.4->langchain) (3.0.3)\n",
            "Requirement already satisfied: jsonpointer>=1.9 in /usr/local/lib/python3.10/dist-packages (from jsonpatch<2.0,>=1.33->langchain-core<0.3.0,>=0.2.0->langchain) (3.0.0)\n",
            "Collecting mypy-extensions>=0.3.0 (from typing-inspect<1,>=0.4.0->dataclasses-json<0.7,>=0.5.7->langchain_community)\n",
            "  Downloading mypy_extensions-1.0.0-py3-none-any.whl (4.7 kB)\n",
            "Installing collected packages: mypy-extensions, marshmallow, typing-inspect, dataclasses-json, langchain-text-splitters, langchain, langchain_community\n",
            "Successfully installed dataclasses-json-0.6.7 langchain-0.2.3 langchain-text-splitters-0.2.1 langchain_community-0.2.4 marshmallow-3.21.3 mypy-extensions-1.0.0 typing-inspect-0.9.0\n",
            "Collecting httpx\n",
            "  Downloading httpx-0.27.0-py3-none-any.whl (75 kB)\n",
            "\u001b[2K     \u001b[90m━━━━━━━━━━━━━━━━━━━━━━━━━━━━━━━━━━━━━━━━\u001b[0m \u001b[32m75.6/75.6 kB\u001b[0m \u001b[31m2.7 MB/s\u001b[0m eta \u001b[36m0:00:00\u001b[0m\n",
            "\u001b[?25hCollecting httpx-sse\n",
            "  Downloading httpx_sse-0.4.0-py3-none-any.whl (7.8 kB)\n",
            "Requirement already satisfied: PyJWT in /usr/lib/python3/dist-packages (2.3.0)\n",
            "Collecting PyJWT\n",
            "  Downloading PyJWT-2.8.0-py3-none-any.whl (22 kB)\n",
            "Requirement already satisfied: anyio in /usr/local/lib/python3.10/dist-packages (from httpx) (3.7.1)\n",
            "Requirement already satisfied: certifi in /usr/local/lib/python3.10/dist-packages (from httpx) (2024.6.2)\n",
            "Collecting httpcore==1.* (from httpx)\n",
            "  Downloading httpcore-1.0.5-py3-none-any.whl (77 kB)\n",
            "\u001b[2K     \u001b[90m━━━━━━━━━━━━━━━━━━━━━━━━━━━━━━━━━━━━━━━━\u001b[0m \u001b[32m77.9/77.9 kB\u001b[0m \u001b[31m5.7 MB/s\u001b[0m eta \u001b[36m0:00:00\u001b[0m\n",
            "\u001b[?25hRequirement already satisfied: idna in /usr/local/lib/python3.10/dist-packages (from httpx) (3.7)\n",
            "Requirement already satisfied: sniffio in /usr/local/lib/python3.10/dist-packages (from httpx) (1.3.1)\n",
            "Collecting h11<0.15,>=0.13 (from httpcore==1.*->httpx)\n",
            "  Downloading h11-0.14.0-py3-none-any.whl (58 kB)\n",
            "\u001b[2K     \u001b[90m━━━━━━━━━━━━━━━━━━━━━━━━━━━━━━━━━━━━━━━━\u001b[0m \u001b[32m58.3/58.3 kB\u001b[0m \u001b[31m6.9 MB/s\u001b[0m eta \u001b[36m0:00:00\u001b[0m\n",
            "\u001b[?25hRequirement already satisfied: exceptiongroup in /usr/local/lib/python3.10/dist-packages (from anyio->httpx) (1.2.1)\n",
            "Installing collected packages: PyJWT, httpx-sse, h11, httpcore, httpx\n",
            "  Attempting uninstall: PyJWT\n",
            "    Found existing installation: PyJWT 2.3.0\n",
            "    Uninstalling PyJWT-2.3.0:\n",
            "      Successfully uninstalled PyJWT-2.3.0\n",
            "Successfully installed PyJWT-2.8.0 h11-0.14.0 httpcore-1.0.5 httpx-0.27.0 httpx-sse-0.4.0\n"
          ]
        }
      ]
    },
    {
      "cell_type": "code",
      "source": [
        "from langchain_community.chat_models import ChatZhipuAI\n",
        "\n",
        "from langchain_community.chat_message_histories import ChatMessageHistory\n",
        "\n",
        "#from langchain_core.chat_history import BaseChatMessageHistory\n",
        "#from langchain.memory import ConversationBufferMemory\n",
        "from langchain.memory import ConversationBufferWindowMemory\n",
        "\n",
        "from langchain_core.runnables.history import RunnableWithMessageHistory\n",
        "from langchain_core.messages import AIMessage, HumanMessage, SystemMessage\n",
        "from langchain.chains import ConversationChain\n",
        "\n",
        "llm = ChatZhipuAI(\n",
        "    model=\"glm-4\",\n",
        "    temperature=0.5,\n",
        ")"
      ],
      "metadata": {
        "id": "M7TNh8HOY4RH"
      },
      "execution_count": null,
      "outputs": []
    },
    {
      "cell_type": "code",
      "source": [
        "# 修改 store 字典以存储不同 session_id 的 memory 实例\n",
        "store = {}\n",
        "\n",
        "def get_conversation_memory(session_id: str) -> ConversationBufferWindowMemory:\n",
        "    if session_id not in store:\n",
        "        store[session_id] = ConversationBufferWindowMemory(k=3)\n",
        "    return store[session_id]\n",
        "\n",
        "# 使用 session_id 创建或获取 ConversationBufferMemory 实例\n",
        "def create_conversation(llm, session_id: str) -> ConversationChain:\n",
        "    memory = get_conversation_memory(session_id)\n",
        "    return ConversationChain(llm=llm, memory=memory, verbose=True)\n",
        "\n",
        "# 示例用法，第一问\n",
        "conversation = create_conversation(llm, \"xinhu_session\")\n",
        "conversation.predict(input=\"你好, 我的名字叫小虎\")"
      ],
      "metadata": {
        "colab": {
          "base_uri": "https://localhost:8080/",
          "height": 263
        },
        "id": "RP35LSXoZ2rS",
        "outputId": "029b385a-a6de-4d97-c029-13caa92bf295"
      },
      "execution_count": null,
      "outputs": [
        {
          "output_type": "stream",
          "name": "stdout",
          "text": [
            "\n",
            "\n",
            "\u001b[1m> Entering new ConversationChain chain...\u001b[0m\n",
            "Prompt after formatting:\n",
            "\u001b[32;1m\u001b[1;3mThe following is a friendly conversation between a human and an AI. The AI is talkative and provides lots of specific details from its context. If the AI does not know the answer to a question, it truthfully says it does not know.\n",
            "\n",
            "Current conversation:\n",
            "\n",
            "Human: 你好, 我的名字叫小虎\n",
            "AI:\u001b[0m\n",
            "\n",
            "\u001b[1m> Finished chain.\u001b[0m\n"
          ]
        },
        {
          "output_type": "execute_result",
          "data": {
            "text/plain": [
              "'你好，小虎！很高兴认识你。今天想和我聊些什么呢？有没有什么问题或者话题是你特别感兴趣的？我会尽力提供有帮助的回答哦！'"
            ],
            "application/vnd.google.colaboratory.intrinsic+json": {
              "type": "string"
            }
          },
          "metadata": {},
          "execution_count": 8
        }
      ]
    },
    {
      "cell_type": "code",
      "source": [
        "# 示例用法，第二问\n",
        "conversation = create_conversation(llm, \"xinhu_session\")\n",
        "conversation.predict(input=\"我的老大是黑金\")"
      ],
      "metadata": {
        "colab": {
          "base_uri": "https://localhost:8080/",
          "height": 298
        },
        "id": "upM6eXtUaB7O",
        "outputId": "c5d74954-1b23-4d22-fdb0-b8285fa2c9ba"
      },
      "execution_count": null,
      "outputs": [
        {
          "output_type": "stream",
          "name": "stdout",
          "text": [
            "\n",
            "\n",
            "\u001b[1m> Entering new ConversationChain chain...\u001b[0m\n",
            "Prompt after formatting:\n",
            "\u001b[32;1m\u001b[1;3mThe following is a friendly conversation between a human and an AI. The AI is talkative and provides lots of specific details from its context. If the AI does not know the answer to a question, it truthfully says it does not know.\n",
            "\n",
            "Current conversation:\n",
            "Human: 你好, 我的名字叫小虎\n",
            "AI: 你好，小虎！很高兴认识你。今天想和我聊些什么呢？有没有什么问题或者话题是你特别感兴趣的？我会尽力提供有帮助的回答哦！\n",
            "Human: 我的老大是黑金\n",
            "AI:\u001b[0m\n",
            "\n",
            "\u001b[1m> Finished chain.\u001b[0m\n"
          ]
        },
        {
          "output_type": "execute_result",
          "data": {
            "text/plain": [
              "'哦，黑金是一个很有力量的名字呢！听起来你的老大应该是个很有个性的人。那么，你是想聊聊关于你老大的事情，还是有什么其他的问题或者想聊的话题？如果有关黑金的故事或者你想知道的信息，尽管告诉我。'"
            ],
            "application/vnd.google.colaboratory.intrinsic+json": {
              "type": "string"
            }
          },
          "metadata": {},
          "execution_count": 9
        }
      ]
    },
    {
      "cell_type": "markdown",
      "source": [
        "这去掉了很多的代码调试..."
      ],
      "metadata": {
        "id": "oUtX57pQgqGk"
      }
    },
    {
      "cell_type": "markdown",
      "source": [
        "# 问一个三次过后的记录\n",
        "通过以上五次问，只取最后三条聊天记录"
      ],
      "metadata": {
        "id": "88hSqDq0b12b"
      }
    },
    {
      "cell_type": "code",
      "source": [
        "#一共问了5条记录，反过来问第5条记录。结果AI不知道了\n",
        "conversation = create_conversation(llm, \"xinhu_session\")\n",
        "conversation.predict(input=\"我的老大是谁\")"
      ],
      "metadata": {
        "colab": {
          "base_uri": "https://localhost:8080/",
          "height": 385
        },
        "id": "ncPg4NT9atK_",
        "outputId": "03f00936-270f-4aca-f18e-902d9166b844"
      },
      "execution_count": null,
      "outputs": [
        {
          "output_type": "stream",
          "name": "stdout",
          "text": [
            "\n",
            "\n",
            "\u001b[1m> Entering new ConversationChain chain...\u001b[0m\n",
            "Prompt after formatting:\n",
            "\u001b[32;1m\u001b[1;3mThe following is a friendly conversation between a human and an AI. The AI is talkative and provides lots of specific details from its context. If the AI does not know the answer to a question, it truthfully says it does not know.\n",
            "\n",
            "Current conversation:\n",
            "Human: 我的老大的女朋友叫林妹\n",
            "AI: 嗯，你之前提到过你老大的女朋友叫林妹。如果这个话题对你很重要，我们可以继续聊。你想分享关于林妹的哪些事情呢？或者，你对恋爱关系有什么疑问，需要我帮忙解答的吗？如果还有其他的事情你想知道或者讨论，也可以直接告诉我。\n",
            "Human: 林妹有一条狗叫翘嘴\n",
            "AI: 哈哈，翘嘴这个名字真有趣，给人一种活泼可爱的感觉。看来林妹养的狗也有着自己的个性。如果你想分享更多关于翘嘴的故事，或者讨论关于宠物的话题，比如如何照顾宠物、宠物与主人之间的关系等，我都很乐意听你讲述并给予我的看法。当然，如果你有其他问题或者想要了解的信息，也可以继续提问。\n",
            "Human: 翘嘴每天早上爱吃火腿肠，林妹早上喜欢喝豆浆\n",
            "AI: 翘嘴喜欢早上吃火腿肠，而林妹则喜欢喝豆浆，这两者的早餐选择反映了它们各自独特的口味。宠物的饮食习惯和主人的喜好有时候会互相影响，形成一种温馨的生活画面。如果你想了解更多关于宠物的营养建议，或者是关于健康早餐的想法，我都可以提供帮助。另外，不同地区的早餐文化也很有趣，比如在中国的不同地方，早餐的选择会有很大的差异，我们可以聊聊这些话题，或者如果你有其他兴趣点，也可以继续分享。\n",
            "Human: 我的老大是谁\n",
            "AI:\u001b[0m\n",
            "\n",
            "\u001b[1m> Finished chain.\u001b[0m\n"
          ]
        },
        {
          "output_type": "execute_result",
          "data": {
            "text/plain": [
              "'关于这个问题，因为你没有提供具体的上下文信息，我无法准确地知道你的“老大”是指谁。在中文里，“老大”可以指很多不同的人或事物，比如家庭成员、朋友、工作中的上司，或者是某个团体、组织的领导者。如果你能提供更多的信息，我会很乐意帮你分析并给出我的理解。如果这个问题是开玩笑或者是在特定情境下的一个梗，也请告诉我，我们可以一起探讨这个话题。'"
            ],
            "application/vnd.google.colaboratory.intrinsic+json": {
              "type": "string"
            }
          },
          "metadata": {},
          "execution_count": 14
        }
      ]
    },
    {
      "cell_type": "code",
      "source": [
        "conversation = create_conversation(llm, \"xinhu_session\")\n",
        "conversation.predict(input=\"林妹的狗叫什么\")"
      ],
      "metadata": {
        "colab": {
          "base_uri": "https://localhost:8080/",
          "height": 350
        },
        "id": "6UNbocmidYUL",
        "outputId": "c99db6f2-7cfd-4b75-dd0d-6a5579af1e19"
      },
      "execution_count": null,
      "outputs": [
        {
          "output_type": "stream",
          "name": "stdout",
          "text": [
            "\n",
            "\n",
            "\u001b[1m> Entering new ConversationChain chain...\u001b[0m\n",
            "Prompt after formatting:\n",
            "\u001b[32;1m\u001b[1;3mThe following is a friendly conversation between a human and an AI. The AI is talkative and provides lots of specific details from its context. If the AI does not know the answer to a question, it truthfully says it does not know.\n",
            "\n",
            "Current conversation:\n",
            "Human: 林妹有一条狗叫翘嘴\n",
            "AI: 哈哈，翘嘴这个名字真有趣，给人一种活泼可爱的感觉。看来林妹养的狗也有着自己的个性。如果你想分享更多关于翘嘴的故事，或者讨论关于宠物的话题，比如如何照顾宠物、宠物与主人之间的关系等，我都很乐意听你讲述并给予我的看法。当然，如果你有其他问题或者想要了解的信息，也可以继续提问。\n",
            "Human: 翘嘴每天早上爱吃火腿肠，林妹早上喜欢喝豆浆\n",
            "AI: 翘嘴喜欢早上吃火腿肠，而林妹则喜欢喝豆浆，这两者的早餐选择反映了它们各自独特的口味。宠物的饮食习惯和主人的喜好有时候会互相影响，形成一种温馨的生活画面。如果你想了解更多关于宠物的营养建议，或者是关于健康早餐的想法，我都可以提供帮助。另外，不同地区的早餐文化也很有趣，比如在中国的不同地方，早餐的选择会有很大的差异，我们可以聊聊这些话题，或者如果你有其他兴趣点，也可以继续分享。\n",
            "Human: 我的老大是谁\n",
            "AI: 关于这个问题，因为你没有提供具体的上下文信息，我无法准确地知道你的“老大”是指谁。在中文里，“老大”可以指很多不同的人或事物，比如家庭成员、朋友、工作中的上司，或者是某个团体、组织的领导者。如果你能提供更多的信息，我会很乐意帮你分析并给出我的理解。如果这个问题是开玩笑或者是在特定情境下的一个梗，也请告诉我，我们可以一起探讨这个话题。\n",
            "Human: 林妹的狗叫什么\n",
            "AI:\u001b[0m\n",
            "\n",
            "\u001b[1m> Finished chain.\u001b[0m\n"
          ]
        },
        {
          "output_type": "execute_result",
          "data": {
            "text/plain": [
              "'林妹的狗叫翘嘴。这个名字很特别，让人印象深刻。如果还有其他关于翘嘴的问题，或者想要讨论其他话题，请随时告诉我。'"
            ],
            "application/vnd.google.colaboratory.intrinsic+json": {
              "type": "string"
            }
          },
          "metadata": {},
          "execution_count": 17
        }
      ]
    },
    {
      "cell_type": "code",
      "source": [
        "#输入全部的聊天记录\n",
        "history = conversation.memory.chat_memory.messages\n",
        "history"
      ],
      "metadata": {
        "colab": {
          "base_uri": "https://localhost:8080/"
        },
        "id": "zxO1t_ECd8m_",
        "outputId": "b958a059-c523-4632-ac0d-89b1b872b538"
      },
      "execution_count": null,
      "outputs": [
        {
          "output_type": "execute_result",
          "data": {
            "text/plain": [
              "[HumanMessage(content='你好, 我的名字叫小虎'),\n",
              " AIMessage(content='你好，小虎！很高兴认识你。今天想和我聊些什么呢？有没有什么问题或者话题是你特别感兴趣的？我会尽力提供有帮助的回答哦！'),\n",
              " HumanMessage(content='我的老大是黑金'),\n",
              " AIMessage(content='哦，黑金是一个很有力量的名字呢！听起来你的老大应该是个很有个性的人。那么，你是想聊聊关于你老大的事情，还是有什么其他的问题或者想聊的话题？如果有关黑金的故事或者你想知道的信息，尽管告诉我。'),\n",
              " HumanMessage(content='我的老大的女朋友叫林妹'),\n",
              " AIMessage(content='林妹，这个名字听起来很亲切。看来你的老大和他的女朋友之间的关系对你来说很重要。如果你想分享更多关于他们的故事，或者有什么关于恋爱关系的问题，我在这里都可以帮你解答。当然，如果你有其他任何问题，比如生活、文化、科技等方面的，也可以继续提问。我们可以一起探讨各种话题。'),\n",
              " HumanMessage(content='我的老大的女朋友叫林妹'),\n",
              " AIMessage(content='嗯，你之前提到过你老大的女朋友叫林妹。如果这个话题对你很重要，我们可以继续聊。你想分享关于林妹的哪些事情呢？或者，你对恋爱关系有什么疑问，需要我帮忙解答的吗？如果还有其他的事情你想知道或者讨论，也可以直接告诉我。'),\n",
              " HumanMessage(content='林妹有一条狗叫翘嘴'),\n",
              " AIMessage(content='哈哈，翘嘴这个名字真有趣，给人一种活泼可爱的感觉。看来林妹养的狗也有着自己的个性。如果你想分享更多关于翘嘴的故事，或者讨论关于宠物的话题，比如如何照顾宠物、宠物与主人之间的关系等，我都很乐意听你讲述并给予我的看法。当然，如果你有其他问题或者想要了解的信息，也可以继续提问。'),\n",
              " HumanMessage(content='翘嘴每天早上爱吃火腿肠，林妹早上喜欢喝豆浆'),\n",
              " AIMessage(content='翘嘴喜欢早上吃火腿肠，而林妹则喜欢喝豆浆，这两者的早餐选择反映了它们各自独特的口味。宠物的饮食习惯和主人的喜好有时候会互相影响，形成一种温馨的生活画面。如果你想了解更多关于宠物的营养建议，或者是关于健康早餐的想法，我都可以提供帮助。另外，不同地区的早餐文化也很有趣，比如在中国的不同地方，早餐的选择会有很大的差异，我们可以聊聊这些话题，或者如果你有其他兴趣点，也可以继续分享。'),\n",
              " HumanMessage(content='我的老大是谁'),\n",
              " AIMessage(content='关于这个问题，因为你没有提供具体的上下文信息，我无法准确地知道你的“老大”是指谁。在中文里，“老大”可以指很多不同的人或事物，比如家庭成员、朋友、工作中的上司，或者是某个团体、组织的领导者。如果你能提供更多的信息，我会很乐意帮你分析并给出我的理解。如果这个问题是开玩笑或者是在特定情境下的一个梗，也请告诉我，我们可以一起探讨这个话题。'),\n",
              " HumanMessage(content='林妹的狗叫什么'),\n",
              " AIMessage(content='林妹的狗叫翘嘴。这个名字很特别，让人印象深刻。如果还有其他关于翘嘴的问题，或者想要讨论其他话题，请随时告诉我。')]"
            ]
          },
          "metadata": {},
          "execution_count": 18
        }
      ]
    },
    {
      "cell_type": "code",
      "source": [
        "#输出全部的聊天记录\n",
        "conversation = create_conversation(llm, \"heijing_session\")\n",
        "history = conversation.memory.chat_memory.messages\n",
        "history"
      ],
      "metadata": {
        "colab": {
          "base_uri": "https://localhost:8080/"
        },
        "id": "7J4Ns8WXd8xb",
        "outputId": "980a3ca4-d09c-4b89-e69e-396ca44ea8f8"
      },
      "execution_count": null,
      "outputs": [
        {
          "output_type": "execute_result",
          "data": {
            "text/plain": [
              "[HumanMessage(content='你好, 我的名字是什么'),\n",
              " AIMessage(content='你好！根据我们的对话历史，我没有存储你的个人信息，包括你的名字。所以，不好意思，我不知道你的名字是什么。如果你愿意告诉我，我会很高兴的。'),\n",
              " HumanMessage(content='林妹的狗叫什么'),\n",
              " AIMessage(content='林妹的狗的名字在我们的对话历史中没有提到过，所以我也不知道。如果你能提供更多的上下文或者它是某个公共知识中的信息，我可能能够帮助你找到答案。')]"
            ]
          },
          "metadata": {},
          "execution_count": 19
        }
      ]
    },
    {
      "cell_type": "code",
      "source": [
        "conversation = create_conversation(llm, \"xinhu_session\")\n",
        "history = conversation.memory.chat_memory.messages\n",
        "history"
      ],
      "metadata": {
        "colab": {
          "base_uri": "https://localhost:8080/"
        },
        "id": "gvGuZqd4eQW0",
        "outputId": "f660a281-86c6-4a7c-d352-db29fd087269"
      },
      "execution_count": null,
      "outputs": [
        {
          "output_type": "execute_result",
          "data": {
            "text/plain": [
              "[HumanMessage(content='你好, 我的名字叫小虎'),\n",
              " AIMessage(content='你好，小虎！很高兴认识你。今天想和我聊些什么呢？有没有什么问题或者话题是你特别感兴趣的？我会尽力提供有帮助的回答哦！'),\n",
              " HumanMessage(content='我的老大是黑金'),\n",
              " AIMessage(content='哦，黑金是一个很有力量的名字呢！听起来你的老大应该是个很有个性的人。那么，你是想聊聊关于你老大的事情，还是有什么其他的问题或者想聊的话题？如果有关黑金的故事或者你想知道的信息，尽管告诉我。'),\n",
              " HumanMessage(content='我的老大的女朋友叫林妹'),\n",
              " AIMessage(content='林妹，这个名字听起来很亲切。看来你的老大和他的女朋友之间的关系对你来说很重要。如果你想分享更多关于他们的故事，或者有什么关于恋爱关系的问题，我在这里都可以帮你解答。当然，如果你有其他任何问题，比如生活、文化、科技等方面的，也可以继续提问。我们可以一起探讨各种话题。'),\n",
              " HumanMessage(content='我的老大的女朋友叫林妹'),\n",
              " AIMessage(content='嗯，你之前提到过你老大的女朋友叫林妹。如果这个话题对你很重要，我们可以继续聊。你想分享关于林妹的哪些事情呢？或者，你对恋爱关系有什么疑问，需要我帮忙解答的吗？如果还有其他的事情你想知道或者讨论，也可以直接告诉我。'),\n",
              " HumanMessage(content='林妹有一条狗叫翘嘴'),\n",
              " AIMessage(content='哈哈，翘嘴这个名字真有趣，给人一种活泼可爱的感觉。看来林妹养的狗也有着自己的个性。如果你想分享更多关于翘嘴的故事，或者讨论关于宠物的话题，比如如何照顾宠物、宠物与主人之间的关系等，我都很乐意听你讲述并给予我的看法。当然，如果你有其他问题或者想要了解的信息，也可以继续提问。'),\n",
              " HumanMessage(content='翘嘴每天早上爱吃火腿肠，林妹早上喜欢喝豆浆'),\n",
              " AIMessage(content='翘嘴喜欢早上吃火腿肠，而林妹则喜欢喝豆浆，这两者的早餐选择反映了它们各自独特的口味。宠物的饮食习惯和主人的喜好有时候会互相影响，形成一种温馨的生活画面。如果你想了解更多关于宠物的营养建议，或者是关于健康早餐的想法，我都可以提供帮助。另外，不同地区的早餐文化也很有趣，比如在中国的不同地方，早餐的选择会有很大的差异，我们可以聊聊这些话题，或者如果你有其他兴趣点，也可以继续分享。'),\n",
              " HumanMessage(content='我的老大是谁'),\n",
              " AIMessage(content='关于这个问题，因为你没有提供具体的上下文信息，我无法准确地知道你的“老大”是指谁。在中文里，“老大”可以指很多不同的人或事物，比如家庭成员、朋友、工作中的上司，或者是某个团体、组织的领导者。如果你能提供更多的信息，我会很乐意帮你分析并给出我的理解。如果这个问题是开玩笑或者是在特定情境下的一个梗，也请告诉我，我们可以一起探讨这个话题。'),\n",
              " HumanMessage(content='林妹的狗叫什么'),\n",
              " AIMessage(content='林妹的狗叫翘嘴。这个名字很特别，让人印象深刻。如果还有其他关于翘嘴的问题，或者想要讨论其他话题，请随时告诉我。')]"
            ]
          },
          "metadata": {},
          "execution_count": 20
        }
      ]
    },
    {
      "cell_type": "markdown",
      "source": [
        "# 打印历史记录\n"
      ],
      "metadata": {
        "id": "20LUoWBCcLL0"
      }
    },
    {
      "cell_type": "code",
      "source": [
        "#打印xinhu_session的历史记录\n",
        "conversation = create_conversation(llm, \"xinhu_session\")\n",
        "history = conversation.memory.chat_memory.messages\n",
        "history"
      ],
      "metadata": {
        "colab": {
          "base_uri": "https://localhost:8080/"
        },
        "id": "fXHrEq0NfVFg",
        "outputId": "6bae92e1-90ad-4885-f3b5-c52f9ed16be0"
      },
      "execution_count": null,
      "outputs": [
        {
          "output_type": "execute_result",
          "data": {
            "text/plain": [
              "[HumanMessage(content='你好, 我的名字叫小虎'),\n",
              " AIMessage(content='你好，小虎！很高兴认识你。今天想和我聊些什么呢？有没有什么问题或者话题是你特别感兴趣的？我会尽力提供有帮助的回答哦！'),\n",
              " HumanMessage(content='我的老大是黑金'),\n",
              " AIMessage(content='哦，黑金是一个很有力量的名字呢！听起来你的老大应该是个很有个性的人。那么，你是想聊聊关于你老大的事情，还是有什么其他的问题或者想聊的话题？如果有关黑金的故事或者你想知道的信息，尽管告诉我。'),\n",
              " HumanMessage(content='我的老大的女朋友叫林妹'),\n",
              " AIMessage(content='林妹，这个名字听起来很亲切。看来你的老大和他的女朋友之间的关系对你来说很重要。如果你想分享更多关于他们的故事，或者有什么关于恋爱关系的问题，我在这里都可以帮你解答。当然，如果你有其他任何问题，比如生活、文化、科技等方面的，也可以继续提问。我们可以一起探讨各种话题。'),\n",
              " HumanMessage(content='我的老大的女朋友叫林妹'),\n",
              " AIMessage(content='嗯，你之前提到过你老大的女朋友叫林妹。如果这个话题对你很重要，我们可以继续聊。你想分享关于林妹的哪些事情呢？或者，你对恋爱关系有什么疑问，需要我帮忙解答的吗？如果还有其他的事情你想知道或者讨论，也可以直接告诉我。'),\n",
              " HumanMessage(content='林妹有一条狗叫翘嘴'),\n",
              " AIMessage(content='哈哈，翘嘴这个名字真有趣，给人一种活泼可爱的感觉。看来林妹养的狗也有着自己的个性。如果你想分享更多关于翘嘴的故事，或者讨论关于宠物的话题，比如如何照顾宠物、宠物与主人之间的关系等，我都很乐意听你讲述并给予我的看法。当然，如果你有其他问题或者想要了解的信息，也可以继续提问。'),\n",
              " HumanMessage(content='翘嘴每天早上爱吃火腿肠，林妹早上喜欢喝豆浆'),\n",
              " AIMessage(content='翘嘴喜欢早上吃火腿肠，而林妹则喜欢喝豆浆，这两者的早餐选择反映了它们各自独特的口味。宠物的饮食习惯和主人的喜好有时候会互相影响，形成一种温馨的生活画面。如果你想了解更多关于宠物的营养建议，或者是关于健康早餐的想法，我都可以提供帮助。另外，不同地区的早餐文化也很有趣，比如在中国的不同地方，早餐的选择会有很大的差异，我们可以聊聊这些话题，或者如果你有其他兴趣点，也可以继续分享。'),\n",
              " HumanMessage(content='我的老大是谁'),\n",
              " AIMessage(content='关于这个问题，因为你没有提供具体的上下文信息，我无法准确地知道你的“老大”是指谁。在中文里，“老大”可以指很多不同的人或事物，比如家庭成员、朋友、工作中的上司，或者是某个团体、组织的领导者。如果你能提供更多的信息，我会很乐意帮你分析并给出我的理解。如果这个问题是开玩笑或者是在特定情境下的一个梗，也请告诉我，我们可以一起探讨这个话题。'),\n",
              " HumanMessage(content='林妹的狗叫什么'),\n",
              " AIMessage(content='林妹的狗叫翘嘴。这个名字很特别，让人印象深刻。如果还有其他关于翘嘴的问题，或者想要讨论其他话题，请随时告诉我。')]"
            ]
          },
          "metadata": {},
          "execution_count": 24
        }
      ]
    },
    {
      "cell_type": "code",
      "source": [
        "#打印heijing_session的历史记录\n",
        "conversation = create_conversation(llm, \"heijing_session\")\n",
        "history = conversation.memory.chat_memory.messages\n",
        "history"
      ],
      "metadata": {
        "colab": {
          "base_uri": "https://localhost:8080/"
        },
        "id": "ItHl3yHGfb7y",
        "outputId": "a94b133a-1e5a-4f2e-e673-c76efa593d82"
      },
      "execution_count": null,
      "outputs": [
        {
          "output_type": "execute_result",
          "data": {
            "text/plain": [
              "[HumanMessage(content='你好, 我的名字是什么'),\n",
              " AIMessage(content='你好！根据我们的对话历史，我没有存储你的个人信息，包括你的名字。所以，不好意思，我不知道你的名字是什么。如果你愿意告诉我，我会很高兴的。'),\n",
              " HumanMessage(content='林妹的狗叫什么'),\n",
              " AIMessage(content='林妹的狗的名字在我们的对话历史中没有提到过，所以我也不知道。如果你能提供更多的上下文或者它是某个公共知识中的信息，我可能能够帮助你找到答案。'),\n",
              " HumanMessage(content='我叫黑金'),\n",
              " AIMessage(content='你好，黑金！很高兴你告诉我你的名字。有什么我可以帮你的吗？如果你有任何问题或者需要帮助，随时可以问我。'),\n",
              " HumanMessage(content='我的女朋友叫林妹'),\n",
              " AIMessage(content='明白了，黑金。那么，林妹是你的女朋友。你们俩有没有共同养的宠物呢？如果你之前提到的林妹的狗是你们共同的宠物，我还是没能知道它的名字。如果你愿意分享，我很乐意听你讲述。'),\n",
              " HumanMessage(content='我还有一个女性朋友叫小敏'),\n",
              " AIMessage(content='哦，好的，黑金。你有一个女朋友叫林妹，还有一个女性朋友叫小敏。人际关系网挺丰富的嘛！如果你想聊聊关于她们的事情，或者有其他任何问题，我都在这里听着呢。不管是生活中的小事，还是你想要了解的信息，都可以告诉我。'),\n",
              " HumanMessage(content='小敏住在南方'),\n",
              " AIMessage(content='原来如此，黑金。小敏住在南方啊？中国的南方地区很美，气候宜人，有很多风景胜地和独特的地方文化。不知道小敏是哪个城市的呢？如果你愿意分享更多关于小敏或者你们之间的趣事，我很乐意听你讲述。同时，如果你需要关于南方旅游、文化或者其他方面的信息，也可以问我。')]"
            ]
          },
          "metadata": {},
          "execution_count": 25
        }
      ]
    },
    {
      "cell_type": "markdown",
      "source": [
        "# 总结\n",
        "\n",
        "1.   只知道最后3个消息。流水记录的最后几个消息\n",
        "2.   没有总结\n",
        "3.   可以分session_id提问\n",
        "\n"
      ],
      "metadata": {
        "id": "AAhD6lD2cd_g"
      }
    }
  ]
}