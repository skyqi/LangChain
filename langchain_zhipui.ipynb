{
  "nbformat": 4,
  "nbformat_minor": 0,
  "metadata": {
    "colab": {
      "provenance": [],
      "authorship_tag": "ABX9TyN4PTzuMtIxd2cb5+ULfCFf",
      "include_colab_link": true
    },
    "kernelspec": {
      "name": "python3",
      "display_name": "Python 3"
    },
    "language_info": {
      "name": "python"
    }
  },
  "cells": [
    {
      "cell_type": "markdown",
      "metadata": {
        "id": "view-in-github",
        "colab_type": "text"
      },
      "source": [
        "<a href=\"https://colab.research.google.com/github/skyqi/LangChain/blob/main/langchain_zhipui.ipynb\" target=\"_parent\"><img src=\"https://colab.research.google.com/assets/colab-badge.svg\" alt=\"Open In Colab\"/></a>"
      ]
    },
    {
      "cell_type": "markdown",
      "source": [
        "2024-6-12\n",
        "\n",
        "在LangChain内\n",
        "使用Google AI聊天模型\n",
        "https://python.langchain.com/v0.2/docs/integrations/chat/google_generative_ai/#gemini-prompting-faqs\n"
      ],
      "metadata": {
        "id": "SFLJO45DMSpw"
      }
    },
    {
      "cell_type": "code",
      "execution_count": 1,
      "metadata": {
        "colab": {
          "base_uri": "https://localhost:8080/"
        },
        "id": "JNX_wOw6FU2h",
        "outputId": "45a05624-61d0-4952-97a0-69f91c92ee24"
      },
      "outputs": [
        {
          "name": "stdout",
          "output_type": "stream",
          "text": [
            "··········\n"
          ]
        }
      ],
      "source": [
        "#!pip install --upgrade --quiet  langchain-google-genai pillow\n",
        "#!pip install langchain langchain_community\n",
        "#!pip install --upgrade httpx httpx-sse PyJWT\n",
        "from langchain_google_genai import ChatGoogleGenerativeAI\n",
        "from langchain_community.chat_models import ChatZhipuAI\n",
        "from langchain.agents import initialize_agent, Tool\n",
        "import os\n",
        "import getpass\n",
        "os.environ[\"ZHIPUAI_API_KEY\"] = getpass.getpass()\n",
        "\n",
        "model = ChatZhipuAI(\n",
        "    model=\"glm-4\",\n",
        "    temperature=0.5,\n",
        ")\n",
        "\n",
        "\n"
      ]
    },
    {
      "cell_type": "code",
      "source": [
        "model.invoke(\"hi,good evening\")"
      ],
      "metadata": {
        "colab": {
          "base_uri": "https://localhost:8080/"
        },
        "id": "WpI1FUMDcCG2",
        "outputId": "42ae54a1-ec37-480a-c2cf-3f34804b8a31"
      },
      "execution_count": 2,
      "outputs": [
        {
          "output_type": "execute_result",
          "data": {
            "text/plain": [
              "AIMessage(content='Good evening! How can I assist you today? If you have any questions or need information on a topic, feel free to ask.', response_metadata={'token_usage': {'completion_tokens': 29, 'prompt_tokens': 9, 'total_tokens': 38}, 'model_name': 'glm-4', 'finish_reason': 'stop'}, id='run-0a618a25-6a0e-470d-bf4a-c3e207864621-0')"
            ]
          },
          "metadata": {},
          "execution_count": 2
        }
      ]
    },
    {
      "cell_type": "markdown",
      "source": [
        "使用promptTemplates模版，格式化输出"
      ],
      "metadata": {
        "id": "YT_7CynQfrwo"
      }
    },
    {
      "cell_type": "code",
      "source": [
        "from langchain_core.prompts import ChatPromptTemplate\n",
        "from langchain_core.output_parsers import StrOutputParser\n",
        "parser = StrOutputParser()\n",
        "system_template = \"Translate the following into {language}:\"\n",
        "prompt_template = ChatPromptTemplate.from_messages(\n",
        "    [(\"system\", system_template), (\"user\", \"{input_text}\")]\n",
        ")\n",
        "chain = prompt_template | model | parser\n",
        "chain.invoke({\"language\": \"chinese\", \"input_text\": \"hi,good evening\"})"
      ],
      "metadata": {
        "colab": {
          "base_uri": "https://localhost:8080/",
          "height": 35
        },
        "id": "tYBimrohfOj1",
        "outputId": "6aa50a15-80fb-4e9e-e0e4-c2686be52441"
      },
      "execution_count": 3,
      "outputs": [
        {
          "output_type": "execute_result",
          "data": {
            "text/plain": [
              "'晚上好！\\n \\n(Translation: Good evening!)'"
            ],
            "application/vnd.google.colaboratory.intrinsic+json": {
              "type": "string"
            }
          },
          "metadata": {},
          "execution_count": 3
        }
      ]
    }
  ]
}