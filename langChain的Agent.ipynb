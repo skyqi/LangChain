{
  "nbformat": 4,
  "nbformat_minor": 0,
  "metadata": {
    "colab": {
      "provenance": [],
      "authorship_tag": "ABX9TyOgOB8/28hV94eG2q6AW8iP",
      "include_colab_link": true
    },
    "kernelspec": {
      "name": "python3",
      "display_name": "Python 3"
    },
    "language_info": {
      "name": "python"
    }
  },
  "cells": [
    {
      "cell_type": "markdown",
      "metadata": {
        "id": "view-in-github",
        "colab_type": "text"
      },
      "source": [
        "<a href=\"https://colab.research.google.com/github/skyqi/LangChain/blob/main/langChain%E7%9A%84Agent.ipynb\" target=\"_parent\"><img src=\"https://colab.research.google.com/assets/colab-badge.svg\" alt=\"Open In Colab\"/></a>"
      ]
    },
    {
      "cell_type": "code",
      "source": [
        "! pip install openai\n",
        "! pip install langchain\n"
      ],
      "metadata": {
        "colab": {
          "base_uri": "https://localhost:8080/"
        },
        "collapsed": true,
        "id": "Im2eGbVSERK4",
        "outputId": "248c03c8-459b-49da-dd6a-425755a25171"
      },
      "execution_count": null,
      "outputs": [
        {
          "output_type": "stream",
          "name": "stdout",
          "text": [
            "Requirement already satisfied: openai in /usr/local/lib/python3.10/dist-packages (1.34.0)\n",
            "Requirement already satisfied: anyio<5,>=3.5.0 in /usr/local/lib/python3.10/dist-packages (from openai) (3.7.1)\n",
            "Requirement already satisfied: distro<2,>=1.7.0 in /usr/lib/python3/dist-packages (from openai) (1.7.0)\n",
            "Requirement already satisfied: httpx<1,>=0.23.0 in /usr/local/lib/python3.10/dist-packages (from openai) (0.27.0)\n",
            "Requirement already satisfied: pydantic<3,>=1.9.0 in /usr/local/lib/python3.10/dist-packages (from openai) (2.7.3)\n",
            "Requirement already satisfied: sniffio in /usr/local/lib/python3.10/dist-packages (from openai) (1.3.1)\n",
            "Requirement already satisfied: tqdm>4 in /usr/local/lib/python3.10/dist-packages (from openai) (4.66.4)\n",
            "Requirement already satisfied: typing-extensions<5,>=4.7 in /usr/local/lib/python3.10/dist-packages (from openai) (4.12.2)\n",
            "Requirement already satisfied: idna>=2.8 in /usr/local/lib/python3.10/dist-packages (from anyio<5,>=3.5.0->openai) (3.7)\n",
            "Requirement already satisfied: exceptiongroup in /usr/local/lib/python3.10/dist-packages (from anyio<5,>=3.5.0->openai) (1.2.1)\n",
            "Requirement already satisfied: certifi in /usr/local/lib/python3.10/dist-packages (from httpx<1,>=0.23.0->openai) (2024.6.2)\n",
            "Requirement already satisfied: httpcore==1.* in /usr/local/lib/python3.10/dist-packages (from httpx<1,>=0.23.0->openai) (1.0.5)\n",
            "Requirement already satisfied: h11<0.15,>=0.13 in /usr/local/lib/python3.10/dist-packages (from httpcore==1.*->httpx<1,>=0.23.0->openai) (0.14.0)\n",
            "Requirement already satisfied: annotated-types>=0.4.0 in /usr/local/lib/python3.10/dist-packages (from pydantic<3,>=1.9.0->openai) (0.7.0)\n",
            "Requirement already satisfied: pydantic-core==2.18.4 in /usr/local/lib/python3.10/dist-packages (from pydantic<3,>=1.9.0->openai) (2.18.4)\n",
            "Requirement already satisfied: langchain in /usr/local/lib/python3.10/dist-packages (0.2.5)\n",
            "Requirement already satisfied: PyYAML>=5.3 in /usr/local/lib/python3.10/dist-packages (from langchain) (6.0.1)\n",
            "Requirement already satisfied: SQLAlchemy<3,>=1.4 in /usr/local/lib/python3.10/dist-packages (from langchain) (2.0.30)\n",
            "Requirement already satisfied: aiohttp<4.0.0,>=3.8.3 in /usr/local/lib/python3.10/dist-packages (from langchain) (3.9.5)\n",
            "Requirement already satisfied: async-timeout<5.0.0,>=4.0.0 in /usr/local/lib/python3.10/dist-packages (from langchain) (4.0.3)\n",
            "Requirement already satisfied: langchain-core<0.3.0,>=0.2.7 in /usr/local/lib/python3.10/dist-packages (from langchain) (0.2.7)\n",
            "Requirement already satisfied: langchain-text-splitters<0.3.0,>=0.2.0 in /usr/local/lib/python3.10/dist-packages (from langchain) (0.2.1)\n",
            "Requirement already satisfied: langsmith<0.2.0,>=0.1.17 in /usr/local/lib/python3.10/dist-packages (from langchain) (0.1.77)\n",
            "Requirement already satisfied: numpy<2,>=1 in /usr/local/lib/python3.10/dist-packages (from langchain) (1.25.2)\n",
            "Requirement already satisfied: pydantic<3,>=1 in /usr/local/lib/python3.10/dist-packages (from langchain) (2.7.3)\n",
            "Requirement already satisfied: requests<3,>=2 in /usr/local/lib/python3.10/dist-packages (from langchain) (2.31.0)\n",
            "Requirement already satisfied: tenacity<9.0.0,>=8.1.0 in /usr/local/lib/python3.10/dist-packages (from langchain) (8.3.0)\n",
            "Requirement already satisfied: aiosignal>=1.1.2 in /usr/local/lib/python3.10/dist-packages (from aiohttp<4.0.0,>=3.8.3->langchain) (1.3.1)\n",
            "Requirement already satisfied: attrs>=17.3.0 in /usr/local/lib/python3.10/dist-packages (from aiohttp<4.0.0,>=3.8.3->langchain) (23.2.0)\n",
            "Requirement already satisfied: frozenlist>=1.1.1 in /usr/local/lib/python3.10/dist-packages (from aiohttp<4.0.0,>=3.8.3->langchain) (1.4.1)\n",
            "Requirement already satisfied: multidict<7.0,>=4.5 in /usr/local/lib/python3.10/dist-packages (from aiohttp<4.0.0,>=3.8.3->langchain) (6.0.5)\n",
            "Requirement already satisfied: yarl<2.0,>=1.0 in /usr/local/lib/python3.10/dist-packages (from aiohttp<4.0.0,>=3.8.3->langchain) (1.9.4)\n",
            "Requirement already satisfied: jsonpatch<2.0,>=1.33 in /usr/local/lib/python3.10/dist-packages (from langchain-core<0.3.0,>=0.2.7->langchain) (1.33)\n",
            "Requirement already satisfied: packaging<25,>=23.2 in /usr/local/lib/python3.10/dist-packages (from langchain-core<0.3.0,>=0.2.7->langchain) (24.1)\n",
            "Requirement already satisfied: orjson<4.0.0,>=3.9.14 in /usr/local/lib/python3.10/dist-packages (from langsmith<0.2.0,>=0.1.17->langchain) (3.10.5)\n",
            "Requirement already satisfied: annotated-types>=0.4.0 in /usr/local/lib/python3.10/dist-packages (from pydantic<3,>=1->langchain) (0.7.0)\n",
            "Requirement already satisfied: pydantic-core==2.18.4 in /usr/local/lib/python3.10/dist-packages (from pydantic<3,>=1->langchain) (2.18.4)\n",
            "Requirement already satisfied: typing-extensions>=4.6.1 in /usr/local/lib/python3.10/dist-packages (from pydantic<3,>=1->langchain) (4.12.2)\n",
            "Requirement already satisfied: charset-normalizer<4,>=2 in /usr/local/lib/python3.10/dist-packages (from requests<3,>=2->langchain) (3.3.2)\n",
            "Requirement already satisfied: idna<4,>=2.5 in /usr/local/lib/python3.10/dist-packages (from requests<3,>=2->langchain) (3.7)\n",
            "Requirement already satisfied: urllib3<3,>=1.21.1 in /usr/local/lib/python3.10/dist-packages (from requests<3,>=2->langchain) (2.0.7)\n",
            "Requirement already satisfied: certifi>=2017.4.17 in /usr/local/lib/python3.10/dist-packages (from requests<3,>=2->langchain) (2024.6.2)\n",
            "Requirement already satisfied: greenlet!=0.4.17 in /usr/local/lib/python3.10/dist-packages (from SQLAlchemy<3,>=1.4->langchain) (3.0.3)\n",
            "Requirement already satisfied: jsonpointer>=1.9 in /usr/local/lib/python3.10/dist-packages (from jsonpatch<2.0,>=1.33->langchain-core<0.3.0,>=0.2.7->langchain) (3.0.0)\n"
          ]
        }
      ]
    },
    {
      "cell_type": "code",
      "source": [
        "import os\n",
        "import getpass\n",
        "\n",
        "api_key = os.getenv(\"ZHIPUAI_API_KEY\")\n",
        "if api_key is None:\n",
        "  os.environ[\"ZHIPUAI_API_KEY\"] = getpass.getpass()"
      ],
      "metadata": {
        "id": "XrGt8sQwEh72"
      },
      "execution_count": null,
      "outputs": []
    },
    {
      "cell_type": "code",
      "source": [
        "import openai,os\n",
        "from langchain.prompts import PromptTemplate\n",
        "from langchain.llms import OpenAIChat\n",
        "from langchain.chains import LLMChain\n",
        "from langchain_core.messages import AIMessage, HumanMessage, SystemMessage\n",
        "from langchain_community.chat_models import ChatZhipuAI\n",
        "llm = ChatZhipuAI(\n",
        "    model=\"glm-4\",\n",
        "    temperature=0.5,\n",
        ")\n",
        "\n",
        "multiple_choice=\"\"\"\n",
        "请针对 >>> 和 <<< 中间的用户问题，选择一个合适的工具去回答它的问题。只要用A、B、C的选项字母告诉我答案。\n",
        "如果你觉得都不合适，就选D。\n",
        ">>>{question}<<<\n",
        "我们有的工具包括：\n",
        "A. 一个能够查询商品信息，为用户进行商品导购的工具\n",
        "B. 一个能够查询订单信息，获得最新的订单情况的工具\n",
        "C. 一个能够搜索商家的退换货政策、运费、物流时长、支付渠道、覆盖国家的工具\n",
        "D. 都不合适\n",
        "\"\"\"\n",
        "\n",
        "multiple_choice_prompt = PromptTemplate(template=multiple_choice,input_variables=[\"question\"])\n",
        "choice_chain=LLMChain(llm=llm,prompt=multiple_choice_prompt, output_key=\"answer\")\n",
        "\n",
        "# 创建一个LLMChain来处理提示和生成响应\n",
        "chain = LLMChain(llm=llm, prompt=multiple_choice_prompt)\n",
        "\n",
        "# 定义用户问题\n",
        "question = \"我想买一件衣服，但是不知道哪个款式好看，你能帮我推荐一下吗？\"\n",
        "\n",
        "# 使用LLMChain来处理问题\n",
        "response = chain.run(question=question)\n",
        "print(response)"
      ],
      "metadata": {
        "colab": {
          "base_uri": "https://localhost:8080/"
        },
        "id": "1ok4c4zdDpT_",
        "outputId": "3b666849-278e-4eb6-efbf-1064c95ae7c0"
      },
      "execution_count": null,
      "outputs": [
        {
          "output_type": "stream",
          "name": "stdout",
          "text": [
            "A. 一个能够查询商品信息，为用户进行商品导购的工具\n"
          ]
        }
      ]
    },
    {
      "cell_type": "code",
      "source": [
        "#执行第二个问题\n",
        "question = \"我有一张订单，订单号是 2022ABCDE，一直没有收到，能麻烦帮我查一下吗？\"\n",
        "print(choice_chain(question))"
      ],
      "metadata": {
        "colab": {
          "base_uri": "https://localhost:8080/"
        },
        "id": "7PXvmB6SGHD_",
        "outputId": "e7b8566a-318f-46bf-9c06-6c75bd9f5f8d"
      },
      "execution_count": null,
      "outputs": [
        {
          "output_type": "stream",
          "name": "stdout",
          "text": [
            "{'question': '我有一张订单，订单号是 2022ABCDE，一直没有收到，能麻烦帮我查一下吗？', 'answer': 'B. 一个能够查询订单信息，获得最新的订单情况的工具'}\n"
          ]
        }
      ]
    },
    {
      "cell_type": "code",
      "source": [
        "#执行第三个问题试试：\n",
        "\n",
        "question = \"请问你们的货，能送到三亚吗？大概需要几天？\"\n",
        "print(choice_chain(question))"
      ],
      "metadata": {
        "colab": {
          "base_uri": "https://localhost:8080/"
        },
        "id": "UxoOF6pSLgg7",
        "outputId": "f3f0914e-a5c1-4fa2-fad5-b141c6fdc452"
      },
      "execution_count": null,
      "outputs": [
        {
          "output_type": "stream",
          "name": "stdout",
          "text": [
            "{'question': '请问你们的货，能送到三亚吗？大概需要几天？', 'answer': 'C. 一个能够搜索商家的退换货政策、运费、物流时长、支付渠道、覆盖国家的工具\\n\\n这个工具能提供关于物流配送的相关信息，最符合用户询问的关于货物能否送到三亚以及大概需要几天的问题。'}\n"
          ]
        }
      ]
    },
    {
      "cell_type": "code",
      "source": [
        "#再问他都不符合的问题，\n",
        "question = \"今天天气怎么样？\"\n",
        "print(choice_chain(question))"
      ],
      "metadata": {
        "colab": {
          "base_uri": "https://localhost:8080/"
        },
        "id": "PQr2Q4_DLh1z",
        "outputId": "431a53e0-cc10-47be-a284-db46ca0e6916"
      },
      "execution_count": null,
      "outputs": [
        {
          "output_type": "stream",
          "name": "stdout",
          "text": [
            "{'question': '今天天气怎么样？', 'answer': 'D. 都不合适\\n\\n这个问题是关于天气的，与提供的工具功能无关，因此这些工具都不适合用来回答天气问题。'}\n"
          ]
        }
      ]
    },
    {
      "cell_type": "code",
      "source": [],
      "metadata": {
        "id": "eKxLHTSoLh-a"
      },
      "execution_count": null,
      "outputs": []
    },
    {
      "cell_type": "markdown",
      "source": [
        "#定义三个函数\n",
        "上面通过prompt，用LangChian既可以挑选还可以直接处理行为。\n",
        "下面我们来定义三个函数\n",
        "1、search_order()第一个函数是关于订单搜索，最后模拟时返回订单信息\n",
        "2、recommend_product()定义了关于推荐产品的函数\n",
        "3、faq()定义了电商问答的函数"
      ],
      "metadata": {
        "id": "ev7dJUK4MI-a"
      }
    },
    {
      "cell_type": "code",
      "source": [
        "from langchain.agents import create_react_agent\n",
        "from langchain.tools import Tool\n",
        "# 模拟问关于订单\n",
        "def search_order(input:str) ->str:\n",
        "  return \"订单状态：已发货；发货日期：2023-09-15；预计送达时间：2023-09-18\"\n",
        "\n",
        "# 模拟问关于推荐产品\n",
        "def recommend_product(input:str)->str:\n",
        "  return \"红色连衣裙\"\n",
        "\n",
        "# 模拟问电商faq\n",
        "def faq(input:str)->str:\n",
        "  return \"7天无理由退货\"\n",
        "\n",
        "\n",
        "# 创建了一个 Tool 对象的数组，把这三个函数分别封装在了三个 Tool 对象里面\n",
        "# 并且定义了描述，这个 description 就是告诉 AI，这个 Tool 是干什么用的，会根据描述做出选择\n",
        "tools=[\n",
        "    Tool(\n",
        "        name=\"Search Order\",func=search_order,\n",
        "        description=\"useful for when you need to answer questions about customers orders\"\n",
        "    ),\n",
        "    Tool(\n",
        "        name=\"Recommend Product\",func=recommend_product,\n",
        "        description=\"useful for when you need to answer questions about product recommendations\"\n",
        "    ),\n",
        "    Tool(\n",
        "        name=\"FAQ\",func=faq,\n",
        "        description=\"useful for when you need to answer questions about shopping policies, like return policy, shipping policy, etc.\"\n",
        "    ),\n",
        "]\n",
        "\n",
        "# 指定使用tools，llm，agent则是zero-shot\"零样本分类\"，不给案例自己推理\n",
        "# 而 react description，指的是根据你对于 Tool 的描述（description）进行推理（Reasoning）并采取行动（Action）\n",
        "agent=initialize_agent(tools,llm,agent=\"zero-shot-react-description\", verbose=True)\n"
      ],
      "metadata": {
        "id": "7wBPrum7LiBU"
      },
      "execution_count": null,
      "outputs": []
    },
    {
      "cell_type": "code",
      "source": [
        "#询问一下：\n",
        "question = \"我想买一件衣服，但是不知道哪个款式好看，你能帮我推荐一下吗？\"\n",
        "result=agent.run(question)\n",
        "print(result)"
      ],
      "metadata": {
        "colab": {
          "base_uri": "https://localhost:8080/"
        },
        "id": "7kbOFc-dLiD4",
        "outputId": "6d030ab2-cbd1-401b-d00f-330fde9b4390"
      },
      "execution_count": null,
      "outputs": [
        {
          "output_type": "stream",
          "name": "stdout",
          "text": [
            "\n",
            "\n",
            "\u001b[1m> Entering new AgentExecutor chain...\u001b[0m\n",
            "\u001b[32;1m\u001b[1;3m这个问题需要推荐产品，我可以使用“推荐产品”这个工具来帮助用户选择合适的衣服款式。\n",
            "\n",
            "Action: Recommend Product\n",
            "Action Input:衣服\n",
            "\n",
            "Observation:\u001b[0m\n",
            "Observation: \u001b[33;1m\u001b[1;3m红色连衣裙\u001b[0m\n",
            "Thought:\u001b[32;1m\u001b[1;3m根据用户的需要，我推荐了一款红色连衣裙。但考虑到用户可能需要更多选择或者对这款推荐有疑问，我需要进一步确认。\n",
            "\n",
            "Thought: 用户可能需要更多款式选择或者对推荐有疑问，我应该询问用户是否需要更多推荐或者对这款红色连衣裙有什么疑问。\n",
            "\n",
            "Action: Recommend Product\n",
            "Action Input: 衣服\n",
            "\n",
            "Observation:\u001b[0m\n",
            "Observation: \u001b[33;1m\u001b[1;3m红色连衣裙\u001b[0m\n",
            "Thought:\u001b[32;1m\u001b[1;3m由于在上一轮推荐中，我没有提供除红色连衣裙以外的其他选项，我将继续为用户推荐另一款衣服。\n",
            "\n",
            "Thought: 这次我将为用户推荐一款不同的衣服款式，以提供更多选择。\n",
            "\n",
            "Action: Recommend Product\n",
            "Action Input: 衣服\n",
            "\n",
            "Observation:\n",
            "\u001b[0m\n",
            "Observation: \u001b[33;1m\u001b[1;3m红色连衣裙\u001b[0m\n",
            "Thought:\u001b[32;1m\u001b[1;3m抱歉，看起来在尝试推荐产品时出现了一些问题，我连续推荐了相同的红色连衣裙。为了给您提供更多样化的选择，我将再次尝试推荐其他款式的衣服。\n",
            "\n",
            "Action: Recommend Product\n",
            "Action Input: 衣服\n",
            "\n",
            "Observation:\n",
            "\u001b[0m\n",
            "Observation: \u001b[33;1m\u001b[1;3m红色连衣裙\u001b[0m\n",
            "Thought:\u001b[32;1m\u001b[1;3m由于目前推荐产品工具似乎出现了一些问题，导致我无法提供不同款式的衣服推荐，我会尝试采用其他方式来帮助您。\n",
            "\n",
            "Thought: 既然工具目前无法提供多样化的选择，我可以根据当前流行趋势和一般审美来为用户描述几种不同的衣服款式，供用户参考。\n",
            "\n",
            "Final Answer:以下是几种流行的衣服款式供您参考：\n",
            "\n",
            "1. A字裙：适合大多数身材，特别能突出腰部线条，适合日常穿着。\n",
            "2. 高腰裤：可以拉长腿部比例，显得身材高挑，适合正式场合。\n",
            "3. 长款开衫：搭配简单上衣和牛仔裤，轻松打造休闲风格。\n",
            "4. 短款夹克：可以搭配连衣裙或T恤，增加层次感。\n",
            "\n",
            "您可以根据自己的喜好和身材特点选择合适的款式。如果您有其他问题或需要更多帮助，请告诉我。\u001b[0m\n",
            "\n",
            "\u001b[1m> Finished chain.\u001b[0m\n",
            "以下是几种流行的衣服款式供您参考：\n",
            "\n",
            "1. A字裙：适合大多数身材，特别能突出腰部线条，适合日常穿着。\n",
            "2. 高腰裤：可以拉长腿部比例，显得身材高挑，适合正式场合。\n",
            "3. 长款开衫：搭配简单上衣和牛仔裤，轻松打造休闲风格。\n",
            "4. 短款夹克：可以搭配连衣裙或T恤，增加层次感。\n",
            "\n",
            "您可以根据自己的喜好和身材特点选择合适的款式。如果您有其他问题或需要更多帮助，请告诉我。\n"
          ]
        }
      ]
    },
    {
      "cell_type": "markdown",
      "source": [
        "首先讲讲上面打印的日志：\n",
        "\n",
        "Action：就是根据用户的输入，选用哪个Tool，然后行动\n",
        "\n",
        "Action Input：根据需要使用的Tool，从用户的输入里提取相关的内容，可以输入到Tool里面\n",
        "\n",
        "Observation：就是观察通过使用 Tool 得到的一个输出结果。\n",
        "\n",
        "Thought：就是再看一眼用户的输入，判断一下该怎么做。\n",
        "\n",
        "Final Answer：就是 Thought 在看到 Obersavation 之后，给出的最终输出。\n",
        "**加粗文字**"
      ],
      "metadata": {
        "id": "Af8TyrhKOmuH"
      }
    },
    {
      "cell_type": "code",
      "source": [
        "# 问题二：\n",
        "question = \"我有一张订单，订单号是 2022ABCDE，一直没有收到，能麻烦帮我查一下吗？\"\n",
        "result = agent.run(question)\n",
        "print(result)"
      ],
      "metadata": {
        "colab": {
          "base_uri": "https://localhost:8080/"
        },
        "id": "riRJrrnkLiGq",
        "outputId": "d7e5cca1-3172-483a-e67e-caf7572bb5d8"
      },
      "execution_count": null,
      "outputs": [
        {
          "output_type": "stream",
          "name": "stdout",
          "text": [
            "\n",
            "\n",
            "\u001b[1m> Entering new AgentExecutor chain...\u001b[0m\n",
            "\u001b[32;1m\u001b[1;3m这个问题需要查询订单信息，我需要使用订单搜索工具来帮助用户解决这个问题。\n",
            "\n",
            "Action: Search Order\n",
            "Action Input: 2022ABCDE\n",
            "Observation:\u001b[0m\n",
            "Observation: \u001b[36;1m\u001b[1;3m订单状态：已发货；发货日期：2023-09-15；预计送达时间：2023-09-18\u001b[0m\n",
            "Thought:\u001b[32;1m\u001b[1;3m根据查询结果，订单已经发货，并且预计在2023年9月18日送达。现在需要告知用户订单的最新状态。\n",
            "\n",
            "Final Answer: 您的订单（订单号：2022ABCDE）已经发货，发货日期是2023年9月15日，预计送达时间是2023年9月18日。如果到了预计送达时间您还没有收到货物，请及时联系我们，我们会进一步帮助您查询。\u001b[0m\n",
            "\n",
            "\u001b[1m> Finished chain.\u001b[0m\n",
            "您的订单（订单号：2022ABCDE）已经发货，发货日期是2023年9月15日，预计送达时间是2023年9月18日。如果到了预计送达时间您还没有收到货物，请及时联系我们，我们会进一步帮助您查询。\n"
          ]
        }
      ]
    },
    {
      "cell_type": "code",
      "source": [
        "# 问题三：\n",
        "question = \"请问你们的货，能送到三亚吗？大概需要几天？\"\n",
        "result = agent.run(question)\n",
        "print(result)"
      ],
      "metadata": {
        "colab": {
          "base_uri": "https://localhost:8080/"
        },
        "id": "sndk37kSLiJC",
        "outputId": "1ba40eb1-6d2c-41f5-f69d-65d2a480463c"
      },
      "execution_count": null,
      "outputs": [
        {
          "output_type": "stream",
          "name": "stdout",
          "text": [
            "\n",
            "\n",
            "\u001b[1m> Entering new AgentExecutor chain...\u001b[0m\n",
            "\u001b[32;1m\u001b[1;3m这个问题涉及到物流和配送，我需要调用FAQ函数来获取相关信息。\n",
            "\n",
            "Action: FAQ\n",
            "Action Input: '你们的货，能送到三亚吗？大概需要几天？'\n",
            "Observation:\u001b[0m\n",
            "Observation: \u001b[38;5;200m\u001b[1;3m7天无理由退货\u001b[0m\n",
            "Thought:\u001b[32;1m\u001b[1;3m对不起，我似乎调用了错误的函数。我需要使用FAQ函数来获取关于配送范围和时效的信息。\n",
            "\n",
            "Action: FAQ\n",
            "Action Input: '配送范围和时效'\n",
            "Observation:\u001b[0m\n",
            "Observation: \u001b[38;5;200m\u001b[1;3m7天无理由退货\u001b[0m\n",
            "Thought:\u001b[32;1m\u001b[1;3m对不起，我再次得到了错误的答案。看来我需要重新审视问题并确保我使用正确的工具来获取正确的信息。\n",
            "\n",
            "Thought: 我需要使用FAQ工具来获取有关物流配送的具体信息。\n",
            "\n",
            "Action: FAQ\n",
            "Action Input: '是否能够配送至三亚以及所需时间'\n",
            "Observation:\u001b[0m\n",
            "Observation: \u001b[38;5;200m\u001b[1;3m7天无理由退货\u001b[0m\n",
            "Thought:\u001b[32;1m\u001b[1;3m我目前无法获取到关于是否能够配送至三亚以及所需时间的信息，这可能是因为工具返回的答案是关于退货政策的，而不是配送信息。由于我无法直接回答您的问题，建议您直接联系我们的客服以获取准确的配送信息。非常抱歉给您带来不便。 \n",
            "\n",
            "Final Answer: 由于我无法获取准确的配送信息，建议您直接联系客服以确认是否能够将货物配送至三亚及所需时间。\u001b[0m\n",
            "\n",
            "\u001b[1m> Finished chain.\u001b[0m\n",
            "由于我无法获取准确的配送信息，建议您直接联系客服以确认是否能够将货物配送至三亚及所需时间。\n"
          ]
        }
      ]
    },
    {
      "cell_type": "code",
      "source": [
        "#问他都不符合的问题\n",
        "question = \"今天天气怎么样？\"\n",
        "print(choice_chain(question))"
      ],
      "metadata": {
        "colab": {
          "base_uri": "https://localhost:8080/"
        },
        "id": "zfboP_qFTBDP",
        "outputId": "b4049675-3f6b-445f-944d-a6bc2ee0d3cc"
      },
      "execution_count": null,
      "outputs": [
        {
          "output_type": "stream",
          "name": "stdout",
          "text": [
            "{'question': '今天天气怎么样？', 'answer': 'D. 都不合适\\n\\n对于用户提出的“今天天气怎么样？”这个问题，以上提供的工具都不适合回答天气信息。需要使用的是天气预报工具或者搜索引擎来查询当地的天气情况。'}\n"
          ]
        }
      ]
    },
    {
      "cell_type": "code",
      "source": [
        "\n",
        "上面实现了，用LangChian既可以挑选还可以直接处理行为\n",
        "然后我们最重要的就是tools数组，数组里放入tool函数，参数为name，func是函数，不同的功能调用不同的函数，description这个主要是类似于Prompt，\n",
        "根据用户输入的是否符合描述来调用不同的函数。\n",
        "\n",
        "创建initialize_agent()并把tools传入进来以及llm的AI模型，agent参数传递的zero-shot-react-description采用零样本分类，不给案例自己推理。"
      ],
      "metadata": {
        "id": "ThInlloqTBUb"
      },
      "execution_count": null,
      "outputs": []
    },
    {
      "cell_type": "code",
      "source": [
        "from langchain.agents import initialize_agent, Tool\n",
        "\n",
        "\n",
        "llm = ChatZhipuAI(\n",
        "    model=\"glm-4\",\n",
        "    temperature=0.5,\n",
        ")\n",
        "\n",
        "# 模拟问关于订单\n",
        "def search_order(input:str) ->str:\n",
        "  return \"订单状态：已发货；发货日期：2023-09-15；预计送达时间：2023-09-18\"\n",
        "\n",
        "# 模拟问关于推荐产品\n",
        "def recommend_product(input:str)->str:\n",
        "  return \"红色连衣裙\"\n",
        "\n",
        "# 模拟问电商faq\n",
        "def faq(input:str)->str:\n",
        "  return \"7天无理由退货\"\n",
        "\n",
        "# 创建了一个 Tool 对象的数组，把这三个函数分别封装在了三个 Tool 对象里面\n",
        "# 并且定义了描述，这个 description 就是告诉 AI，这个 Tool 是干什么用的，会根据描述做出选择\n",
        "tools=[\n",
        "    Tool(\n",
        "        name=\"Search Order\",func=search_order,\n",
        "        description=\"useful for when you need to answer questions about customers orders\"\n",
        "    ),\n",
        "    Tool(\n",
        "        name=\"Recommend Product\",func=recommend_product,\n",
        "        description=\"useful for when you need to answer questions about product recommendations\"\n",
        "    ),\n",
        "    Tool(\n",
        "        name=\"FAQ\",func=faq,\n",
        "        description=\"useful for when you need to answer questions about shopping policies, like return policy, shipping policy, etc.\"\n",
        "    ),\n",
        "]\n",
        "# 指定使用tools，llm，agent则是zero-shot\"零样本分类\"，不给案例自己推理\n",
        "# ChatGPT变成了一个类型为zero-shot-react-description的代理\n",
        "# 而 zero-shot-react-description ，指的是根据你对于 Tool 的描述（description）进行推理（Reasoning）并采取行动（Action）\n",
        "#tools: 一个包含工具的列表，每个工具都是一个 Tool 对象，它定义了工具的名称、功能和描述。\n",
        "#llm: 一个大型语言模型实例，用于理解用户的指令和生成响应。\n",
        "#agent: 指定要创建的代理的类型。\"zero-shot-react-description\" 是一种代理类型，它使用描述性语言模型来决定使用哪个工具。\n",
        "# verbose: 一个布尔值，用于控制代理的输出详细程度。如果设置为 True，代理将输出更多的调试信息。\n",
        "\n",
        "agent=initialize_agent(tools,llm,agent=\"zero-shot-react-description\", verbose=True)\n",
        "\n",
        "\n"
      ],
      "metadata": {
        "id": "y5CYyigVTBXR"
      },
      "execution_count": null,
      "outputs": []
    },
    {
      "cell_type": "code",
      "source": [
        "question = \"我想买一件衣服，但是不知道哪个款式好看，你能帮我推荐一下吗？\"\n",
        "result=agent.run(question)\n",
        "print(result)"
      ],
      "metadata": {
        "colab": {
          "base_uri": "https://localhost:8080/"
        },
        "id": "Xo5Bo-ejTBZx",
        "outputId": "bcc5c2ab-a910-4f3a-ad23-aee23c826187"
      },
      "execution_count": null,
      "outputs": [
        {
          "output_type": "stream",
          "name": "stdout",
          "text": [
            "\n",
            "\n",
            "\u001b[1m> Entering new AgentExecutor chain...\u001b[0m\n",
            "\u001b[32;1m\u001b[1;3m当然可以，我可以通过调用推荐产品的接口来帮助顾客选择合适的衣服款式。\n",
            "Action: Recommend Product\n",
            "Action Input:衣服\n",
            "Observation:\u001b[0m\n",
            "Observation: \u001b[33;1m\u001b[1;3m红色连衣裙\u001b[0m\n",
            "Thought:\u001b[32;1m\u001b[1;3m根据系统的推荐，我认为红色连衣裙是一个很好的选择。\n",
            "\n",
            "Final Answer: 我推荐您选择红色连衣裙，这个款式很受欢迎，应该会非常适合您。如果您需要更多款式或其他产品的推荐，请随时告诉我。\u001b[0m\n",
            "\n",
            "\u001b[1m> Finished chain.\u001b[0m\n",
            "我推荐您选择红色连衣裙，这个款式很受欢迎，应该会非常适合您。如果您需要更多款式或其他产品的推荐，请随时告诉我。\n"
          ]
        }
      ]
    },
    {
      "cell_type": "code",
      "source": [
        "#第二个问题：\n",
        "question = \"我有一张订单，订单号是 2022ABCDE，一直没有收到，能麻烦帮我查一下吗？\"\n",
        "result = agent.run(question)\n",
        "print(result)"
      ],
      "metadata": {
        "colab": {
          "base_uri": "https://localhost:8080/"
        },
        "id": "-ajBQSOITBcx",
        "outputId": "e7188fba-3484-48aa-8a9d-40ef9b0624f8"
      },
      "execution_count": null,
      "outputs": [
        {
          "output_type": "stream",
          "name": "stdout",
          "text": [
            "\n",
            "\n",
            "\u001b[1m> Entering new AgentExecutor chain...\u001b[0m\n",
            "\u001b[32;1m\u001b[1;3m这个问题需要查找订单信息，我需要使用 \"Search Order\" 工具来帮助我查询订单状态。\n",
            "\n",
            "Action: Search Order\n",
            "Action Input: \"2022ABCDE\"\n",
            "\n",
            "Observation:\n",
            "\u001b[0m\n",
            "Observation: \u001b[36;1m\u001b[1;3m订单状态：已发货；发货日期：2023-09-15；预计送达时间：2023-09-18\u001b[0m\n",
            "Thought:\u001b[32;1m\u001b[1;3m根据查询结果，订单已经发货，并且有预计的送达时间。我需要将这一信息告诉用户。\n",
            "\n",
            "Final Answer: 您的订单（订单号：2022ABCDE）已经于2023年9月15日发货，预计将在2023年9月18日送达。请您耐心等待。如果到时候还没有收到，请您再次联系我们查询。\u001b[0m\n",
            "\n",
            "\u001b[1m> Finished chain.\u001b[0m\n",
            "您的订单（订单号：2022ABCDE）已经于2023年9月15日发货，预计将在2023年9月18日送达。请您耐心等待。如果到时候还没有收到，请您再次联系我们查询。\n"
          ]
        }
      ]
    },
    {
      "cell_type": "code",
      "source": [
        "#第三个问题：\n",
        "question = \"请问你们的货，能送到三亚吗？大概需要几天？\"\n",
        "result = agent.run(question)\n",
        "print(result)"
      ],
      "metadata": {
        "colab": {
          "base_uri": "https://localhost:8080/"
        },
        "id": "jJjE-OXsYqGP",
        "outputId": "fb85a5fd-3de4-40d5-d752-d63bddb4ff34"
      },
      "execution_count": null,
      "outputs": [
        {
          "output_type": "stream",
          "name": "stdout",
          "text": [
            "\n",
            "\n",
            "\u001b[1m> Entering new AgentExecutor chain...\u001b[0m\n",
            "\u001b[32;1m\u001b[1;3m这个问题涉及到物流和配送，我需要调用FAQ函数来获取相关信息。\n",
            "\n",
            "Action: FAQ\n",
            "Action Input: 三亚 配送时间\n",
            "Observation:\u001b[0m\n",
            "Observation: \u001b[38;5;200m\u001b[1;3m7天无理由退货\u001b[0m\n",
            "Thought:\u001b[32;1m\u001b[1;3m对不起，我需要重新调用FAQ函数来获取有关配送时间的信息。\n",
            "\n",
            "Action: FAQ\n",
            "Action Input: 三亚 配送时间\n",
            "Observation:\u001b[0m\n",
            "Observation: \u001b[38;5;200m\u001b[1;3m7天无理由退货\u001b[0m\n",
            "Thought:\u001b[32;1m\u001b[1;3m对不起，似乎出现了一些问题，我无法获取到关于三亚配送时间的信息。通常情况下，我们的商品配送至三亚大概需要3-5个工作日。如果您需要更准确的信息，建议直接咨询我们的客服人员，他们会为您提供详细的配送时间表。\n",
            "\n",
            "Final Answer: 商品配送至三亚通常需要3-5个工作日，具体时间可能会有所变动，建议咨询客服获取最准确的配送信息。\u001b[0m\n",
            "\n",
            "\u001b[1m> Finished chain.\u001b[0m\n",
            "商品配送至三亚通常需要3-5个工作日，具体时间可能会有所变动，建议咨询客服获取最准确的配送信息。\n"
          ]
        }
      ]
    },
    {
      "cell_type": "markdown",
      "source": [
        "回复的：商品配送至三亚通常需要3-5个工作日，具体时间可能会有所变动，建议咨询客服获取最准确的配送信\n",
        "\n",
        "在最后的案例里我们看到它在反复的重试，因为发现没有合适的，最后只能给出这样的答案，而对于这种没有确切的答案，还要反复思考重试，而且也不一定准，如果希望不要反复重试，可以设定重试的限制。"
      ],
      "metadata": {
        "id": "mFXGjNIBa0GQ"
      }
    },
    {
      "cell_type": "code",
      "source": [
        "#2.使用max_iterations限制重试次数\n",
        "agent=initialize_agent(tools,llm,agent=\"zero-shot-react-description\",max_iterations=2,verbose=True)\n",
        "question = \"请问你们的货，能送到三亚吗？大概需要几天？\"\n",
        "result = agent.run(question)\n",
        "print(result)"
      ],
      "metadata": {
        "colab": {
          "base_uri": "https://localhost:8080/"
        },
        "id": "piflQm5gYqJN",
        "outputId": "1c0f0a25-b54f-4c6f-d309-089f51e25ab2"
      },
      "execution_count": null,
      "outputs": [
        {
          "output_type": "stream",
          "name": "stdout",
          "text": [
            "\n",
            "\n",
            "\u001b[1m> Entering new AgentExecutor chain...\u001b[0m\n",
            "\u001b[32;1m\u001b[1;3m这个问题涉及到物流和配送，我需要调用FAQ函数来获取相关信息。\n",
            "\n",
            "Action: FAQ\n",
            "Action Input: 三亚 配送时间\n",
            "Observation:\u001b[0m\n",
            "Observation: \u001b[38;5;200m\u001b[1;3m7天无理由退货\u001b[0m\n",
            "Thought:\u001b[32;1m\u001b[1;3m对不起，我需要重新调用FAQ函数来获取有关三亚配送时间的正确信息。\n",
            "\n",
            "Action: FAQ\n",
            "Action Input: 三亚 配送时间\n",
            "Observation:\u001b[0m\n",
            "Observation: \u001b[38;5;200m\u001b[1;3m7天无理由退货\u001b[0m\n",
            "Thought:\u001b[32;1m\u001b[1;3m\u001b[0m\n",
            "\n",
            "\u001b[1m> Finished chain.\u001b[0m\n",
            "Agent stopped due to iteration limit or time limit.\n"
          ]
        }
      ]
    },
    {
      "cell_type": "markdown",
      "source": [
        "下面要使用到faq小文件，暂时没有，无法往下做\n",
        "https://blog.csdn.net/dfBeautifulLive/article/details/133353827?spm=1001.2014.3001.5501\n",
        "\n",
        "跳过。。。。\n"
      ],
      "metadata": {
        "id": "2-Pz4LEBcc4k"
      }
    },
    {
      "cell_type": "code",
      "source": [
        "#优化 Prompt，让 AI 不要胡说\n",
        "#!pip install ipdb\n",
        "import ipdb\n",
        "from langchain.agents import initialize_agent, Tool\n",
        "\n",
        "llm = ChatZhipuAI(\n",
        "    model=\"glm-4\",\n",
        "    temperature=0.5,\n",
        ")\n",
        "\n",
        "import json\n",
        "import re\n",
        "\n",
        "ORDER_1=\"123ABC\"\n",
        "ORDER_2=\"456EFG\"\n",
        "\n",
        "ORDER_1_DETAIL={\n",
        "    \"order_number\":ORDER_1,\n",
        "    \"status\":\"已发货\",\n",
        "    \"shipping_date\": \"2023-01-03\",\n",
        "    \"estimated_delivered_date\": \"2023-01-05\",\n",
        "}\n",
        "\n",
        "ORDER_2_DETAIL={\n",
        "    \"order_number\":ORDER_2,\n",
        "    \"status\":\"未发货\",\n",
        "    \"shipping_date\": None,\n",
        "    \"estimated_delivered_date\": None,\n",
        "}\n",
        "\n",
        "# 模拟问关于订单\n",
        "def search_order(input:str) ->str:\n",
        "  \"\"\"useful for when you need to answer questions about customers orders\"\"\"\n",
        "  # print(f\"input=={input},{input}=={ORDER_1}\")\n",
        "\n",
        "  input = input.strip()\n",
        "  # ipdb.set_trace()\n",
        "  if re.search(ORDER_1, input):\n",
        "    return json.dumps(ORDER_1_DETAIL)\n",
        "  elif re.search(ORDER_2, input):\n",
        "    return json.dumps(ORDER_2_DETAIL)\n",
        "  else:\n",
        "    return f\"对不起，根据{input}没有找到您的订单\"\n",
        "\n",
        "\n",
        "\n",
        "# 模拟问关于推荐产品\n",
        "def recommend_product(input:str)->str:\n",
        "  return \"红色连衣裙\"\n",
        "\n",
        "# 模拟问电商faq\n",
        "def faq(input:str)->str:\n",
        "  return \"7天无理由退货\"\n",
        "\n",
        "\n",
        "# 创建工具列表\n",
        "tools = [\n",
        "    Tool(name=\"search_order\", func=search_order, description=\"Search for the status of an order.\"),\n",
        "    Tool(name=\"recommend_product\", func=recommend_product, description=\"Recommend a product based on user input.\"),\n",
        "    Tool(name=\"faq\", func=faq, description=\"Answer frequently asked questions about e-commerce.\"),\n",
        "]\n",
        "\n",
        "# 初始化代理\n",
        "agent = initialize_agent(tools=tools, llm=llm, agent=\"zero-shot-react-description\", verbose=True)\n"
      ],
      "metadata": {
        "id": "25Y5YEQRYqL7"
      },
      "execution_count": null,
      "outputs": []
    },
    {
      "cell_type": "code",
      "source": [
        "#第一问\n",
        "question = \"我有一张订单，订单号是989898DE，一直没有收到，能麻烦帮我查一下吗？\"\n",
        "answer = agent.run(question)\n",
        "print(answer)"
      ],
      "metadata": {
        "colab": {
          "base_uri": "https://localhost:8080/"
        },
        "id": "wU3yOOIife5R",
        "outputId": "74366795-3f77-4d87-e4f7-4612957c5c4c"
      },
      "execution_count": null,
      "outputs": [
        {
          "name": "stdout",
          "output_type": "stream",
          "text": [
            "\n",
            "\n",
            "\u001b[1m> Entering new AgentExecutor chain...\u001b[0m\n",
            "\u001b[32;1m\u001b[1;3m这个问题需要查询订单状态，因此我需要使用工具来帮助用户查询订单情况。\n",
            "\n",
            "Action: search_order\n",
            "Action Input: 989898DE\n",
            "Observation:\u001b[0minput==989898DE\n",
            "Observation:\n",
            "> \u001b[0;32m<ipython-input-99-f518a5852bf0>\u001b[0m(36)\u001b[0;36msearch_order\u001b[0;34m()\u001b[0m\n",
            "\u001b[0;32m     35 \u001b[0;31m  \u001b[0mipdb\u001b[0m\u001b[0;34m.\u001b[0m\u001b[0mset_trace\u001b[0m\u001b[0;34m(\u001b[0m\u001b[0;34m)\u001b[0m\u001b[0;34m\u001b[0m\u001b[0;34m\u001b[0m\u001b[0m\n",
            "\u001b[0m\u001b[0;32m---> 36 \u001b[0;31m  \u001b[0;32mif\u001b[0m \u001b[0minput\u001b[0m\u001b[0;34m==\u001b[0m\u001b[0mORDER_1\u001b[0m\u001b[0;34m:\u001b[0m\u001b[0;34m\u001b[0m\u001b[0;34m\u001b[0m\u001b[0m\n",
            "\u001b[0m\u001b[0;32m     37 \u001b[0;31m    \u001b[0;32mreturn\u001b[0m \u001b[0mjson\u001b[0m\u001b[0;34m.\u001b[0m\u001b[0mdumps\u001b[0m\u001b[0;34m(\u001b[0m\u001b[0mORDER_1_DETAIL\u001b[0m\u001b[0;34m)\u001b[0m\u001b[0;34m\u001b[0m\u001b[0;34m\u001b[0m\u001b[0m\n",
            "\u001b[0m\n",
            "ipdb> n\n",
            "> \u001b[0;32m<ipython-input-99-f518a5852bf0>\u001b[0m(38)\u001b[0;36msearch_order\u001b[0;34m()\u001b[0m\n",
            "\u001b[0;32m     37 \u001b[0;31m    \u001b[0;32mreturn\u001b[0m \u001b[0mjson\u001b[0m\u001b[0;34m.\u001b[0m\u001b[0mdumps\u001b[0m\u001b[0;34m(\u001b[0m\u001b[0mORDER_1_DETAIL\u001b[0m\u001b[0;34m)\u001b[0m\u001b[0;34m\u001b[0m\u001b[0;34m\u001b[0m\u001b[0m\n",
            "\u001b[0m\u001b[0;32m---> 38 \u001b[0;31m  \u001b[0;32melif\u001b[0m \u001b[0minput\u001b[0m\u001b[0;34m==\u001b[0m\u001b[0mORDER_2\u001b[0m\u001b[0;34m:\u001b[0m\u001b[0;34m\u001b[0m\u001b[0;34m\u001b[0m\u001b[0m\n",
            "\u001b[0m\u001b[0;32m     39 \u001b[0;31m    \u001b[0;32mreturn\u001b[0m \u001b[0mjson\u001b[0m\u001b[0;34m.\u001b[0m\u001b[0mdumps\u001b[0m\u001b[0;34m(\u001b[0m\u001b[0mORDER_2_DETAIL\u001b[0m\u001b[0;34m)\u001b[0m\u001b[0;34m\u001b[0m\u001b[0;34m\u001b[0m\u001b[0m\n",
            "\u001b[0m\n",
            "ipdb> q\n"
          ]
        }
      ]
    },
    {
      "cell_type": "code",
      "source": [
        "#第二问 ORDER_1=\"123ABC\" ORDER_2=\"456EFG\"\n",
        "question = \"我有一张订单，订单号是123ABC，一直没有收到，能麻烦帮我查一下吗？\"\n",
        "answer = agent.run(question)\n",
        "print(answer)"
      ],
      "metadata": {
        "colab": {
          "base_uri": "https://localhost:8080/"
        },
        "id": "bCeqzdg_hXvM",
        "outputId": "8dd724bd-220c-4066-9642-5ac38ded4fb5"
      },
      "execution_count": null,
      "outputs": [
        {
          "output_type": "stream",
          "name": "stdout",
          "text": [
            "\n",
            "\n",
            "\u001b[1m> Entering new AgentExecutor chain...\u001b[0m\n",
            "\u001b[32;1m\u001b[1;3m这个问题需要查询订单状态，我可以使用提供的 `search_order` 函数来帮助用户查询订单情况。\n",
            "Action: search_order\n",
            "Action Input: '123ABC'\n",
            "Observation:\u001b[0m> \u001b[0;32m<ipython-input-110-1aae8d4c9756>\u001b[0m(39)\u001b[0;36msearch_order\u001b[0;34m()\u001b[0m\n",
            "\u001b[0;32m     38 \u001b[0;31m  \u001b[0mipdb\u001b[0m\u001b[0;34m.\u001b[0m\u001b[0mset_trace\u001b[0m\u001b[0;34m(\u001b[0m\u001b[0;34m)\u001b[0m\u001b[0;34m\u001b[0m\u001b[0;34m\u001b[0m\u001b[0m\n",
            "\u001b[0m\u001b[0;32m---> 39 \u001b[0;31m  \u001b[0;32mif\u001b[0m \u001b[0mre\u001b[0m\u001b[0;34m.\u001b[0m\u001b[0msearch\u001b[0m\u001b[0;34m(\u001b[0m\u001b[0mORDER_1\u001b[0m\u001b[0;34m,\u001b[0m \u001b[0minput\u001b[0m\u001b[0;34m)\u001b[0m\u001b[0;34m:\u001b[0m\u001b[0;34m\u001b[0m\u001b[0;34m\u001b[0m\u001b[0m\n",
            "\u001b[0m\u001b[0;32m     40 \u001b[0;31m    \u001b[0;32mreturn\u001b[0m \u001b[0mjson\u001b[0m\u001b[0;34m.\u001b[0m\u001b[0mdumps\u001b[0m\u001b[0;34m(\u001b[0m\u001b[0mORDER_1_DETAIL\u001b[0m\u001b[0;34m)\u001b[0m\u001b[0;34m\u001b[0m\u001b[0;34m\u001b[0m\u001b[0m\n",
            "\u001b[0m\n",
            "ipdb> n\n",
            "> \u001b[0;32m<ipython-input-110-1aae8d4c9756>\u001b[0m(40)\u001b[0;36msearch_order\u001b[0;34m()\u001b[0m\n",
            "\u001b[0;32m     39 \u001b[0;31m  \u001b[0;32mif\u001b[0m \u001b[0mre\u001b[0m\u001b[0;34m.\u001b[0m\u001b[0msearch\u001b[0m\u001b[0;34m(\u001b[0m\u001b[0mORDER_1\u001b[0m\u001b[0;34m,\u001b[0m \u001b[0minput\u001b[0m\u001b[0;34m)\u001b[0m\u001b[0;34m:\u001b[0m\u001b[0;34m\u001b[0m\u001b[0;34m\u001b[0m\u001b[0m\n",
            "\u001b[0m\u001b[0;32m---> 40 \u001b[0;31m    \u001b[0;32mreturn\u001b[0m \u001b[0mjson\u001b[0m\u001b[0;34m.\u001b[0m\u001b[0mdumps\u001b[0m\u001b[0;34m(\u001b[0m\u001b[0mORDER_1_DETAIL\u001b[0m\u001b[0;34m)\u001b[0m\u001b[0;34m\u001b[0m\u001b[0;34m\u001b[0m\u001b[0m\n",
            "\u001b[0m\u001b[0;32m     41 \u001b[0;31m  \u001b[0;32melif\u001b[0m \u001b[0mre\u001b[0m\u001b[0;34m.\u001b[0m\u001b[0msearch\u001b[0m\u001b[0;34m(\u001b[0m\u001b[0mORDER_2\u001b[0m\u001b[0;34m,\u001b[0m \u001b[0minput\u001b[0m\u001b[0;34m)\u001b[0m\u001b[0;34m:\u001b[0m\u001b[0;34m\u001b[0m\u001b[0;34m\u001b[0m\u001b[0m\n",
            "\u001b[0m\n",
            "ipdb> n\n",
            "--Return--\n",
            "'{\"order_numb...\"2023-01-05\"}'\n",
            "> \u001b[0;32m<ipython-input-110-1aae8d4c9756>\u001b[0m(40)\u001b[0;36msearch_order\u001b[0;34m()\u001b[0m\n",
            "\u001b[0;32m     39 \u001b[0;31m  \u001b[0;32mif\u001b[0m \u001b[0mre\u001b[0m\u001b[0;34m.\u001b[0m\u001b[0msearch\u001b[0m\u001b[0;34m(\u001b[0m\u001b[0mORDER_1\u001b[0m\u001b[0;34m,\u001b[0m \u001b[0minput\u001b[0m\u001b[0;34m)\u001b[0m\u001b[0;34m:\u001b[0m\u001b[0;34m\u001b[0m\u001b[0;34m\u001b[0m\u001b[0m\n",
            "\u001b[0m\u001b[0;32m---> 40 \u001b[0;31m    \u001b[0;32mreturn\u001b[0m \u001b[0mjson\u001b[0m\u001b[0;34m.\u001b[0m\u001b[0mdumps\u001b[0m\u001b[0;34m(\u001b[0m\u001b[0mORDER_1_DETAIL\u001b[0m\u001b[0;34m)\u001b[0m\u001b[0;34m\u001b[0m\u001b[0;34m\u001b[0m\u001b[0m\n",
            "\u001b[0m\u001b[0;32m     41 \u001b[0;31m  \u001b[0;32melif\u001b[0m \u001b[0mre\u001b[0m\u001b[0;34m.\u001b[0m\u001b[0msearch\u001b[0m\u001b[0;34m(\u001b[0m\u001b[0mORDER_2\u001b[0m\u001b[0;34m,\u001b[0m \u001b[0minput\u001b[0m\u001b[0;34m)\u001b[0m\u001b[0;34m:\u001b[0m\u001b[0;34m\u001b[0m\u001b[0;34m\u001b[0m\u001b[0m\n",
            "\u001b[0m\n",
            "ipdb> c\n",
            "\n",
            "Observation: \u001b[36;1m\u001b[1;3m{\"order_number\": \"123ABC\", \"status\": \"\\u5df2\\u53d1\\u8d27\", \"shipping_date\": \"2023-01-03\", \"estimated_delivered_date\": \"2023-01-05\"}\u001b[0m\n",
            "Thought:\u001b[32;1m\u001b[1;3m根据查询结果，订单已经发货，发货日期是2023年1月3日，预计送达日期是2023年1月5日。由于今天已经是1月5日，如果用户还没有收到货物，可能是遇到了运输延迟。\n",
            "Thought: 我需要告诉用户订单的状态，并建议他们耐心等待或联系快递公司查询具体的快递信息。\n",
            "\n",
            "Final Answer: 您的订单号123ABC已经发货，发货日期是2023年1月3日，预计送达日期是2023年1月5日。如果到今天还没有收到，可能是遇到了快递延迟，建议您耐心等待或者联系快递公司获取更详细的快递信息。\u001b[0m\n",
            "\n",
            "\u001b[1m> Finished chain.\u001b[0m\n",
            "您的订单号123ABC已经发货，发货日期是2023年1月3日，预计送达日期是2023年1月5日。如果到今天还没有收到，可能是遇到了快递延迟，建议您耐心等待或者联系快递公司获取更详细的快递信息。\n"
          ]
        }
      ]
    },
    {
      "cell_type": "code",
      "source": [],
      "metadata": {
        "id": "rKijK-R2ffcc"
      },
      "execution_count": null,
      "outputs": []
    }
  ]
}