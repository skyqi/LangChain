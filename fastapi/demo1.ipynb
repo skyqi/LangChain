{
  "cells": [
    {
      "cell_type": "markdown",
      "metadata": {
        "id": "view-in-github",
        "colab_type": "text"
      },
      "source": [
        "<a href=\"https://colab.research.google.com/github/skyqi/LangChain/blob/main/fastapi/demo1.ipynb\" target=\"_parent\"><img src=\"https://colab.research.google.com/assets/colab-badge.svg\" alt=\"Open In Colab\"/></a>"
      ]
    },
    {
      "cell_type": "code",
      "execution_count": null,
      "metadata": {
        "id": "wYywCGXmno77"
      },
      "outputs": [],
      "source": [
        "!pip install \"fastapi[standard]\""
      ]
    },
    {
      "cell_type": "code",
      "source": [
        "!python -V"
      ],
      "metadata": {
        "colab": {
          "base_uri": "https://localhost:8080/"
        },
        "id": "AD8B3PAou3Se",
        "outputId": "6c7641bb-12c4-4bad-aacf-93d58f7719f9"
      },
      "execution_count": null,
      "outputs": [
        {
          "output_type": "stream",
          "name": "stdout",
          "text": [
            "Python 3.10.12\n"
          ]
        }
      ]
    },
    {
      "cell_type": "markdown",
      "source": [
        "路由文件"
      ],
      "metadata": {
        "id": "7O5S5iPAsQBI"
      }
    },
    {
      "cell_type": "code",
      "execution_count": null,
      "metadata": {
        "id": "FvOdIsNJoAx9"
      },
      "outputs": [],
      "source": [
        "from typing import Union\n",
        "\n",
        "from fastapi import FastAPI\n",
        "\n",
        "app = FastAPI()\n",
        "\n",
        "@app.get(\"/items/{item_id}\")\n",
        "async def read_item(item_id: int):\n",
        "    return {\"item_id\": item_id}\n",
        "\n",
        "@app.get(\"/\")\n",
        "def read_root():\n",
        "    return {\"Hello\": \"World\"}\n",
        "\n",
        "\n"
      ]
    },
    {
      "cell_type": "code",
      "execution_count": null,
      "metadata": {
        "colab": {
          "background_save": true,
          "base_uri": "https://localhost:8080/"
        },
        "id": "dE4sXMxToXi1",
        "outputId": "8f0cb636-6e3d-4d5d-cfa5-0c15f3eb875e"
      },
      "outputs": [
        {
          "name": "stderr",
          "output_type": "stream",
          "text": [
            "INFO:     Started server process [655]\n",
            "INFO:     Waiting for application startup.\n",
            "INFO:     Application startup complete.\n",
            "INFO:     Uvicorn running on http://127.0.0.1:8000 (Press CTRL+C to quit)\n"
          ]
        }
      ],
      "source": [
        "import asyncio\n",
        "import uvicorn\n",
        "\n",
        "if __name__ == \"__main__\":\n",
        "    config = uvicorn.Config(app)\n",
        "    server = uvicorn.Server(config)\n",
        "    await server.serve()"
      ]
    },
    {
      "cell_type": "markdown",
      "source": [
        "`**external_data` 将 `external_data` 字典中的键值对作为参数传递给 `User` 类的构造函数。\n",
        "\n",
        "\"pydantic\" 这个英文名称，音译为“派丹迪克”"
      ],
      "metadata": {
        "id": "lrRf34mlsc6h"
      }
    },
    {
      "cell_type": "markdown",
      "source": [],
      "metadata": {
        "id": "fOqhm1JutGdv"
      }
    },
    {
      "cell_type": "code",
      "source": [
        "from datetime import datetime\n",
        "\n",
        "from pydantic import BaseModel\n",
        "\n",
        "class User(BaseModel):\n",
        "    id: int\n",
        "    name: str = \"John Doe\"\n",
        "    signup_ts: datetime | None = None\n",
        "    friends: list[int] = []\n",
        "\n",
        "\n",
        "external_data = {\n",
        "    \"id\": \"123\",\n",
        "    \"signup_ts\": \"2017-06-01 12:22\",\n",
        "    \"friends\": [1, \"2\", b\"3\"],\n",
        "}\n",
        "user = User(**external_data)\n",
        "print(user)\n",
        "# > User id=123 name='John Doe' signup_ts=datetime.datetime(2017, 6, 1, 12, 22) friends=[1, 2, 3]\n",
        "print(user.id)\n",
        "# > 123"
      ],
      "metadata": {
        "colab": {
          "base_uri": "https://localhost:8080/"
        },
        "id": "DuPcv-xhsIGO",
        "outputId": "b8cfbd04-5309-46b3-b093-83059ec2d5fb"
      },
      "execution_count": null,
      "outputs": [
        {
          "output_type": "stream",
          "name": "stdout",
          "text": [
            "id=123 name='John Doe' signup_ts=datetime.datetime(2017, 6, 1, 12, 22) friends=[1, 2, 3]\n",
            "123\n"
          ]
        }
      ]
    },
    {
      "cell_type": "markdown",
      "source": [
        "当您声明不属于 path 参数的其他函数参数时，它们将自动解释为 “query” 参数。\n",
        "\n",
        "# 假设有一个列表\n",
        "my_list = [0, 1, 2, 3, 4, 5, 6, 7, 8, 9]\n",
        "\n",
        "# 切片操作\n",
        "print(my_list[2:5])  # 输出: [2, 3, 4]\n",
        "print(my_list[2:])   # 输出: [2, 3, 4, 5, 6, 7, 8, 9]\n",
        "print(my_list[:4])   # 输出: [0, 1, 2, 3]\n",
        "print(my_list[::2])  # 输出: [0, 2, 4, 6, 8]\n",
        "print(my_list[-3:])  # 输出: [7, 8, 9]\n",
        "print(my_list[-3:-1]) # 输出: [7, 8]\n",
        "print(my_list[2:8:2]) # 输出: [2, 4, 6]\n",
        "print(my_list[::3])  # 输出: [0, 3, 6, 9]\n",
        "print(my_list[5:0:-1]) # 输出: [5, 4, 3, 2, 1]\n",
        "print(my_list[::-1])  # 输出: [9, 8, 7, 6, 5, 4, 3, 2, 1, 0]\n"
      ],
      "metadata": {
        "id": "zePs9Bx6tp8A"
      }
    },
    {
      "cell_type": "code",
      "source": [
        "from fastapi import FastAPI\n",
        "\n",
        "app = FastAPI()\n",
        "fake_items_db2 = [{\"item_name\": \"Foo\"}, {\"item_name\": \"Bar1\"}, {\"item_name\": \"Baz2\"}]\n",
        "@app.get(\"/read_item\")\n",
        "async def read_item(skip: int = 0, limit: int = 10):\n",
        "  print(fake_items_db2[skip : skip + limit]) #[0:0+10]切片\n",
        "\n",
        "# 直接调用函数测试，否则在\n",
        "# 注意，因为 read_item 是一个异步函数，你需要使用异步环境来调用它\n",
        "# 在事件循环中运行异步函数\n",
        "import asyncio\n",
        "# 获取当前事件循环\n",
        "await asyncio.get_running_loop().create_task(read_item(0,2))\n",
        "# 等待任务完成（可选，取决于你的用例）\n",
        "await task\n",
        "\n",
        "\n"
      ],
      "metadata": {
        "colab": {
          "base_uri": "https://localhost:8080/"
        },
        "id": "YuMwg4kdtpFQ",
        "outputId": "d8af1a22-f3fd-47aa-ba26-df7f52b4e259"
      },
      "execution_count": null,
      "outputs": [
        {
          "output_type": "stream",
          "name": "stdout",
          "text": [
            "[{'item_name': 'Foo'}, {'item_name': 'Bar1'}]\n"
          ]
        },
        {
          "output_type": "execute_result",
          "data": {
            "text/plain": [
              "[{'item_name': 'Foo'}, {'item_name': 'Bar'}, {'item_name': 'Baz'}]"
            ]
          },
          "metadata": {},
          "execution_count": 27
        }
      ]
    },
    {
      "cell_type": "code",
      "source": [
        "!curl http://127.0.0.1:8000/read_item"
      ],
      "metadata": {
        "colab": {
          "base_uri": "https://localhost:8080/"
        },
        "id": "stPhI1_0v43r",
        "outputId": "b271d5f8-c057-42ba-f942-cc5be232ca89"
      },
      "execution_count": null,
      "outputs": [
        {
          "output_type": "stream",
          "name": "stdout",
          "text": [
            "curl: (7) Failed to connect to 127.0.0.1 port 8000 after 0 ms: Connection refused\n"
          ]
        }
      ]
    }
  ],
  "metadata": {
    "colab": {
      "provenance": [],
      "authorship_tag": "ABX9TyNmP0SKsJC4a53NpKKvVqQt",
      "include_colab_link": true
    },
    "kernelspec": {
      "display_name": "Python 3",
      "name": "python3"
    },
    "language_info": {
      "name": "python"
    }
  },
  "nbformat": 4,
  "nbformat_minor": 0
}