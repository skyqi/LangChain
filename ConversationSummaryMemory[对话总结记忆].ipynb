{
  "nbformat": 4,
  "nbformat_minor": 0,
  "metadata": {
    "colab": {
      "provenance": [],
      "toc_visible": true,
      "authorship_tag": "ABX9TyPzlwJMNIzh9nFb5wcVBlqI",
      "include_colab_link": true
    },
    "kernelspec": {
      "name": "python3",
      "display_name": "Python 3"
    },
    "language_info": {
      "name": "python"
    }
  },
  "cells": [
    {
      "cell_type": "markdown",
      "metadata": {
        "id": "view-in-github",
        "colab_type": "text"
      },
      "source": [
        "<a href=\"https://colab.research.google.com/github/skyqi/LangChain/blob/main/ConversationSummaryMemory%5B%E5%AF%B9%E8%AF%9D%E6%80%BB%E7%BB%93%E8%AE%B0%E5%BF%86%5D.ipynb\" target=\"_parent\"><img src=\"https://colab.research.google.com/assets/colab-badge.svg\" alt=\"Open In Colab\"/></a>"
      ]
    },
    {
      "cell_type": "markdown",
      "source": [
        "# ConversationSummaryMemory（对话总结记忆）\n",
        "ConversationSummaryMemory（对话总结记忆）的思路就是\n",
        "将对话历史进行汇总，然后再传递给 {history}参数。\n",
        "旨在通过对之前的对话进行汇总来避免过度使用Token。"
      ],
      "metadata": {
        "id": "hHrcIalephCp"
      }
    },
    {
      "cell_type": "code",
      "execution_count": 4,
      "metadata": {
        "colab": {
          "base_uri": "https://localhost:8080/"
        },
        "id": "h4B1rDCphoQG",
        "outputId": "ee81084b-df33-4729-8753-b32bdca64099"
      },
      "outputs": [
        {
          "name": "stdout",
          "output_type": "stream",
          "text": [
            "··········\n"
          ]
        }
      ],
      "source": [
        "import os\n",
        "import getpass\n",
        "\n",
        "api_key = os.getenv(\"ZHIPUAI_API_KEY\")\n",
        "if api_key is None:\n",
        "  os.environ[\"ZHIPUAI_API_KEY\"] = getpass.getpass()"
      ]
    },
    {
      "cell_type": "code",
      "source": [
        "#!pip install --upgrade --quiet  langchain-google-genai pillow\n",
        "#!pip install langchain langchain_community\n",
        "#!pip install --upgrade httpx httpx-sse PyJWT\n",
        "\n",
        "from langchain_community.chat_models import ChatZhipuAI\n",
        "\n",
        "from langchain_community.chat_message_histories import ChatMessageHistory\n",
        "#from langchain_core.chat_history import BaseChatMessageHistory\n",
        "#from langchain.memory import ConversationBufferMemory\n",
        "#from langchain.memory import ConversationSummaryMemory\n",
        "\n",
        "from langchain_core.runnables.history import RunnableWithMessageHistory\n",
        "from langchain_core.messages import AIMessage, HumanMessage, SystemMessage\n",
        "from langchain.chains import ConversationChain\n",
        "\n",
        "llm = ChatZhipuAI(\n",
        "    model=\"glm-4\",\n",
        "    temperature=0.5,\n",
        ")\n",
        "\n",
        "#memory = ConversationSummaryMemory(llm=llm,max_token_limit=100)"
      ],
      "metadata": {
        "colab": {
          "base_uri": "https://localhost:8080/",
          "height": 1000
        },
        "collapsed": true,
        "id": "TJ8tm4aoiorS",
        "outputId": "3d43b577-9b79-495e-8a1d-ed92607f58c2"
      },
      "execution_count": 6,
      "outputs": [
        {
          "output_type": "stream",
          "name": "stdout",
          "text": [
            "Requirement already satisfied: langchain in /usr/local/lib/python3.10/dist-packages (0.2.3)\n",
            "Requirement already satisfied: langchain_community in /usr/local/lib/python3.10/dist-packages (0.2.4)\n",
            "Requirement already satisfied: PyYAML>=5.3 in /usr/local/lib/python3.10/dist-packages (from langchain) (6.0.1)\n",
            "Requirement already satisfied: SQLAlchemy<3,>=1.4 in /usr/local/lib/python3.10/dist-packages (from langchain) (2.0.30)\n",
            "Requirement already satisfied: aiohttp<4.0.0,>=3.8.3 in /usr/local/lib/python3.10/dist-packages (from langchain) (3.9.5)\n",
            "Requirement already satisfied: async-timeout<5.0.0,>=4.0.0 in /usr/local/lib/python3.10/dist-packages (from langchain) (4.0.3)\n",
            "Requirement already satisfied: langchain-core<0.3.0,>=0.2.0 in /usr/local/lib/python3.10/dist-packages (from langchain) (0.2.5)\n",
            "Requirement already satisfied: langchain-text-splitters<0.3.0,>=0.2.0 in /usr/local/lib/python3.10/dist-packages (from langchain) (0.2.1)\n",
            "Requirement already satisfied: langsmith<0.2.0,>=0.1.17 in /usr/local/lib/python3.10/dist-packages (from langchain) (0.1.77)\n",
            "Requirement already satisfied: numpy<2,>=1 in /usr/local/lib/python3.10/dist-packages (from langchain) (1.25.2)\n",
            "Requirement already satisfied: pydantic<3,>=1 in /usr/local/lib/python3.10/dist-packages (from langchain) (2.7.3)\n",
            "Requirement already satisfied: requests<3,>=2 in /usr/local/lib/python3.10/dist-packages (from langchain) (2.31.0)\n",
            "Requirement already satisfied: tenacity<9.0.0,>=8.1.0 in /usr/local/lib/python3.10/dist-packages (from langchain) (8.3.0)\n",
            "Requirement already satisfied: dataclasses-json<0.7,>=0.5.7 in /usr/local/lib/python3.10/dist-packages (from langchain_community) (0.6.7)\n",
            "Requirement already satisfied: aiosignal>=1.1.2 in /usr/local/lib/python3.10/dist-packages (from aiohttp<4.0.0,>=3.8.3->langchain) (1.3.1)\n",
            "Requirement already satisfied: attrs>=17.3.0 in /usr/local/lib/python3.10/dist-packages (from aiohttp<4.0.0,>=3.8.3->langchain) (23.2.0)\n",
            "Requirement already satisfied: frozenlist>=1.1.1 in /usr/local/lib/python3.10/dist-packages (from aiohttp<4.0.0,>=3.8.3->langchain) (1.4.1)\n",
            "Requirement already satisfied: multidict<7.0,>=4.5 in /usr/local/lib/python3.10/dist-packages (from aiohttp<4.0.0,>=3.8.3->langchain) (6.0.5)\n",
            "Requirement already satisfied: yarl<2.0,>=1.0 in /usr/local/lib/python3.10/dist-packages (from aiohttp<4.0.0,>=3.8.3->langchain) (1.9.4)\n",
            "Requirement already satisfied: marshmallow<4.0.0,>=3.18.0 in /usr/local/lib/python3.10/dist-packages (from dataclasses-json<0.7,>=0.5.7->langchain_community) (3.21.3)\n",
            "Requirement already satisfied: typing-inspect<1,>=0.4.0 in /usr/local/lib/python3.10/dist-packages (from dataclasses-json<0.7,>=0.5.7->langchain_community) (0.9.0)\n",
            "Requirement already satisfied: jsonpatch<2.0,>=1.33 in /usr/local/lib/python3.10/dist-packages (from langchain-core<0.3.0,>=0.2.0->langchain) (1.33)\n",
            "Requirement already satisfied: packaging<24.0,>=23.2 in /usr/local/lib/python3.10/dist-packages (from langchain-core<0.3.0,>=0.2.0->langchain) (23.2)\n",
            "Requirement already satisfied: orjson<4.0.0,>=3.9.14 in /usr/local/lib/python3.10/dist-packages (from langsmith<0.2.0,>=0.1.17->langchain) (3.10.4)\n",
            "Requirement already satisfied: annotated-types>=0.4.0 in /usr/local/lib/python3.10/dist-packages (from pydantic<3,>=1->langchain) (0.7.0)\n",
            "Requirement already satisfied: pydantic-core==2.18.4 in /usr/local/lib/python3.10/dist-packages (from pydantic<3,>=1->langchain) (2.18.4)\n",
            "Requirement already satisfied: typing-extensions>=4.6.1 in /usr/local/lib/python3.10/dist-packages (from pydantic<3,>=1->langchain) (4.12.1)\n",
            "Requirement already satisfied: charset-normalizer<4,>=2 in /usr/local/lib/python3.10/dist-packages (from requests<3,>=2->langchain) (3.3.2)\n",
            "Requirement already satisfied: idna<4,>=2.5 in /usr/local/lib/python3.10/dist-packages (from requests<3,>=2->langchain) (3.7)\n",
            "Requirement already satisfied: urllib3<3,>=1.21.1 in /usr/local/lib/python3.10/dist-packages (from requests<3,>=2->langchain) (2.0.7)\n",
            "Requirement already satisfied: certifi>=2017.4.17 in /usr/local/lib/python3.10/dist-packages (from requests<3,>=2->langchain) (2024.6.2)\n",
            "Requirement already satisfied: greenlet!=0.4.17 in /usr/local/lib/python3.10/dist-packages (from SQLAlchemy<3,>=1.4->langchain) (3.0.3)\n",
            "Requirement already satisfied: jsonpointer>=1.9 in /usr/local/lib/python3.10/dist-packages (from jsonpatch<2.0,>=1.33->langchain-core<0.3.0,>=0.2.0->langchain) (3.0.0)\n",
            "Requirement already satisfied: mypy-extensions>=0.3.0 in /usr/local/lib/python3.10/dist-packages (from typing-inspect<1,>=0.4.0->dataclasses-json<0.7,>=0.5.7->langchain_community) (1.0.0)\n",
            "Requirement already satisfied: httpx in /usr/local/lib/python3.10/dist-packages (0.27.0)\n",
            "Requirement already satisfied: httpx-sse in /usr/local/lib/python3.10/dist-packages (0.4.0)\n",
            "Requirement already satisfied: PyJWT in /usr/local/lib/python3.10/dist-packages (2.8.0)\n",
            "Requirement already satisfied: anyio in /usr/local/lib/python3.10/dist-packages (from httpx) (3.7.1)\n",
            "Requirement already satisfied: certifi in /usr/local/lib/python3.10/dist-packages (from httpx) (2024.6.2)\n",
            "Requirement already satisfied: httpcore==1.* in /usr/local/lib/python3.10/dist-packages (from httpx) (1.0.5)\n",
            "Requirement already satisfied: idna in /usr/local/lib/python3.10/dist-packages (from httpx) (3.7)\n",
            "Requirement already satisfied: sniffio in /usr/local/lib/python3.10/dist-packages (from httpx) (1.3.1)\n",
            "Requirement already satisfied: h11<0.15,>=0.13 in /usr/local/lib/python3.10/dist-packages (from httpcore==1.*->httpx) (0.14.0)\n",
            "Requirement already satisfied: exceptiongroup in /usr/local/lib/python3.10/dist-packages (from anyio->httpx) (1.2.1)\n"
          ]
        },
        {
          "output_type": "error",
          "ename": "ImportError",
          "evalue": "cannot import name 'ConversationSummaryMemory' from 'langchain_community.memory' (/usr/local/lib/python3.10/dist-packages/langchain_community/memory/__init__.py)",
          "traceback": [
            "\u001b[0;31m---------------------------------------------------------------------------\u001b[0m",
            "\u001b[0;31mImportError\u001b[0m                               Traceback (most recent call last)",
            "\u001b[0;32m<ipython-input-6-6c3311a17322>\u001b[0m in \u001b[0;36m<cell line: 10>\u001b[0;34m()\u001b[0m\n\u001b[1;32m      8\u001b[0m \u001b[0;31m#from langchain_core.chat_history import BaseChatMessageHistory\u001b[0m\u001b[0;34m\u001b[0m\u001b[0;34m\u001b[0m\u001b[0m\n\u001b[1;32m      9\u001b[0m \u001b[0;31m#from langchain.memory import ConversationBufferMemory\u001b[0m\u001b[0;34m\u001b[0m\u001b[0;34m\u001b[0m\u001b[0m\n\u001b[0;32m---> 10\u001b[0;31m \u001b[0;32mfrom\u001b[0m \u001b[0mlangchain_community\u001b[0m\u001b[0;34m.\u001b[0m\u001b[0mmemory\u001b[0m \u001b[0;32mimport\u001b[0m \u001b[0mConversationSummaryMemory\u001b[0m\u001b[0;34m\u001b[0m\u001b[0;34m\u001b[0m\u001b[0m\n\u001b[0m\u001b[1;32m     11\u001b[0m \u001b[0;34m\u001b[0m\u001b[0m\n\u001b[1;32m     12\u001b[0m \u001b[0;32mfrom\u001b[0m \u001b[0mlangchain_core\u001b[0m\u001b[0;34m.\u001b[0m\u001b[0mrunnables\u001b[0m\u001b[0;34m.\u001b[0m\u001b[0mhistory\u001b[0m \u001b[0;32mimport\u001b[0m \u001b[0mRunnableWithMessageHistory\u001b[0m\u001b[0;34m\u001b[0m\u001b[0;34m\u001b[0m\u001b[0m\n",
            "\u001b[0;31mImportError\u001b[0m: cannot import name 'ConversationSummaryMemory' from 'langchain_community.memory' (/usr/local/lib/python3.10/dist-packages/langchain_community/memory/__init__.py)",
            "",
            "\u001b[0;31m---------------------------------------------------------------------------\u001b[0;32m\nNOTE: If your import is failing due to a missing package, you can\nmanually install dependencies using either !pip or !apt.\n\nTo view examples of installing some common dependencies, click the\n\"Open Examples\" button below.\n\u001b[0;31m---------------------------------------------------------------------------\u001b[0m\n"
          ],
          "errorDetails": {
            "actions": [
              {
                "action": "open_url",
                "actionText": "Open Examples",
                "url": "/notebooks/snippets/importing_libraries.ipynb"
              }
            ]
          }
        }
      ]
    },
    {
      "cell_type": "code",
      "source": [
        "from langchain.memory import ConversationSummaryMemory\n",
        "llm = ChatZhipuAI(\n",
        "    model=\"glm-4\",\n",
        "    temperature=0.5,\n",
        ")\n",
        "\n",
        "memory = ConversationSummaryMemory(llm=llm,max_token_limit=100)"
      ],
      "metadata": {
        "id": "aYfwvUmbkG50"
      },
      "execution_count": 8,
      "outputs": []
    },
    {
      "cell_type": "code",
      "source": [
        "conversation_with_summary = ConversationChain(\n",
        "    llm=llm,\n",
        "    memory= memory,\n",
        "    verbose=True\n",
        ")"
      ],
      "metadata": {
        "id": "_Ur23FyOiovm"
      },
      "execution_count": 10,
      "outputs": []
    },
    {
      "cell_type": "code",
      "source": [
        "conversation_with_summary.predict(input=\"你好\")"
      ],
      "metadata": {
        "colab": {
          "base_uri": "https://localhost:8080/",
          "height": 263
        },
        "id": "591sQCHaioym",
        "outputId": "3fe838bf-3d67-4491-a46a-5667c9118744"
      },
      "execution_count": 11,
      "outputs": [
        {
          "output_type": "stream",
          "name": "stdout",
          "text": [
            "\n",
            "\n",
            "\u001b[1m> Entering new ConversationChain chain...\u001b[0m\n",
            "Prompt after formatting:\n",
            "\u001b[32;1m\u001b[1;3mThe following is a friendly conversation between a human and an AI. The AI is talkative and provides lots of specific details from its context. If the AI does not know the answer to a question, it truthfully says it does not know.\n",
            "\n",
            "Current conversation:\n",
            "\n",
            "Human: 你好\n",
            "AI:\u001b[0m\n",
            "\n",
            "\u001b[1m> Finished chain.\u001b[0m\n"
          ]
        },
        {
          "output_type": "execute_result",
          "data": {
            "text/plain": [
              "'你好！有什么我可以帮助你的吗？无论是生活中的小事，还是需要解答的疑问，都可以告诉我哦。我会尽我所能提供帮助。'"
            ],
            "application/vnd.google.colaboratory.intrinsic+json": {
              "type": "string"
            }
          },
          "metadata": {},
          "execution_count": 11
        }
      ]
    },
    {
      "cell_type": "code",
      "source": [
        "conversation_with_summary.predict(input=\"如何保持健康的生活方式\")\n",
        "conversation_with_summary.predict(input=\"怎样平衡工作和个人生活\")\n",
        "conversation_with_summary.predict(input=\"如何培养良好的人际关系\")\n",
        "conversation_with_summary.predict(input=\"有效的学习方法和技巧\")"
      ],
      "metadata": {
        "colab": {
          "base_uri": "https://localhost:8080/",
          "height": 1000
        },
        "id": "8pi6_6ebio01",
        "outputId": "bb5cb5b4-b670-4d15-896d-a7e557d03a7c"
      },
      "execution_count": 12,
      "outputs": [
        {
          "output_type": "stream",
          "name": "stdout",
          "text": [
            "\n",
            "\n",
            "\u001b[1m> Entering new ConversationChain chain...\u001b[0m\n",
            "Prompt after formatting:\n",
            "\u001b[32;1m\u001b[1;3mThe following is a friendly conversation between a human and an AI. The AI is talkative and provides lots of specific details from its context. If the AI does not know the answer to a question, it truthfully says it does not know.\n",
            "\n",
            "Current conversation:\n",
            "The conversation begins with a simple greeting exchange between the human and the AI, where the AI expresses its willingness to assist with any questions or needs the human may have. \n",
            "\n",
            "Current summary: The human and AI exchange greetings, with the AI offering assistance for any questions or issues the human might have.\n",
            "Human: 如何保持健康的生活方式\n",
            "AI:\u001b[0m\n",
            "\n",
            "\u001b[1m> Finished chain.\u001b[0m\n",
            "\n",
            "\n",
            "\u001b[1m> Entering new ConversationChain chain...\u001b[0m\n",
            "Prompt after formatting:\n",
            "\u001b[32;1m\u001b[1;3mThe following is a friendly conversation between a human and an AI. The AI is talkative and provides lots of specific details from its context. If the AI does not know the answer to a question, it truthfully says it does not know.\n",
            "\n",
            "Current conversation:\n",
            "The human inquires about maintaining a healthy lifestyle, to which the AI responds by outlining several key steps including a balanced diet, moderate exercise, maintaining good sleeping habits, focusing on mental health, regular health check-ups, quitting smoking and limiting alcohol, as well as engaging in social interactions. The AI offers to answer any further questions the human may have. Therefore, the updated summary is: The human and AI exchange greetings, with the AI offering detailed advice on maintaining a healthy lifestyle, which includes balanced eating, adequate exercise, proper rest, mental wellness, regular check-ups, and social engagement, and the AI remains available for additional inquiries.\n",
            "Human: 怎样平衡工作和个人生活\n",
            "AI:\u001b[0m\n",
            "\n",
            "\u001b[1m> Finished chain.\u001b[0m\n",
            "\n",
            "\n",
            "\u001b[1m> Entering new ConversationChain chain...\u001b[0m\n",
            "Prompt after formatting:\n",
            "\u001b[32;1m\u001b[1;3mThe following is a friendly conversation between a human and an AI. The AI is talkative and provides lots of specific details from its context. If the AI does not know the answer to a question, it truthfully says it does not know.\n",
            "\n",
            "Current conversation:\n",
            "The human and AI discuss maintaining a healthy lifestyle and the challenge of balancing work and personal life. The AI provides detailed suggestions on setting boundaries, managing time, prioritizing tasks, effective communication, being flexible, self-care, utilizing technology, learning to say no, taking vacations, and reflecting on one's balance. These strategies aim to help the human manage time and energy more effectively for a better work-personal life balance, with the AI offering further assistance if needed.\n",
            "Human: 如何培养良好的人际关系\n",
            "AI:\u001b[0m\n",
            "\n",
            "\u001b[1m> Finished chain.\u001b[0m\n",
            "\n",
            "\n",
            "\u001b[1m> Entering new ConversationChain chain...\u001b[0m\n",
            "Prompt after formatting:\n",
            "\u001b[32;1m\u001b[1;3mThe following is a friendly conversation between a human and an AI. The AI is talkative and provides lots of specific details from its context. If the AI does not know the answer to a question, it truthfully says it does not know.\n",
            "\n",
            "Current conversation:\n",
            "The human and AI have discussed maintaining a healthy lifestyle and balancing work and personal life, with the AI offering detailed strategies for time and energy management. They have now moved on to the topic of cultivating good interpersonal relationships. The AI suggests various methods including active listening, respect, openness, self-improvement, finding common ground, appropriate self-disclosure, maintaining a positive attitude, conflict resolution, effective time management, showing gratitude and appreciation, setting boundaries, engaging in social activities, and seeking and offering help. These approaches aim to help the human gradually develop and maintain healthy relationships, with the AI offering further tailored advice and support as needed.\n",
            "Human: 有效的学习方法和技巧\n",
            "AI:\u001b[0m\n",
            "\n",
            "\u001b[1m> Finished chain.\u001b[0m\n"
          ]
        },
        {
          "output_type": "execute_result",
          "data": {
            "text/plain": [
              "'AI: 有效的学习方法和技巧对于个人成长和发展同样重要。以下是一些建议，希望能帮助你提升学习效率：\\n\\n1. **明确学习目标**：设立具体、可衡量、可达成、相关性强和有时间限制的目标（SMART原则），这样可以让你的学习更有方向。\\n\\n2. **合理规划时间**：使用时间管理技巧，如番茄工作法，将学习时间分割成25分钟学习和5分钟休息的周期。\\n\\n3. **主动学习**：不要只是被动接受信息，要积极提问、总结和应用所学知识。\\n\\n4. **多样化学习方法**：结合视觉、听觉和动手操作等多种学习方式，比如制作思维导图、观看教学视频、参与实践项目等。\\n\\n5. **复习和巩固**：定期复习可以加深记忆，避免遗忘。\\n\\n6. **合作学习**：与同伴一起学习，通过讨论和解释概念给对方听，可以加深理解。\\n\\n7. **自我检测**：通过测试或者自我提问来检验学习成果。\\n\\n8. **保持好奇心**：对所学内容保持兴趣和好奇心，这可以提高学习的动力。\\n\\n9. **合理休息**：适当的休息和睡眠对于知识的记忆和整合至关重要。\\n\\n10. **自我激励**：为自己设立奖励机制，当达到学习目标时给予自己奖励。\\n\\n11. **利用资源**：充分利用图书馆、网络资源、开放课程等学习资源。\\n\\n12. **反思和调整**：定期反思学习方法和效果，根据反馈调整学习策略。\\n\\n通过这些方法，你可以更有效地吸收和运用新知识。当然，每个人的学习风格都是独特的，重要的是找到最适合自己的学习方式。如果你有任何具体的学习需求或者疑问，我可以提供更个性化的建议。'"
            ],
            "application/vnd.google.colaboratory.intrinsic+json": {
              "type": "string"
            }
          },
          "metadata": {},
          "execution_count": 12
        }
      ]
    },
    {
      "cell_type": "markdown",
      "source": [
        "如何保持健康的生活方式？\n",
        "怎样平衡工作和个人生活？\n",
        "如何培养良好的人际关系？\n",
        "有效的学习方法和技巧是什么？\n",
        "AI将以上问题做出总结，进行了回复\n",
        "\n",
        "AI: 有效的学习方法和技巧对于个人成长和发展同样重要。以下是一些建议，希望能帮助你提升学习效率：\n",
        "\n",
        "1. **明确学习目标**：设立具体、可衡量、可达成、相关性强和有时间限制的目标（SMART原则），这样可以让你的学习更有方向。\n",
        "\n",
        "2. **合理规划时间**：使用时间管理技巧，如番茄工作法，将学习时间分割成25分钟学习和5分钟休息的周期。\n",
        "\n",
        "3. **主动学习**：不要只是被动接受信息，要积极提问、总结和应用所学知识。\n",
        "\n",
        "4. **多样化学习方法**：结合视觉、听觉和动手操作等多种学习方式，比如制作思维导图、观看教学视频、参与实践项目等。\n",
        "\n",
        "5. **复习和巩固**：定期复习可以加深记忆，避免遗忘。\n",
        "\n",
        "6. **合作学习**：与同伴一起学习，通过讨论和解释概念给对方听，可以加深理解。\n",
        "\n",
        "7. **自我检测**：通过测试或者自我提问来检验学习成果。\n",
        "\n",
        "8. **保持好奇心**：对所学内容保持兴趣和好奇心，这可以提高学习的动力。\n",
        "\n",
        "9. **合理休息**：适当的休息和睡眠对于知识的记忆和整合至关重要。\n",
        "\n",
        "10. **自我激励**：为自己设立奖励机制，当达到学习目标时给予自己奖励。\n",
        "\n",
        "11. **利用资源**：充分利用图书馆、网络资源、开放课程等学习资源。\n",
        "\n",
        "12. **反思和调整**：定期反思学习方法和效果，根据反馈调整学习策略。\n",
        "\n",
        "通过这些方法，你可以更有效地吸收和运用新知识。当然，每个人的学习风格都是独特的，重要的是找到最适合自己的学习方式。如果你有任何具体的学习需求或者疑问，我可以提供更个性化的建议。"
      ],
      "metadata": {
        "id": "cgG3HFdhlZOF"
      }
    },
    {
      "cell_type": "code",
      "source": [
        "conversation_with_summary.predict(input=\"你好，我是位女生，喜欢美食\")"
      ],
      "metadata": {
        "colab": {
          "base_uri": "https://localhost:8080/",
          "height": 298
        },
        "id": "LOmY15jNio3T",
        "outputId": "a34aa640-93f8-4fd1-d30e-8f5c1b6c1e9b"
      },
      "execution_count": 13,
      "outputs": [
        {
          "output_type": "stream",
          "name": "stdout",
          "text": [
            "\n",
            "\n",
            "\u001b[1m> Entering new ConversationChain chain...\u001b[0m\n",
            "Prompt after formatting:\n",
            "\u001b[32;1m\u001b[1;3mThe following is a friendly conversation between a human and an AI. The AI is talkative and provides lots of specific details from its context. If the AI does not know the answer to a question, it truthfully says it does not know.\n",
            "\n",
            "Current conversation:\n",
            "The human and AI have discussed maintaining a healthy lifestyle, balancing work and personal life, and cultivating good interpersonal relationships. The AI has provided strategies for time and energy management, active learning, and effective study techniques. These include setting SMART goals, timeboxing with methods like the Pomodoro Technique, active engagement in learning, utilizing diverse study methods, regular review, collaborative learning, self-assessment, maintaining curiosity, adequate rest, self-motivation, leveraging resources, and reflective adjustments to study habits. The AI emphasizes the importance of finding personalized learning styles and offers tailored advice for any specific learning needs or questions the human may have.\n",
            "Human: 你好，我是位女生，喜欢美食\n",
            "AI:\u001b[0m\n",
            "\n",
            "\u001b[1m> Finished chain.\u001b[0m\n"
          ]
        },
        {
          "output_type": "execute_result",
          "data": {
            "text/plain": [
              "'你好！很高兴认识你。喜欢美食真是一件美好的事情，不仅能够享受美味，还能在品尝不同风味的过程中了解各种文化。当然，适量享受美食也是保持健康生活方式的一部分。不知道你最喜欢哪种类型的美食？或者有没有什么特别想尝试的菜肴？如果你愿意，我可以分享一些健康饮食的小建议，既能满足口腹之欲，又能维护身体健康。'"
            ],
            "application/vnd.google.colaboratory.intrinsic+json": {
              "type": "string"
            }
          },
          "metadata": {},
          "execution_count": 13
        }
      ]
    },
    {
      "cell_type": "code",
      "source": [
        "conversation_with_summary.predict(input=\"也喜欢做饭\")"
      ],
      "metadata": {
        "colab": {
          "base_uri": "https://localhost:8080/",
          "height": 281
        },
        "id": "WWtr7NNNmfwP",
        "outputId": "0e00b8ea-8332-41ca-e01a-b72d4c3988a1"
      },
      "execution_count": 14,
      "outputs": [
        {
          "output_type": "stream",
          "name": "stdout",
          "text": [
            "\n",
            "\n",
            "\u001b[1m> Entering new ConversationChain chain...\u001b[0m\n",
            "Prompt after formatting:\n",
            "\u001b[32;1m\u001b[1;3mThe following is a friendly conversation between a human and an AI. The AI is talkative and provides lots of specific details from its context. If the AI does not know the answer to a question, it truthfully says it does not know.\n",
            "\n",
            "Current conversation:\n",
            "The human and AI have discussed maintaining a healthy lifestyle, balancing work and personal life, cultivating good interpersonal relationships, and effective study techniques. The AI has provided comprehensive strategies for time and energy management, active learning, and personalized study habits. In the latest conversation, the human has expressed a fondness for food and the AI has shown enthusiasm for this topic, suggesting that enjoying food can also be part of a healthy lifestyle. The AI has offered to share healthy eating tips and is open to discussing the human's favorite foods and any new dishes they wish to try, demonstrating a willingness to provide advice that satisfies both taste preferences and health needs.\n",
            "Human: 也喜欢做饭\n",
            "AI:\u001b[0m\n",
            "\n",
            "\u001b[1m> Finished chain.\u001b[0m\n"
          ]
        },
        {
          "output_type": "execute_result",
          "data": {
            "text/plain": [
              "'AI: 那太棒了！喜欢做饭是一种非常有益的爱好，不仅能控制食材的新鲜度和营养成分，还能享受烹饪的乐趣。你最喜欢做什么类型的菜肴？是中餐、西餐，还是其他风格的美食？如果你愿意分享，我可以根据你的喜好提供一些健康烹饪的建议和食谱。'"
            ],
            "application/vnd.google.colaboratory.intrinsic+json": {
              "type": "string"
            }
          },
          "metadata": {},
          "execution_count": 14
        }
      ]
    },
    {
      "cell_type": "code",
      "source": [
        "conversation_with_summary.predict(input=\"也喜欢骑单车\")"
      ],
      "metadata": {
        "colab": {
          "base_uri": "https://localhost:8080/",
          "height": 298
        },
        "id": "Ep-TutKxm0kA",
        "outputId": "45af291c-e6e6-467b-bc5b-2fa6f4c980bf"
      },
      "execution_count": 15,
      "outputs": [
        {
          "output_type": "stream",
          "name": "stdout",
          "text": [
            "\n",
            "\n",
            "\u001b[1m> Entering new ConversationChain chain...\u001b[0m\n",
            "Prompt after formatting:\n",
            "\u001b[32;1m\u001b[1;3mThe following is a friendly conversation between a human and an AI. The AI is talkative and provides lots of specific details from its context. If the AI does not know the answer to a question, it truthfully says it does not know.\n",
            "\n",
            "Current conversation:\n",
            "The human and AI have discussed various aspects of leading a healthy lifestyle, including managing work and personal life, relationships, study techniques, and the importance of enjoying life, such as through food. The AI has provided strategies for time and energy management, learning, and personalized study habits. The human has shared a fondness for cooking, to which the AI responded with enthusiasm, considering it a beneficial hobby that allows for control over ingredients and nutrition while offering joy in cooking. The AI inquired about the human's preferred types of cuisine and offered to provide healthy cooking advice and recipes tailored to their preferences, showing a continuous support for the integration of health and personal enjoyment in the human's lifestyle.\n",
            "Human: 也喜欢骑单车\n",
            "AI:\u001b[0m\n",
            "\n",
            "\u001b[1m> Finished chain.\u001b[0m\n"
          ]
        },
        {
          "output_type": "execute_result",
          "data": {
            "text/plain": [
              "'AI: 骑单车是一项非常好的运动，它不仅能帮助您保持体形，还能让您的身心放松，同时减少碳足迹，对环境也有益处。您通常在什么时间骑单车呢？是作为一种日常通勤的方式，还是周末的休闲活动？不管怎样，保持安全也很重要，您有没有装备如头盔、反光背心等安全装备呢？如果您对健康食谱有兴趣，我也可以提供一些能够为您的骑行提供能量的食物建议。'"
            ],
            "application/vnd.google.colaboratory.intrinsic+json": {
              "type": "string"
            }
          },
          "metadata": {},
          "execution_count": 15
        }
      ]
    },
    {
      "cell_type": "code",
      "source": [
        "conversation_with_summary.predict(input=\"你知道我喜欢做什么？\")"
      ],
      "metadata": {
        "colab": {
          "base_uri": "https://localhost:8080/",
          "height": 298
        },
        "id": "kTUoHyDbnZO8",
        "outputId": "78be7796-cf15-4da6-b594-8bd2362d89f7"
      },
      "execution_count": 16,
      "outputs": [
        {
          "output_type": "stream",
          "name": "stdout",
          "text": [
            "\n",
            "\n",
            "\u001b[1m> Entering new ConversationChain chain...\u001b[0m\n",
            "Prompt after formatting:\n",
            "\u001b[32;1m\u001b[1;3mThe following is a friendly conversation between a human and an AI. The AI is talkative and provides lots of specific details from its context. If the AI does not know the answer to a question, it truthfully says it does not know.\n",
            "\n",
            "Current conversation:\n",
            "The human and AI have discussed various aspects of leading a healthy lifestyle, including managing work and personal life, relationships, study techniques, the joy of cooking, and the human's fondness for cycling. The AI has provided strategies for time and energy management, learning, and personalized study habits. The conversation evolved to include the human's enjoyment of cycling, which the AI supports as a beneficial activity for both physical fitness and mental relaxation, noting its positive impact on the environment. The AI inquired about the human's cycling habits and emphasized the importance of safety equipment. Additionally, the AI offered to provide healthy recipes that could energize the human for their cycling endeavors, demonstrating a comprehensive approach to supporting a healthy and active lifestyle.\n",
            "Human: 你知道我喜欢做什么？\n",
            "AI:\u001b[0m\n",
            "\n",
            "\u001b[1m> Finished chain.\u001b[0m\n"
          ]
        },
        {
          "output_type": "execute_result",
          "data": {
            "text/plain": [
              "'AI: 当然，我知道你喜欢骑自行车。我们之前还讨论过它对健康和环境的益处，以及你如何在日常生活中平衡工作、学习和这项活动。如果你有更多关于骑自行车的话题想要探讨，或者需要一些建议来增强你的骑行体验，我很乐意帮助你。同时，如果你需要更多健康食谱来支持你的活力，我也可以继续提供。'"
            ],
            "application/vnd.google.colaboratory.intrinsic+json": {
              "type": "string"
            }
          },
          "metadata": {},
          "execution_count": 16
        }
      ]
    },
    {
      "cell_type": "markdown",
      "source": [
        "AI: 当然，我知道你喜欢骑自行车。我们之前还讨论过它对健康和环境的益处，以及你如何在日常生活中平衡工作、学习和这项活动。如果你有更多关于骑自行车的话题想要探讨，或者需要一些建议来增强你的骑行体验，我很乐意帮助你。同时，如果你需要更多健康食谱来支持你的活力，我也可以继续提供。【总结性的回复】"
      ],
      "metadata": {
        "id": "VBI_xwVSnoWp"
      }
    },
    {
      "cell_type": "code",
      "source": [
        "# 打印内存的总结\n",
        "memory.load_memory_variables({})"
      ],
      "metadata": {
        "colab": {
          "base_uri": "https://localhost:8080/"
        },
        "id": "TizTWsRqn-5h",
        "outputId": "60b7e47c-7a46-4bf5-f94b-8ae789cea3d0"
      },
      "execution_count": 17,
      "outputs": [
        {
          "output_type": "execute_result",
          "data": {
            "text/plain": [
              "{'history': \"The human and AI have engaged in a thorough discussion on maintaining a healthy lifestyle, covering work-life balance, relationships, study tips, the pleasure of cooking, and the human's passion for cycling. The AI has provided guidance on managing time and energy, as well as personalized learning strategies. They have highlighted the health and environmental benefits of cycling, inquired about the human's cycling habits, and emphasized safety. In the latest exchange, the AI shows a deep understanding of the human's interests and offers ongoing support in terms of both cycling advice and healthy recipes to enhance the human's energy and overall cycling experience.\"}"
            ]
          },
          "metadata": {},
          "execution_count": 17
        }
      ]
    },
    {
      "cell_type": "markdown",
      "source": [
        "{'history'：“人类和人工智能就如何保持健康的生活方式进行了深入讨论，内容涵盖工作与生活的平衡、人际关系、学习技巧、烹饪的乐趣以及人类对骑自行车的热情。人工智能提供了时间和精力管理方面的指导，以及个性化的学习策略。他们强调了骑自行车对健康和环境的好处，询问了人类的骑自行车习惯，并强调了安全性。在最新的交流中，人工智能表现出对人类兴趣的深刻理解，并在骑自行车建议和健康食谱方面提供持续支持，以增强人类的精力和整体骑自行车体验。”}"
      ],
      "metadata": {
        "id": "RQsVMQz9oKMo"
      }
    },
    {
      "cell_type": "code",
      "source": [
        "# 总结性的输出\n",
        "conversation_with_summary.predict(input=\"帮我写关于今天聊天的生活日记\")"
      ],
      "metadata": {
        "colab": {
          "base_uri": "https://localhost:8080/",
          "height": 419
        },
        "id": "upT9Bh6IovyL",
        "outputId": "072ac6cc-5c28-4cbc-f999-da681d85a203"
      },
      "execution_count": 19,
      "outputs": [
        {
          "output_type": "stream",
          "name": "stdout",
          "text": [
            "\n",
            "\n",
            "\u001b[1m> Entering new ConversationChain chain...\u001b[0m\n",
            "Prompt after formatting:\n",
            "\u001b[32;1m\u001b[1;3mThe following is a friendly conversation between a human and an AI. The AI is talkative and provides lots of specific details from its context. If the AI does not know the answer to a question, it truthfully says it does not know.\n",
            "\n",
            "Current conversation:\n",
            "The human and AI have engaged in an extensive conversation about maintaining a healthy lifestyle, including work-life balance, relationships, study tips, cooking pleasures, and the human's love for cycling. The AI has offered guidance on time and energy management, personalized learning strategies, and highlighted the health and environmental advantages of cycling, along with discussing safety. Recognizing the human's interests, the AI has expressed its willingness to provide ongoing support with cycling advice and healthy recipes. In the latest development, the human has requested the AI to help write a life diary, to which the AI has agreed and inquired about the desired theme and structure to tailor the content accordingly.\n",
            "Human: 帮我写关于今天聊天的生活日记\n",
            "AI:\u001b[0m\n",
            "\n",
            "\u001b[1m> Finished chain.\u001b[0m\n"
          ]
        },
        {
          "output_type": "execute_result",
          "data": {
            "text/plain": [
              "'当然可以！首先，我想确认一下您想要的生活日记的主题和结构。根据我们今天的聊天内容，我认为可以围绕“健康生活与自我成长”的主题来展开。以下是关于今天聊天的生活日记草稿：\\n\\n---\\n\\n**生活日记：健康生活与自我成长**\\n\\n今天，我与一位热爱生活、注重健康的朋友进行了一场深入的交流。我们谈论了工作与生活的平衡、人际关系、学习技巧、烹饪乐趣以及对方对骑行的热爱。\\n\\n在谈到工作与生活平衡时，我意识到合理安排时间与精力对于保持健康生活至关重要。于是，我分享了关于时间管理和能量管理的建议，希望能帮助朋友更好地应对生活和工作中的挑战。\\n\\n在人际关系方面，我们探讨了保持真诚、倾听和尊重他人的重要性。此外，我还提供了一些学习策略，以帮助朋友在繁忙的生活中不断提升自我。\\n\\n最让我印象深刻的是，朋友对骑行的热爱。我们讨论了骑行对健康和环境的好处，以及骑行安全的相关知识。我深知骑行带给朋友的快乐，因此承诺会持续提供骑行建议和健康食谱，支持朋友在健康生活道路上越走越远。\\n\\n以下是今天的一些感悟和收获：\\n\\n1. 健康生活不仅需要锻炼身体，还要关注心理健康和人际关系。\\n2. 学会时间管理和能量管理，能让我们更高效地平衡工作与生活。\\n3. 保持学习，不断提升自我，是自我成长的关键。\\n4. 骑行是一种很好的锻炼方式，不仅能锻炼身体，还能让我们亲近自然，享受生活。\\n\\n在接下来的日子里，我将继续与这位朋友一起探讨健康生活的话题，并分享更多实用的建议和心得。期待我们在健康生活的道路上相互鼓励，共同成长！\\n\\n---\\n\\n这只是一个初步的草稿，如果您有其他想法或者需要修改的地方，请随时告诉我，我会为您修改和完善。'"
            ],
            "application/vnd.google.colaboratory.intrinsic+json": {
              "type": "string"
            }
          },
          "metadata": {},
          "execution_count": 19
        }
      ]
    }
  ]
}