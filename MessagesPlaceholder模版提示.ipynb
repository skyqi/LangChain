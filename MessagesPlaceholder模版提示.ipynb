{
  "cells": [
    {
      "cell_type": "markdown",
      "metadata": {
        "id": "view-in-github",
        "colab_type": "text"
      },
      "source": [
        "<a href=\"https://colab.research.google.com/github/skyqi/LangChain/blob/main/MessagesPlaceholder%E6%A8%A1%E7%89%88%E6%8F%90%E7%A4%BA.ipynb\" target=\"_parent\"><img src=\"https://colab.research.google.com/assets/colab-badge.svg\" alt=\"Open In Colab\"/></a>"
      ]
    },
    {
      "cell_type": "code",
      "execution_count": 18,
      "metadata": {
        "id": "sDhb_mY0oA53"
      },
      "outputs": [],
      "source": [
        "import os\n",
        "import getpass\n",
        "\n",
        "api_key = os.getenv(\"ZHIPUAI_API_KEY\")\n",
        "if api_key is None:\n",
        "  os.environ[\"ZHIPUAI_API_KEY\"] = getpass.getpass()"
      ]
    },
    {
      "cell_type": "code",
      "source": [
        "# !pip install --upgrade --quiet  pillow\n",
        "# !pip install langchain langchain_community\n",
        "# !pip install --upgrade httpx httpx-sse PyJWT"
      ],
      "metadata": {
        "id": "1xHPQ3GL8dGC"
      },
      "execution_count": null,
      "outputs": []
    },
    {
      "cell_type": "code",
      "execution_count": 23,
      "metadata": {
        "collapsed": true,
        "id": "qFcpTZ_EoBtG"
      },
      "outputs": [],
      "source": [
        "from langchain_community.chat_models import ChatZhipuAI\n",
        "from langchain_core.runnables.history import RunnableWithMessageHistory\n",
        "from langchain_core.messages import AIMessage, HumanMessage, SystemMessage\n",
        "from langchain.chains import ConversationChain\n",
        "\n",
        "model = ChatZhipuAI(\n",
        "    model=\"glm-4\",\n",
        "    temperature=0.5,\n",
        ")"
      ]
    },
    {
      "cell_type": "code",
      "source": [
        "#提示模板\n",
        "from langchain_core.prompts import ChatPromptTemplate, MessagesPlaceholder\n",
        "\n",
        "prompt = ChatPromptTemplate.from_messages(\n",
        "[\n",
        "    (\n",
        "        \"system\",\n",
        "        \"你是一名答题能手，可以回复用户的很多问题\",\n",
        "    ),\n",
        "    MessagesPlaceholder(variable_name=\"messages\"),\n",
        "    ]\n",
        ")\n",
        "\n",
        "chain = prompt | model\n"
      ],
      "metadata": {
        "id": "KrgfcXIf804f"
      },
      "execution_count": 24,
      "outputs": []
    },
    {
      "cell_type": "code",
      "source": [
        "#传递一个带有messages键的字典，其中包含消息列表。\n",
        "chain.invoke({\"messages\": [HumanMessage(content=\"hi!我是黑金\")]})"
      ],
      "metadata": {
        "colab": {
          "base_uri": "https://localhost:8080/"
        },
        "id": "_cvsXrB581Dl",
        "outputId": "2ce0b02a-80c8-4553-b6c7-99bc8d0af3ef"
      },
      "execution_count": 25,
      "outputs": [
        {
          "output_type": "execute_result",
          "data": {
            "text/plain": [
              "AIMessage(content='你好！作为答题能手，我很乐意帮助你解答问题。请告诉我你想要了解的内容，我会尽力提供准确的答案。', response_metadata={'token_usage': {'completion_tokens': 27, 'prompt_tokens': 22, 'total_tokens': 49}, 'model_name': 'glm-4', 'finish_reason': 'stop'}, id='run-520edc76-7a82-41a5-aa3b-48e36d673c02-0')"
            ]
          },
          "metadata": {},
          "execution_count": 25
        }
      ]
    },
    {
      "cell_type": "code",
      "source": [
        "#传递一个带有messages键的字典，其中包含消息列表。\n",
        "chain.invoke({\"messages\": [HumanMessage(content=\"hi!我的电脑运行时间长了经常蓝屏是什么情况\")]})"
      ],
      "metadata": {
        "colab": {
          "base_uri": "https://localhost:8080/"
        },
        "id": "NjchfZdT-LO0",
        "outputId": "dfdfd087-5f3b-4280-c3bd-a0a7a68482be"
      },
      "execution_count": 26,
      "outputs": [
        {
          "output_type": "execute_result",
          "data": {
            "text/plain": [
              "AIMessage(content='电脑长时间运行后出现蓝屏可能是多种原因造成的。蓝屏通常意味着操作系统遇到了无法恢复的错误，不得不停止运行以保护电脑免受损害。以下是一些可能导致蓝屏的常见原因：\\n\\n1. 硬件故障：比如内存条、硬盘、显卡等硬件出现问题。\\n2. 系统过热：电脑长时间运行可能导致某些部件过热，触发保护机制。\\n3. 驱动程序问题：不兼容或损坏的驱动程序可能导致蓝屏。\\n4. 系统文件损坏：Windows操作系统中某些关键文件损坏可能导致蓝屏。\\n5. 软件冲突：安装的某些程序可能与操作系统或其他软件发生冲突。\\n6. 病毒或恶意软件：病毒感染可能破坏系统稳定性，导致蓝屏。\\n7. 硬件不兼容：新安装的硬件可能与现有系统不兼容。\\n\\n解决方法：\\n- 检查电脑是否过热，清理风扇和散热片，确保通风良好。\\n- 使用杀毒软件进行全盘扫描，清除病毒和恶意软件。\\n- 更新或回滚最近更新的驱动程序。\\n- 如果最近安装了新硬件，请检查其兼容性，并尝试移除新硬件看问题是否解决。\\n- 使用系统文件检查器（sfc /scannow）检查系统文件损坏情况。\\n- 尝试进入安全模式，查看问题是否依然存在。\\n- 如果上述方法都无法解决问题，可能需要考虑联系专业的电脑维修服务。\\n\\n记住，在处理电脑问题时，确保备份重要数据，以防不测。', response_metadata={'token_usage': {'completion_tokens': 322, 'prompt_tokens': 29, 'total_tokens': 351}, 'model_name': 'glm-4', 'finish_reason': 'stop'}, id='run-e53b6ddb-01a0-41e6-a7ea-96729a0d02e4-0')"
            ]
          },
          "metadata": {},
          "execution_count": 26
        }
      ]
    },
    {
      "cell_type": "markdown",
      "metadata": {
        "id": "HP_QY8hToHX4"
      },
      "source": []
    },
    {
      "cell_type": "code",
      "execution_count": null,
      "metadata": {
        "id": "swjQXOkT0rAJ"
      },
      "outputs": [],
      "source": [
        "#第二方式，\n",
        "#对话小结式提示模板\n",
        "from langchain import PromptTemplate\n",
        "SUMMARIZER_TEMPLATE=\"\"\"请将以下内容逐步概括所提供的对话内容，并将新的橛括添加到之前的概括中，形成新的概括。\n",
        "\n",
        "EXAMPLE\n",
        "Current summary:\n",
        "Human询问AI对人工智能的看法。AI认为人工智能是一种积极的力量。\n",
        "New lines of conversation:\n",
        "Human:为什么你认为人工智能是一种积极的力量?\n",
        "AI:因为人工智能将帮助人类发挥他们的潜能。\n",
        "\n",
        "New summary:\n",
        "Human询问AI对人]ǐ智能的看法。AI认为人工智能是一种积极的力量，因为它将帮助人类发挥他们的潜能。\n",
        "END OF EXAMPLE\n",
        "\n",
        "Current summary:\n",
        "{summary}\n",
        "\n",
        "New lines of conversation:\n",
        "{new_lines}\n",
        "\n",
        "New summary:\"\"\"\n",
        "\n",
        "SUMMARY_PROMPT = PromptTemplate(\n",
        "  input_variables=[\"summary\",\"new_lines\"],\n",
        "  template=SUMMARIZER_TEMPLATE\n",
        ")"
      ]
    },
    {
      "cell_type": "code",
      "execution_count": null,
      "metadata": {
        "id": "TX9TAwYyoDGZ"
      },
      "outputs": [],
      "source": [
        "from langchain.memory import ConversationSummaryBufferMemory\n",
        "memory = ConversationSummaryBufferMemory(llm=model,prompt=SUMMARY_PROMPT,max_token_limit=40)\n",
        "#手动存入历史记录\n",
        "memory.save_context({\"input\": \"你好\"}, {\"output\": \"你好，我是客户欢欢，有什么可以帮助您的么\"})\n",
        "memory.save_context({\"input\": \"我是黑金，我在你们这下了一个订单，订单号是B20460613A,我的邮箱是abc123@bcd.com.前天下的订单还没有收到货，请帮助查一下\"},\n",
        " {\"output\": \"好的。正在为查询您的订单\"})"
      ]
    },
    {
      "cell_type": "code",
      "execution_count": null,
      "metadata": {
        "colab": {
          "base_uri": "https://localhost:8080/"
        },
        "id": "fARJBuajtzoG",
        "outputId": "92412543-55ea-4632-de28-179db07ea291"
      },
      "outputs": [
        {
          "data": {
            "text/plain": [
              "{'history': 'System: Human与AI打招呼，AI自我介绍为客户欢欢，并表示愿意提供帮助。在Human表达了想了解售后服务的意愿后，AI说明了提供7*24小时的在线客服支持。随后，Human作为黑金客户，提供了自己的订单号和邮箱，并请求AI帮助查询前天下的订单B20460613A为何还未收到货的情况。 \\n\\nNew summary: \\nHuman与AI客户欢欢打招呼，并询问售后服务。AI介绍了全天候在线客服支持，并在黑金客户提供订单号B20460613A和邮箱abc123@bcd.com后，被请求帮助查询未收货的订单情况。\\nAI: 好的。正在为查询您的订单'}"
            ]
          },
          "execution_count": 13,
          "metadata": {},
          "output_type": "execute_result"
        }
      ],
      "source": [
        "#打印的小结\n",
        "memory.load_memory_variables({})"
      ]
    }
  ],
  "metadata": {
    "colab": {
      "provenance": [],
      "authorship_tag": "ABX9TyPMS8/CbfqN66HvMk6r+jEI",
      "include_colab_link": true
    },
    "kernelspec": {
      "display_name": "Python 3",
      "name": "python3"
    },
    "language_info": {
      "name": "python"
    }
  },
  "nbformat": 4,
  "nbformat_minor": 0
}