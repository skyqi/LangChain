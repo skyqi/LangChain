{
  "nbformat": 4,
  "nbformat_minor": 0,
  "metadata": {
    "colab": {
      "provenance": [],
      "authorship_tag": "ABX9TyPka4ERdajZiWVqhzy34TIX",
      "include_colab_link": true
    },
    "kernelspec": {
      "name": "python3",
      "display_name": "Python 3"
    },
    "language_info": {
      "name": "python"
    }
  },
  "cells": [
    {
      "cell_type": "markdown",
      "metadata": {
        "id": "view-in-github",
        "colab_type": "text"
      },
      "source": [
        "<a href=\"https://colab.research.google.com/github/skyqi/LangChain/blob/main/%E9%93%BE%E6%8E%A5%E8%BE%93%E5%87%BA%E7%9A%84%E5%A4%9A%E7%A7%8D%E5%BD%A2%E5%BC%8F.ipynb\" target=\"_parent\"><img src=\"https://colab.research.google.com/assets/colab-badge.svg\" alt=\"Open In Colab\"/></a>"
      ]
    },
    {
      "cell_type": "code",
      "execution_count": 1,
      "metadata": {
        "colab": {
          "base_uri": "https://localhost:8080/"
        },
        "collapsed": true,
        "id": "r_ypczasNBcK",
        "outputId": "8295cbe0-039c-4094-b614-b780c5dfb0b9"
      },
      "outputs": [
        {
          "output_type": "stream",
          "name": "stdout",
          "text": [
            "\u001b[2K     \u001b[90m━━━━━━━━━━━━━━━━━━━━━━━━━━━━━━━━━━━━━━━━\u001b[0m \u001b[32m4.5/4.5 MB\u001b[0m \u001b[31m20.5 MB/s\u001b[0m eta \u001b[36m0:00:00\u001b[0m\n",
            "\u001b[2K     \u001b[90m━━━━━━━━━━━━━━━━━━━━━━━━━━━━━━━━━━━━━━━━\u001b[0m \u001b[32m321.8/321.8 kB\u001b[0m \u001b[31m13.6 MB/s\u001b[0m eta \u001b[36m0:00:00\u001b[0m\n",
            "\u001b[2K     \u001b[90m━━━━━━━━━━━━━━━━━━━━━━━━━━━━━━━━━━━━━━━━\u001b[0m \u001b[32m127.1/127.1 kB\u001b[0m \u001b[31m5.2 MB/s\u001b[0m eta \u001b[36m0:00:00\u001b[0m\n",
            "\u001b[2K     \u001b[90m━━━━━━━━━━━━━━━━━━━━━━━━━━━━━━━━━━━━━━━━\u001b[0m \u001b[32m145.0/145.0 kB\u001b[0m \u001b[31m2.9 MB/s\u001b[0m eta \u001b[36m0:00:00\u001b[0m\n",
            "\u001b[?25h\u001b[31mERROR: pip's dependency resolver does not currently take into account all the packages that are installed. This behaviour is the source of the following dependency conflicts.\n",
            "imageio 2.31.6 requires pillow<10.1.0,>=8.3.2, but you have pillow 10.3.0 which is incompatible.\u001b[0m\u001b[31m\n",
            "\u001b[0mCollecting langchain\n",
            "  Downloading langchain-0.2.5-py3-none-any.whl (974 kB)\n",
            "\u001b[2K     \u001b[90m━━━━━━━━━━━━━━━━━━━━━━━━━━━━━━━━━━━━━━━━\u001b[0m \u001b[32m974.6/974.6 kB\u001b[0m \u001b[31m12.4 MB/s\u001b[0m eta \u001b[36m0:00:00\u001b[0m\n",
            "\u001b[?25hCollecting langchain_community\n",
            "  Downloading langchain_community-0.2.5-py3-none-any.whl (2.2 MB)\n",
            "\u001b[2K     \u001b[90m━━━━━━━━━━━━━━━━━━━━━━━━━━━━━━━━━━━━━━━━\u001b[0m \u001b[32m2.2/2.2 MB\u001b[0m \u001b[31m67.0 MB/s\u001b[0m eta \u001b[36m0:00:00\u001b[0m\n",
            "\u001b[?25hRequirement already satisfied: PyYAML>=5.3 in /usr/local/lib/python3.10/dist-packages (from langchain) (6.0.1)\n",
            "Requirement already satisfied: SQLAlchemy<3,>=1.4 in /usr/local/lib/python3.10/dist-packages (from langchain) (2.0.30)\n",
            "Requirement already satisfied: aiohttp<4.0.0,>=3.8.3 in /usr/local/lib/python3.10/dist-packages (from langchain) (3.9.5)\n",
            "Requirement already satisfied: async-timeout<5.0.0,>=4.0.0 in /usr/local/lib/python3.10/dist-packages (from langchain) (4.0.3)\n",
            "Requirement already satisfied: langchain-core<0.3.0,>=0.2.7 in /usr/local/lib/python3.10/dist-packages (from langchain) (0.2.9)\n",
            "Collecting langchain-text-splitters<0.3.0,>=0.2.0 (from langchain)\n",
            "  Downloading langchain_text_splitters-0.2.1-py3-none-any.whl (23 kB)\n",
            "Requirement already satisfied: langsmith<0.2.0,>=0.1.17 in /usr/local/lib/python3.10/dist-packages (from langchain) (0.1.81)\n",
            "Requirement already satisfied: numpy<2,>=1 in /usr/local/lib/python3.10/dist-packages (from langchain) (1.25.2)\n",
            "Requirement already satisfied: pydantic<3,>=1 in /usr/local/lib/python3.10/dist-packages (from langchain) (2.7.4)\n",
            "Requirement already satisfied: requests<3,>=2 in /usr/local/lib/python3.10/dist-packages (from langchain) (2.31.0)\n",
            "Requirement already satisfied: tenacity<9.0.0,>=8.1.0 in /usr/local/lib/python3.10/dist-packages (from langchain) (8.4.1)\n",
            "Collecting dataclasses-json<0.7,>=0.5.7 (from langchain_community)\n",
            "  Downloading dataclasses_json-0.6.7-py3-none-any.whl (28 kB)\n",
            "Requirement already satisfied: aiosignal>=1.1.2 in /usr/local/lib/python3.10/dist-packages (from aiohttp<4.0.0,>=3.8.3->langchain) (1.3.1)\n",
            "Requirement already satisfied: attrs>=17.3.0 in /usr/local/lib/python3.10/dist-packages (from aiohttp<4.0.0,>=3.8.3->langchain) (23.2.0)\n",
            "Requirement already satisfied: frozenlist>=1.1.1 in /usr/local/lib/python3.10/dist-packages (from aiohttp<4.0.0,>=3.8.3->langchain) (1.4.1)\n",
            "Requirement already satisfied: multidict<7.0,>=4.5 in /usr/local/lib/python3.10/dist-packages (from aiohttp<4.0.0,>=3.8.3->langchain) (6.0.5)\n",
            "Requirement already satisfied: yarl<2.0,>=1.0 in /usr/local/lib/python3.10/dist-packages (from aiohttp<4.0.0,>=3.8.3->langchain) (1.9.4)\n",
            "Collecting marshmallow<4.0.0,>=3.18.0 (from dataclasses-json<0.7,>=0.5.7->langchain_community)\n",
            "  Downloading marshmallow-3.21.3-py3-none-any.whl (49 kB)\n",
            "\u001b[2K     \u001b[90m━━━━━━━━━━━━━━━━━━━━━━━━━━━━━━━━━━━━━━━━\u001b[0m \u001b[32m49.2/49.2 kB\u001b[0m \u001b[31m6.4 MB/s\u001b[0m eta \u001b[36m0:00:00\u001b[0m\n",
            "\u001b[?25hCollecting typing-inspect<1,>=0.4.0 (from dataclasses-json<0.7,>=0.5.7->langchain_community)\n",
            "  Downloading typing_inspect-0.9.0-py3-none-any.whl (8.8 kB)\n",
            "Requirement already satisfied: jsonpatch<2.0,>=1.33 in /usr/local/lib/python3.10/dist-packages (from langchain-core<0.3.0,>=0.2.7->langchain) (1.33)\n",
            "Requirement already satisfied: packaging<25,>=23.2 in /usr/local/lib/python3.10/dist-packages (from langchain-core<0.3.0,>=0.2.7->langchain) (24.1)\n",
            "Requirement already satisfied: orjson<4.0.0,>=3.9.14 in /usr/local/lib/python3.10/dist-packages (from langsmith<0.2.0,>=0.1.17->langchain) (3.10.5)\n",
            "Requirement already satisfied: annotated-types>=0.4.0 in /usr/local/lib/python3.10/dist-packages (from pydantic<3,>=1->langchain) (0.7.0)\n",
            "Requirement already satisfied: pydantic-core==2.18.4 in /usr/local/lib/python3.10/dist-packages (from pydantic<3,>=1->langchain) (2.18.4)\n",
            "Requirement already satisfied: typing-extensions>=4.6.1 in /usr/local/lib/python3.10/dist-packages (from pydantic<3,>=1->langchain) (4.12.2)\n",
            "Requirement already satisfied: charset-normalizer<4,>=2 in /usr/local/lib/python3.10/dist-packages (from requests<3,>=2->langchain) (3.3.2)\n",
            "Requirement already satisfied: idna<4,>=2.5 in /usr/local/lib/python3.10/dist-packages (from requests<3,>=2->langchain) (3.7)\n",
            "Requirement already satisfied: urllib3<3,>=1.21.1 in /usr/local/lib/python3.10/dist-packages (from requests<3,>=2->langchain) (2.0.7)\n",
            "Requirement already satisfied: certifi>=2017.4.17 in /usr/local/lib/python3.10/dist-packages (from requests<3,>=2->langchain) (2024.6.2)\n",
            "Requirement already satisfied: greenlet!=0.4.17 in /usr/local/lib/python3.10/dist-packages (from SQLAlchemy<3,>=1.4->langchain) (3.0.3)\n",
            "Requirement already satisfied: jsonpointer>=1.9 in /usr/local/lib/python3.10/dist-packages (from jsonpatch<2.0,>=1.33->langchain-core<0.3.0,>=0.2.7->langchain) (3.0.0)\n",
            "Collecting mypy-extensions>=0.3.0 (from typing-inspect<1,>=0.4.0->dataclasses-json<0.7,>=0.5.7->langchain_community)\n",
            "  Downloading mypy_extensions-1.0.0-py3-none-any.whl (4.7 kB)\n",
            "Installing collected packages: mypy-extensions, marshmallow, typing-inspect, dataclasses-json, langchain-text-splitters, langchain, langchain_community\n",
            "Successfully installed dataclasses-json-0.6.7 langchain-0.2.5 langchain-text-splitters-0.2.1 langchain_community-0.2.5 marshmallow-3.21.3 mypy-extensions-1.0.0 typing-inspect-0.9.0\n",
            "Collecting httpx\n",
            "  Downloading httpx-0.27.0-py3-none-any.whl (75 kB)\n",
            "\u001b[2K     \u001b[90m━━━━━━━━━━━━━━━━━━━━━━━━━━━━━━━━━━━━━━━━\u001b[0m \u001b[32m75.6/75.6 kB\u001b[0m \u001b[31m2.0 MB/s\u001b[0m eta \u001b[36m0:00:00\u001b[0m\n",
            "\u001b[?25hCollecting httpx-sse\n",
            "  Downloading httpx_sse-0.4.0-py3-none-any.whl (7.8 kB)\n",
            "Requirement already satisfied: PyJWT in /usr/lib/python3/dist-packages (2.3.0)\n",
            "Collecting PyJWT\n",
            "  Downloading PyJWT-2.8.0-py3-none-any.whl (22 kB)\n",
            "Requirement already satisfied: anyio in /usr/local/lib/python3.10/dist-packages (from httpx) (3.7.1)\n",
            "Requirement already satisfied: certifi in /usr/local/lib/python3.10/dist-packages (from httpx) (2024.6.2)\n",
            "Collecting httpcore==1.* (from httpx)\n",
            "  Downloading httpcore-1.0.5-py3-none-any.whl (77 kB)\n",
            "\u001b[2K     \u001b[90m━━━━━━━━━━━━━━━━━━━━━━━━━━━━━━━━━━━━━━━━\u001b[0m \u001b[32m77.9/77.9 kB\u001b[0m \u001b[31m4.5 MB/s\u001b[0m eta \u001b[36m0:00:00\u001b[0m\n",
            "\u001b[?25hRequirement already satisfied: idna in /usr/local/lib/python3.10/dist-packages (from httpx) (3.7)\n",
            "Requirement already satisfied: sniffio in /usr/local/lib/python3.10/dist-packages (from httpx) (1.3.1)\n",
            "Collecting h11<0.15,>=0.13 (from httpcore==1.*->httpx)\n",
            "  Downloading h11-0.14.0-py3-none-any.whl (58 kB)\n",
            "\u001b[2K     \u001b[90m━━━━━━━━━━━━━━━━━━━━━━━━━━━━━━━━━━━━━━━━\u001b[0m \u001b[32m58.3/58.3 kB\u001b[0m \u001b[31m5.5 MB/s\u001b[0m eta \u001b[36m0:00:00\u001b[0m\n",
            "\u001b[?25hRequirement already satisfied: exceptiongroup in /usr/local/lib/python3.10/dist-packages (from anyio->httpx) (1.2.1)\n",
            "Installing collected packages: PyJWT, httpx-sse, h11, httpcore, httpx\n",
            "  Attempting uninstall: PyJWT\n",
            "    Found existing installation: PyJWT 2.3.0\n",
            "    Uninstalling PyJWT-2.3.0:\n",
            "      Successfully uninstalled PyJWT-2.3.0\n",
            "Successfully installed PyJWT-2.8.0 h11-0.14.0 httpcore-1.0.5 httpx-0.27.0 httpx-sse-0.4.0\n"
          ]
        }
      ],
      "source": [
        "!pip install --upgrade --quiet  langchain-google-genai pillow\n",
        "!pip install langchain langchain_community\n",
        "!pip install --upgrade httpx httpx-sse PyJWT"
      ]
    },
    {
      "cell_type": "code",
      "source": [
        "import os\n",
        "import getpass\n",
        "\n",
        "api_key = os.getenv(\"ZHIPUAI_API_KEY\")\n",
        "if api_key is None:\n",
        "  os.environ[\"ZHIPUAI_API_KEY\"] = getpass.getpass()"
      ],
      "metadata": {
        "colab": {
          "base_uri": "https://localhost:8080/"
        },
        "id": "f-PwoKhZNvK5",
        "outputId": "4872f521-efd2-4a18-c44c-426debb0d71f"
      },
      "execution_count": 2,
      "outputs": [
        {
          "name": "stdout",
          "output_type": "stream",
          "text": [
            "··········\n"
          ]
        }
      ]
    },
    {
      "cell_type": "code",
      "source": [
        "from langchain_community.chat_models import ChatZhipuAI\n",
        "\n",
        "\n",
        "from langchain_core.runnables.history import RunnableWithMessageHistory\n",
        "from langchain_core.messages import AIMessage, HumanMessage, SystemMessage\n",
        "from langchain.chains import ConversationChain\n",
        "\n",
        "llm = ChatZhipuAI(\n",
        "    model=\"glm-4\",\n",
        "    temperature=0.5,\n",
        ")"
      ],
      "metadata": {
        "id": "8FSiyaO4NvNd"
      },
      "execution_count": 3,
      "outputs": []
    },
    {
      "cell_type": "code",
      "source": [
        "# 使用Pydantic创建数据格式\n",
        "from pydantic import BaseModel, Field\n",
        "from typing import List\n",
        "\n",
        "class Flower(BaseModel):\n",
        "    name: str = Field(description=\"name of a flower\")\n",
        "    colors: List[str] = Field(description=\"the colors of this flower\")\n"
      ],
      "metadata": {
        "id": "VtB2YsjwNvQj"
      },
      "execution_count": 5,
      "outputs": []
    },
    {
      "cell_type": "code",
      "source": [
        "from langchain.prompts import PromptTemplate\n",
        "from langchain.chains import LLMChain\n",
        "template = \"{flower}的花语是？\"\n",
        "prompt = PromptTemplate.from_template(template)"
      ],
      "metadata": {
        "id": "3JyHuEgMNvTa"
      },
      "execution_count": 11,
      "outputs": []
    },
    {
      "cell_type": "code",
      "source": [
        "# 初始化LLMChain\n",
        "llm_chain = LLMChain(\n",
        "    llm=llm,\n",
        "    prompt=prompt\n",
        ")\n",
        "llm_chain.invoke(\"玫瑰\")"
      ],
      "metadata": {
        "colab": {
          "base_uri": "https://localhost:8080/"
        },
        "id": "EXM1hOTSNvWI",
        "outputId": "33640d07-46f7-495e-aa0e-93a546f87a0a"
      },
      "execution_count": 12,
      "outputs": [
        {
          "output_type": "stream",
          "name": "stderr",
          "text": [
            "/usr/local/lib/python3.10/dist-packages/langchain_core/_api/deprecation.py:139: LangChainDeprecationWarning: The class `LLMChain` was deprecated in LangChain 0.1.17 and will be removed in 0.3.0. Use RunnableSequence, e.g., `prompt | llm` instead.\n",
            "  warn_deprecated(\n"
          ]
        },
        {
          "output_type": "execute_result",
          "data": {
            "text/plain": [
              "{'flower': '玫瑰',\n",
              " 'text': '玫瑰花语丰富多彩，不同颜色、数量的玫瑰代表着不同的含义和情感。\\n\\n颜色的花语如下：\\n- 红玫瑰代表热情、热爱着你，象征着我爱你、热恋，希望与你泛起激情的爱。\\n- 蓝玫瑰象征着敦厚、善良，也代表浪漫的爱情和美丽的梦想。\\n- 粉红玫瑰表达感动、爱的宣言、铭记于心，代表着初恋，喜欢你那灿烂的笑容。\\n- 白玫瑰象征天真、纯洁、尊敬和谦卑。\\n- 黄玫瑰有多种含义，可以表示不贞、嫉妒，也可以是欢乐、高兴、道歉。\\n- 紫玫瑰代表忧郁、梦幻，爱做梦。\\n- 橙玫瑰表示羞怯，献给你一份神秘的爱。\\n- 绿玫瑰代表纯真简朴、青春长驻，我只钟情你一个。\\n\\n数量的花语包括：\\n- 1朵玫瑰代表你是我的唯一。\\n- 2朵玫瑰表示世界上只有你和我。\\n- 3朵玫瑰代表“我爱你”（I love you）。\\n- 4朵玫瑰象征誓言和承诺。\\n- 5朵玫瑰表示无悔。\\n- 6朵玫瑰代表顺心如意、顺利、永结同心。\\n\\n此外，还有其他数量的玫瑰代表不同的意义，如99朵代表天长地久，100朵代表百分之百的爱，等等。\\n\\n玫瑰花以其美丽的外观和丰富的花语，成为表达情感和传递爱意的绝佳选择。'}"
            ]
          },
          "metadata": {},
          "execution_count": 12
        }
      ]
    },
    {
      "cell_type": "code",
      "source": [
        "input_list = [\n",
        "    { 'flower': \"玫瑰\", 'season': \"夏季\" },\n",
        "    { 'flower': \"康乃馨\", 'season': \"冬季\" },\n",
        "    { 'flower': \"郁金香\", 'season': \"春季\" },\n",
        "]\n",
        "print(llm_chain.run(input_list))"
      ],
      "metadata": {
        "colab": {
          "base_uri": "https://localhost:8080/"
        },
        "id": "RW9EuC9yNvYx",
        "outputId": "cf7c227d-42aa-44e0-8e1d-1c8a846800ac"
      },
      "execution_count": 14,
      "outputs": [
        {
          "output_type": "stream",
          "name": "stdout",
          "text": [
            "每种花都有其特定的花语，通常与它们的特性、开花季节以及文化寓意有关。以下是您提供的三种花及其对应季节的花语：\n",
            "\n",
            "1. 玫瑰（夏季）：玫瑰象征着爱情和热情。不同颜色的玫瑰还有不同的含义，比如：\n",
            "   - 红玫瑰代表热烈的爱情。\n",
            "   - 粉玫瑰代表初恋或美好的祝愿。\n",
            "   - 白玫瑰代表纯洁或尊敬。\n",
            "   - 黄玫瑰代表友谊或关怀。\n",
            "\n",
            "   夏季的玫瑰花语通常与生命力和热情有关。\n",
            "\n",
            "2. 康乃馨（冬季）：康乃馨的花语是爱与魅力，它也代表着母爱和感恩。不同颜色的康乃馨也有不同的含义：\n",
            "   - 红康乃馨代表母爱。\n",
            "   - 粉康乃馨代表我永远不会忘记你。\n",
            "   - 白康乃馨代表纯洁的爱。\n",
            "\n",
            "   冬季的康乃馨花语可能与温暖、亲情和感恩有关。\n",
            "\n",
            "3. 郁金香（春季）：郁金香的花语是完美的爱情和名誉。它也代表着永恒的幸福和快乐。不同颜色的郁金香也有不同的含义：\n",
            "   - 红郁金香代表真爱。\n",
            "   - 紫郁金香代表尊贵和永恒。\n",
            "   - 黄郁金香代表快乐和阳光。\n",
            "\n",
            "   春季的郁金香花语通常与新生、希望和完美的爱情有关。\n",
            "\n",
            "请注意，花语会因地区和文化背景的不同而有所差异，上述花语是比较通用的解释。\n"
          ]
        }
      ]
    },
    {
      "cell_type": "code",
      "source": [
        "input_list = [\n",
        "    { 'flower': \"玫瑰\", 'season': \"夏季\" },\n",
        "    { 'flower': \"康乃馨\", 'season': \"冬季\" },\n",
        "    { 'flower': \"郁金香\", 'season': \"春季\" },\n",
        "]\n",
        "print(llm_chain.apply(input_list))"
      ],
      "metadata": {
        "colab": {
          "base_uri": "https://localhost:8080/"
        },
        "id": "xuYqDFMvNvbU",
        "outputId": "8f8477c0-2746-4cfa-cba4-f7f90edbe4ac"
      },
      "execution_count": 15,
      "outputs": [
        {
          "output_type": "stream",
          "name": "stdout",
          "text": [
            "[{'text': '玫瑰花作为情感表达的载体，其花语丰富而多样，不同颜色和数量的玫瑰代表着不同的含义。\\n\\n首先，红色玫瑰象征着爱情、热情和热恋，通常用来表达“我爱你”，是情侣间表达爱意的首选。\\n\\n粉色玫瑰则代表着初恋、感动以及温馨的爱，它传递着一种温柔的情感，适合向心仪的对象表白。\\n\\n蓝色玫瑰寓意着神秘、珍贵以及不可能实现的事，因其稀有而显得独特，常用来表达对某人的深情和唯一。\\n\\n白色玫瑰则代表着纯洁、天真和尊敬，它所传递的是一种清新脱俗的爱，也适合作为对长辈的敬意表达。\\n\\n黄色玫瑰有着多样的含义，可以是友情的祝福，也可以是道歉，但需注意，在某些情境下它可能代表着失恋或分手。\\n\\n紫色玫瑰则代表着忧郁、梦幻和浪漫，常用来表达一种深沉而神秘的情感。\\n\\n至于玫瑰的数量，也有其特定的含义：\\n- 一朵玫瑰代表“你是我的唯一”。\\n- 两朵玫瑰象征“只有你和我”。\\n- 三朵玫瑰表示“我爱你”。\\n- 四朵玫瑰代表“誓言与承诺”。\\n- 五朵玫瑰意味着“无悔的爱”。\\n- 六朵玫瑰则寓意“一切顺利”或“永结同心”。\\n\\n玫瑰花语是人们赋予花的文化意义，通过赠送不同颜色和数量的玫瑰，可以传递各种情感和信息。'}, {'text': '康乃馨的花语十分丰富，它代表着热情、魅力、温馨的爱、真情、母亲我爱你、慈祥、不求代价的母爱、宽容、浓郁的亲情、清纯的爱慕之情、热恋、热心、伤心与懊悔、伟大、神圣、慰问、心灵的相通、真挚、走运和思念等美好寓意。由于康乃馨的花语多样且具有深厚的情感象征，它常被用作表达对母亲的爱和感激之情的母亲节礼物。此外，不同颜色的康乃馨还有各自的特定含义，比如：\\n\\n- 红色康乃馨：代表爱情、热情和崇拜。\\n- 粉色康乃馨：通常与母爱、友情和感激联系在一起。\\n- 白色康乃馨：象征纯洁、纯真和无邪。\\n- 黄色康乃馨：表示友情和欢乐。\\n- 橙色康乃馨：代表欢乐和兴奋。\\n- 紫色康乃馨：通常与权力、尊严和尊敬相关联。\\n\\n康乃馨的这些花语使得它在多种场合都能作为合适的礼物，不仅限于母亲节，还包括毕业、三八节等，表达对亲人或朋友的美好祝愿和深厚情感。'}, {'text': '郁金香的花语十分丰富，它代表着爱、慈善、名誉、美丽、祝福和永恒等多种美好的寓意。不同颜色的郁金香还有各自独特的花语：\\n\\n- 红色郁金香代表热烈的爱意、爱的宣言、喜悦和热爱，是爱的象征。\\n- 粉色郁金香象征着永恒的爱、爱惜、幸福以及美人，常用来表达温馨的情感。\\n- 黄色郁金香的花语是开朗、高雅、珍贵、财富和友谊，给人一种阳光和乐观的感觉。\\n- 白色郁金香代表着纯洁清高的爱情、纯情，适合表达纯净无暇的情感。\\n- 紫色郁金香则代表无尽的爱、高贵的爱、最爱，寓意深刻而浪漫。\\n- 黑色郁金香较为少见，其花语包括神秘、高贵、独特领导权力或忧郁的爱情。\\n- 双色郁金香象征着美丽的相遇，适合作为相遇和友谊的礼物。\\n- 羽毛郁金香则寓意情意绵绵，适合送给亲密的朋友或挚爱。\\n\\n郁金香因其花型优雅、色彩丰富，成为表达情感和祝愿的极佳选择。'}]\n"
          ]
        }
      ]
    },
    {
      "cell_type": "code",
      "source": [
        "print(llm_chain.predict(flower=\"玫瑰\", season=\"夏季\"))"
      ],
      "metadata": {
        "colab": {
          "base_uri": "https://localhost:8080/"
        },
        "id": "tEru9FhGNvd2",
        "outputId": "710bda90-2927-4648-8c13-7bc9ba6f255f"
      },
      "execution_count": 16,
      "outputs": [
        {
          "output_type": "stream",
          "name": "stdout",
          "text": [
            "玫瑰花语丰富多样，长久以来它都是美丽和爱情的象征。不同颜色和数量的玫瑰花代表着不同的含义：\n",
            "\n",
            "- 颜色花语：\n",
            "  - 红玫瑰：代表热情、热爱、我爱你、热恋，希望与你共浴爱河。\n",
            "  - 蓝玫瑰：象征敦厚、善良。\n",
            "  - 粉红玫瑰：表示感动、爱的宣言、铭记于心、初恋，喜欢那灿烂的笑容。\n",
            "  - 白玫瑰：代表天真、纯洁、尊敬、谦卑。\n",
            "  - 黄玫瑰：含义有不贞、嫉妒，也有欢乐、高兴、道歉之意。\n",
            "  - 紫玫瑰：代表忧郁、梦幻、爱做梦。\n",
            "  - 橙玫瑰：象征羞怯、献给你一份神秘的爱。\n",
            "  - 绿玫瑰：代表纯真简朴、青春长驻，我只钟情你一个。\n",
            "\n",
            "- 数量花语：\n",
            "  - 1朵：你是我的唯一。\n",
            "  - 2朵：世界上只有你和我。\n",
            "  - 3朵：代表“我爱你”（I love you）。\n",
            "  - 4朵：象征誓言、承诺。\n",
            "  - 5朵：表示无悔。\n",
            "  - 6朵：代表顺心如意、顺利、永结同心。\n",
            "\n",
            "玫瑰花因其美丽的外观和丰富的花语，成为情侣间表达爱意的理想选择。在特定节日或纪念日，赠送不同颜色和数量的玫瑰花，可以传达各种美好的情感和愿望。\n"
          ]
        }
      ]
    },
    {
      "cell_type": "code",
      "source": [
        "print(llm_chain.generate(input_list))"
      ],
      "metadata": {
        "colab": {
          "base_uri": "https://localhost:8080/"
        },
        "id": "pLgXTEUwNvga",
        "outputId": "af4289ee-b8ec-4e9e-eb55-d7ff15089654"
      },
      "execution_count": 17,
      "outputs": [
        {
          "output_type": "stream",
          "name": "stdout",
          "text": [
            "generations=[[ChatGeneration(text='玫瑰花语丰富多样，不同颜色的玫瑰代表着不同的含义。以下是一些常见的玫瑰花语：\\n\\n- 红玫瑰：爱情、热情、我爱你\\n- 粉玫瑰：初恋、感谢、温柔的爱\\n- 白玫瑰：纯洁、尊敬、我值得你\\n- 黄玫瑰：友谊、关怀、快乐\\n- 橙玫瑰：激情、热情、渴望\\n- 紫玫瑰：魅力、神秘、爱情无望\\n- 蓝玫瑰：神秘、不可能的爱、渴望得到你\\n\\n当然，这些花语并非固定不变，不同文化和地区可能有不同的解读。送花时，人们还可以根据自己的意图赋予玫瑰特定的含义。', generation_info={'finish_reason': 'stop'}, message=AIMessage(content='玫瑰花语丰富多样，不同颜色的玫瑰代表着不同的含义。以下是一些常见的玫瑰花语：\\n\\n- 红玫瑰：爱情、热情、我爱你\\n- 粉玫瑰：初恋、感谢、温柔的爱\\n- 白玫瑰：纯洁、尊敬、我值得你\\n- 黄玫瑰：友谊、关怀、快乐\\n- 橙玫瑰：激情、热情、渴望\\n- 紫玫瑰：魅力、神秘、爱情无望\\n- 蓝玫瑰：神秘、不可能的爱、渴望得到你\\n\\n当然，这些花语并非固定不变，不同文化和地区可能有不同的解读。送花时，人们还可以根据自己的意图赋予玫瑰特定的含义。', response_metadata={'token_usage': {'completion_tokens': 137, 'prompt_tokens': 10, 'total_tokens': 147}, 'model_name': 'glm-4', 'finish_reason': 'stop'}, id='run-ef753b16-d574-4731-aa94-49ada238f690-0'))], [ChatGeneration(text='康乃馨的花语十分丰富，它代表着热情、魅力、温馨的爱、真情、母亲我爱你、慈祥、不求代价的母爱、宽容、浓郁的亲情、清纯的爱慕之情、热恋、热心、伤心与懊悔、伟大、神圣等多种美好的寓意。由于康乃馨的花色多样，不同的颜色还代表着不同的含义：\\n\\n- 红色康乃馨：通常象征着爱情、热情和崇拜。\\n- 粉色康乃馨：表达了母爱、友情和感激之情。\\n- 白色康乃馨：代表着纯洁、纯真、无邪和忠诚。\\n- 黄色康乃馨：通常象征着友情和欢乐。\\n- 橙色康乃馨：代表欢乐和兴奋。\\n- 紫色康乃馨：寓意权力、尊严和尊敬。\\n\\n康乃馨因其花语和象征意义，常被作为母亲节和三八妇女节等特殊节日的礼物，以表达对母亲和女性的尊敬与爱戴。', generation_info={'finish_reason': 'stop'}, message=AIMessage(content='康乃馨的花语十分丰富，它代表着热情、魅力、温馨的爱、真情、母亲我爱你、慈祥、不求代价的母爱、宽容、浓郁的亲情、清纯的爱慕之情、热恋、热心、伤心与懊悔、伟大、神圣等多种美好的寓意。由于康乃馨的花色多样，不同的颜色还代表着不同的含义：\\n\\n- 红色康乃馨：通常象征着爱情、热情和崇拜。\\n- 粉色康乃馨：表达了母爱、友情和感激之情。\\n- 白色康乃馨：代表着纯洁、纯真、无邪和忠诚。\\n- 黄色康乃馨：通常象征着友情和欢乐。\\n- 橙色康乃馨：代表欢乐和兴奋。\\n- 紫色康乃馨：寓意权力、尊严和尊敬。\\n\\n康乃馨因其花语和象征意义，常被作为母亲节和三八妇女节等特殊节日的礼物，以表达对母亲和女性的尊敬与爱戴。', response_metadata={'token_usage': {'completion_tokens': 207, 'prompt_tokens': 1653, 'total_tokens': 1860}, 'model_name': 'glm-4', 'finish_reason': 'stop'}, id='run-b77d3471-7a56-4d83-855d-34de6f580792-0'))], [ChatGeneration(text='郁金香的花语是“爱的告白”和“永恒的幸福”。在不同国家和地区，人们还会赋予郁金香不同的寓意，比如在荷兰，郁金香代表着名誉和祝福。郁金香以其优雅的姿态和丰富的色彩，成为表达爱意和美好愿望的极佳选择。', generation_info={'finish_reason': 'stop'}, message=AIMessage(content='郁金香的花语是“爱的告白”和“永恒的幸福”。在不同国家和地区，人们还会赋予郁金香不同的寓意，比如在荷兰，郁金香代表着名誉和祝福。郁金香以其优雅的姿态和丰富的色彩，成为表达爱意和美好愿望的极佳选择。', response_metadata={'token_usage': {'completion_tokens': 62, 'prompt_tokens': 12, 'total_tokens': 74}, 'model_name': 'glm-4', 'finish_reason': 'stop'}, id='run-2d6102a4-050f-4940-9733-08f0b309bb32-0'))]] llm_output={} run=[RunInfo(run_id=UUID('ef753b16-d574-4731-aa94-49ada238f690')), RunInfo(run_id=UUID('b77d3471-7a56-4d83-855d-34de6f580792')), RunInfo(run_id=UUID('2d6102a4-050f-4940-9733-08f0b309bb32'))]\n"
          ]
        }
      ]
    },
    {
      "cell_type": "code",
      "source": [],
      "metadata": {
        "id": "N25eBP9UNvjA"
      },
      "execution_count": null,
      "outputs": []
    }
  ]
}