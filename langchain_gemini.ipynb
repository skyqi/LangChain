{
  "nbformat": 4,
  "nbformat_minor": 0,
  "metadata": {
    "colab": {
      "provenance": [],
      "authorship_tag": "ABX9TyNKuvHaV83f+rotV1HwU/mW",
      "include_colab_link": true
    },
    "kernelspec": {
      "name": "python3",
      "display_name": "Python 3"
    },
    "language_info": {
      "name": "python"
    }
  },
  "cells": [
    {
      "cell_type": "markdown",
      "metadata": {
        "id": "view-in-github",
        "colab_type": "text"
      },
      "source": [
        "<a href=\"https://colab.research.google.com/github/skyqi/LangChain/blob/main/langchain_gemini.ipynb\" target=\"_parent\"><img src=\"https://colab.research.google.com/assets/colab-badge.svg\" alt=\"Open In Colab\"/></a>"
      ]
    },
    {
      "cell_type": "markdown",
      "source": [
        "2024-6-12\n",
        "\n",
        "在LangChain内\n",
        "使用Google AI聊天模型\n",
        "https://python.langchain.com/v0.2/docs/integrations/chat/google_generative_ai/#gemini-prompting-faqs\n"
      ],
      "metadata": {
        "id": "SFLJO45DMSpw"
      }
    },
    {
      "cell_type": "code",
      "execution_count": 24,
      "metadata": {
        "colab": {
          "base_uri": "https://localhost:8080/"
        },
        "id": "JNX_wOw6FU2h",
        "outputId": "1dec2dd4-3d09-47c0-c2d0-44637d32e4cd"
      },
      "outputs": [
        {
          "output_type": "stream",
          "name": "stdout",
          "text": [
            "··········\n",
            "**LangChain**\n",
            "\n",
            "LangChain 是一个由 Google AI 开发的大型语言模型 (LLM)，它具有以下特点：\n",
            "\n",
            "* **多模态：**LangChain 不仅可以处理文本，还可以处理图像、视频和音频。\n",
            "* **链式结构：**LangChain 由多个较小的子模型组成，这些子模型链式连接在一起，增强了整体性能。\n",
            "* **超大规模：**LangChain 是迄今为止训练过的最大的 LLM 之一，拥有超过 2800 亿个参数。\n",
            "* **跨模态理解：**LangChain 能够理解不同模态之间的关系，例如图像和文本之间的关系。\n",
            "* **推理和生成：**LangChain 可以用于各种任务，包括推理、生成、翻译和问答。\n",
            "\n",
            "**优势：**\n",
            "\n",
            "* 处理多模态数据的出色能力\n",
            "* 强大的跨模态理解和生成\n",
            "* 由于其链式结构而具有可扩展性和模块化\n",
            "* 在各种自然语言处理任务上表现出色\n",
            "\n",
            "**应用：**\n",
            "\n",
            "* 跨模态搜索\n",
            "* 图像和视频标注\n",
            "* 多模态问答\n",
            "* 机器翻译\n",
            "* 内容生成\n"
          ]
        }
      ],
      "source": [
        "from langchain_google_genai import ChatGoogleGenerativeAI\n",
        "from langchain.llms import OpenAI\n",
        "from langchain.agents import initialize_agent, Tool\n",
        "import os\n",
        "import getpass\n",
        "os.environ[\"GOOGLE_API_KEY\"] = getpass.getpass()\n",
        "\n",
        "llm = ChatGoogleGenerativeAI(model=\"gemini-pro\")\n",
        "result = llm.invoke(\"请简单说明一下LangChain\")\n",
        "print(result.content)\n",
        "\n"
      ]
    },
    {
      "cell_type": "markdown",
      "source": [],
      "metadata": {
        "id": "3n4mQR5lY4u0"
      }
    }
  ]
}